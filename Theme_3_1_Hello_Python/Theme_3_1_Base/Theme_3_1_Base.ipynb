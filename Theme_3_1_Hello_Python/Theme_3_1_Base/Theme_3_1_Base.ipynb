{
 "cells": [
  {
   "cell_type": "markdown",
   "id": "e7286d57-2917-4ee1-bf5b-c17a98cde06e",
   "metadata": {},
   "source": [
    "## Выполните следующие задания на Python:"
   ]
  },
  {
   "cell_type": "markdown",
   "id": "9cc75133-75b1-4d5e-ad14-146853a20516",
   "metadata": {},
   "source": [
    "## 1. Написать программу, которая удаляет из списка все элементы, стоящие на четных позициях."
   ]
  },
  {
   "cell_type": "markdown",
   "id": "360ce27e-698f-4409-93e0-54542be74cc7",
   "metadata": {},
   "source": [
    "- случай, когда список задан заранее:"
   ]
  },
  {
   "cell_type": "code",
   "execution_count": 23,
   "id": "4465d86a-a42c-47cb-a6ca-68472480e0a6",
   "metadata": {},
   "outputs": [
    {
     "name": "stdout",
     "output_type": "stream",
     "text": [
      "[2, 4, 6]\n"
     ]
    }
   ],
   "source": [
    "my_list = [1, 2, 3, 4, 5, 6]\n",
    "my_list = [i for i in my_list if i % 2 == 0]\n",
    "print(my_list)  "
   ]
  },
  {
   "cell_type": "markdown",
   "id": "206f4b8f-f2a7-47ad-9914-e06821478010",
   "metadata": {},
   "source": [
    "- случай, когда данные в список вводятся через пробел:"
   ]
  },
  {
   "cell_type": "code",
   "execution_count": 53,
   "id": "ab22b5e5-fccb-46f5-b7a0-29064e3dc776",
   "metadata": {},
   "outputs": [
    {
     "name": "stdin",
     "output_type": "stream",
     "text": [
      " 4 5 9 7 5 1 5 4 1 2 5 4 1 5 41 1\n"
     ]
    },
    {
     "name": "stdout",
     "output_type": "stream",
     "text": [
      "['5', '7', '1', '4', '2', '4', '5', '1']\n"
     ]
    }
   ],
   "source": [
    "my_list = input().split() # .split(', ') - входные данные разделены запятой и пробелом, .split(',') - если входные данные разделены запятой.\n",
    "del my_list[0::2]\n",
    "print(my_list)"
   ]
  },
  {
   "cell_type": "markdown",
   "id": "fa798aa2-c5b0-4638-b187-89f01aec337f",
   "metadata": {},
   "source": [
    "- случай, когда данные вводятся по 1 значению, по окончании ввода необходимо ввести \"stop\""
   ]
  },
  {
   "cell_type": "code",
   "execution_count": 18,
   "id": "e05ebd47-ded9-45db-a620-96cc8bec1d7c",
   "metadata": {},
   "outputs": [
    {
     "name": "stdin",
     "output_type": "stream",
     "text": [
      "Введите значение списка:  4\n",
      "Введите значение списка:  7\n",
      "Введите значение списка:  9\n",
      "Введите значение списка:  5\n",
      "Введите значение списка:  7\n",
      "Введите значение списка:  4\n",
      "Введите значение списка:  1\n",
      "Введите значение списка:  3\n",
      "Введите значение списка:  5\n",
      "Введите значение списка:  67\n",
      "Введите значение списка:  stop\n"
     ]
    },
    {
     "name": "stdout",
     "output_type": "stream",
     "text": [
      "['7', '5', '4', '3', '67']\n"
     ]
    }
   ],
   "source": [
    "my_list = []\n",
    "while (value:=input(\"Введите значение списка: \")) != \"stop\":\n",
    "    my_list.append(value)\n",
    "del my_list[0::2]\n",
    "print(my_list)"
   ]
  },
  {
   "cell_type": "markdown",
   "id": "3f6ab433-a05f-47f5-8c64-c257963888ff",
   "metadata": {},
   "source": [
    "## 2. Написать программу, которая считывает список слов и находит слова, содержащие более трех гласных букв"
   ]
  },
  {
   "cell_type": "code",
   "execution_count": 46,
   "id": "8ac8a149-4cf3-4192-808f-726a610edc86",
   "metadata": {},
   "outputs": [
    {
     "name": "stdin",
     "output_type": "stream",
     "text": [
      "Введите список слов чеерез \",\":  велосипед, Вертолет, абракадабра, круговорот\n"
     ]
    },
    {
     "name": "stdout",
     "output_type": "stream",
     "text": [
      "велосипед\n",
      "абракадабра\n",
      "круговорот\n"
     ]
    }
   ],
   "source": [
    "string = input('Введите список слов чеерез \",\": ').lower()\n",
    "words = string.split(', ')\n",
    "\n",
    "def count_vowels(word, vowels=\"ауоыиэяюёе\"):\n",
    "    return sum(1 for char in word if char in vowels)\n",
    "\n",
    "for word in words:\n",
    "    if count_vowels(word) > 3:\n",
    "        print(word)"
   ]
  },
  {
   "cell_type": "markdown",
   "id": "ea712296-3cf2-4e11-ab73-e4a52cb36d87",
   "metadata": {},
   "source": [
    "## 3. Написать программу, которая находит второй по величине элемент в списке"
   ]
  },
  {
   "cell_type": "code",
   "execution_count": 58,
   "id": "46432a5c-be3e-49ad-9cd0-f3ac776ad8fd",
   "metadata": {},
   "outputs": [
    {
     "name": "stdin",
     "output_type": "stream",
     "text": [
      "Введите значения через пробел:  4 4 3 2 1 4\n"
     ]
    },
    {
     "name": "stdout",
     "output_type": "stream",
     "text": [
      "3\n"
     ]
    }
   ],
   "source": [
    "input_val = input('Введите значения через пробел: ').split(' ')\n",
    "input_val.sort()\n",
    "\n",
    "def unique_val(input_list):\n",
    "    unique_list = []\n",
    "    for x in input_list:\n",
    "        if x not in unique_list:\n",
    "            unique_list.append(x)\n",
    "    return unique_list\n",
    "\n",
    "print(unique_val(input_val)[-2])"
   ]
  },
  {
   "cell_type": "markdown",
   "id": "b0f73d0e-d41b-40ff-8960-6499b560bc2e",
   "metadata": {},
   "source": [
    "## 4. Написать программу, которая удаляет из списка все дубликаты.\n",
    "Можно воспользоваться функцией unique_val(), написанной  в задании 3.\n",
    "\n",
    "В решении задачи воспользуемся методом пречисления элементов как ключей словаря.\n",
    "Ключи словаря уникальны и класс dict имеет функцию fromkeys(), которая принимает итерацию для создания словаря с ключами из итерируемого."
   ]
  },
  {
   "cell_type": "code",
   "execution_count": 57,
   "id": "ad722ee6-c714-48aa-a9ee-713476db7fbe",
   "metadata": {},
   "outputs": [
    {
     "name": "stdin",
     "output_type": "stream",
     "text": [
      "Введите значения через пробел:  4 4 3 2 1 4\n"
     ]
    },
    {
     "name": "stdout",
     "output_type": "stream",
     "text": [
      "['4', '3', '2', '1']\n"
     ]
    }
   ],
   "source": [
    "input_val = input('Введите значения через пробел: ').split(' ') \n",
    "output_list = list(dict.fromkeys(input_val)) \n",
    "print(output_list)"
   ]
  },
  {
   "cell_type": "markdown",
   "id": "f4791f4c-0695-43b3-b499-a16d9c0b563c",
   "metadata": {},
   "source": [
    "## 5. Написать программу, которая считывает данные из CSV-файла и создает словарь, где ключами являются значения в столбце «Name», а значениями — соответствующие им словари с информацией о поле, возрасте и зарплате."
   ]
  },
  {
   "cell_type": "code",
   "execution_count": 51,
   "id": "0b01ad08-b423-4e4e-9720-7d1552d3d0f9",
   "metadata": {},
   "outputs": [
    {
     "name": "stdout",
     "output_type": "stream",
     "text": [
      "{'Иванов Иван Иванович': ['Male', '23', '50000'], 'Петрова Мария Сергеевна': ['Female', '25', '30000'], 'Васильева Елена Александровна': ['Female', '46', '120000'], 'Ткаченко Светлана Юрьевна': ['Female', '40', '50000'], 'Чек Арсений Павлович': ['Male', '34', '48000'], 'Гуськов Антон Павлович': ['Male', '22', '140000'], 'Трофимов Степан Алексеевич': ['Male', '18', '27000'], 'Грушевцев Илья Анатольевич': ['Male', '41', '55000'], 'Крамола Светлана Ильинична': ['Female', '29', '37000'], 'Трушина Евгения Владимировна': ['Female', '36', '180000']}\n"
     ]
    }
   ],
   "source": [
    "import csv\n",
    "read_csv = csv.reader(open('dict_salary.csv', encoding=\"utf-8\"))\n",
    "out_dict = {}\n",
    "for row in read_csv:\n",
    "    key = row[0]\n",
    "    if key in out_dict:\n",
    "        # Проверка на дубликат ключа\n",
    "        pass\n",
    "    out_dict[key] = row[1:]\n",
    "print(out_dict)"
   ]
  },
  {
   "cell_type": "markdown",
   "id": "cde46f18-24bc-4653-b0dc-1dee61692142",
   "metadata": {},
   "source": [
    "## 6. Написать программу, которая запрашивает у пользователя строку и выводит на экран все ее подстроки длиной не менее трех символов."
   ]
  },
  {
   "cell_type": "code",
   "execution_count": 56,
   "id": "292363e0-2d06-477e-b7bc-eb3d2c71a144",
   "metadata": {},
   "outputs": [
    {
     "name": "stdin",
     "output_type": "stream",
     "text": [
      "Введите текст:  Как под горкой под горой торговал старик золой картошка моя вся поджаренная\n"
     ]
    },
    {
     "name": "stdout",
     "output_type": "stream",
     "text": [
      "['Как', 'под', 'горкой', 'под', 'горой', 'торговал', 'старик', 'золой', 'картошка', 'моя', 'вся', 'поджаренная']\n"
     ]
    }
   ],
   "source": [
    "words = input('Введите текст: ')\n",
    "print([word for word in words.split(' ') if len(word) >= 3])"
   ]
  }
 ],
 "metadata": {
  "kernelspec": {
   "display_name": "Python 3 (ipykernel)",
   "language": "python",
   "name": "python3"
  },
  "language_info": {
   "codemirror_mode": {
    "name": "ipython",
    "version": 3
   },
   "file_extension": ".py",
   "mimetype": "text/x-python",
   "name": "python",
   "nbconvert_exporter": "python",
   "pygments_lexer": "ipython3",
   "version": "3.10.9"
  }
 },
 "nbformat": 4,
 "nbformat_minor": 5
}
