{
 "cells": [
  {
   "cell_type": "markdown",
   "source": [
    "### Импортируем библиотеки"
   ],
   "metadata": {
    "collapsed": false
   }
  },
  {
   "cell_type": "code",
   "execution_count": 1,
   "outputs": [],
   "source": [
    "import pandas as pd"
   ],
   "metadata": {
    "collapsed": false,
    "ExecuteTime": {
     "end_time": "2023-08-13T23:04:45.143543600Z",
     "start_time": "2023-08-13T23:04:44.692864300Z"
    }
   }
  },
  {
   "cell_type": "markdown",
   "source": [
    "### Прочитаем наши файлы средствами Pandas и запишем в переменные"
   ],
   "metadata": {
    "collapsed": false
   }
  },
  {
   "cell_type": "code",
   "execution_count": 2,
   "outputs": [],
   "source": [
    "cust = pd.read_csv('https://raw.githubusercontent.com/sultanmurad/csv_files/main/customers.csv')\n",
    "org = pd.read_csv('https://raw.githubusercontent.com/sultanmurad/csv_files/main/organizations.csv')\n",
    "peop = pd.read_csv('https://raw.githubusercontent.com/sultanmurad/csv_files/main/people.csv')"
   ],
   "metadata": {
    "collapsed": false,
    "ExecuteTime": {
     "end_time": "2023-08-13T23:04:55.748992800Z",
     "start_time": "2023-08-13T23:04:45.145545200Z"
    }
   }
  },
  {
   "cell_type": "code",
   "execution_count": 3,
   "outputs": [
    {
     "name": "stdout",
     "output_type": "stream",
     "text": [
      "(100000, 12)\n",
      "(100000, 9)\n",
      "(100000, 9)\n"
     ]
    }
   ],
   "source": [
    "print(cust.shape)\n",
    "print(org.shape)\n",
    "print(peop.shape)"
   ],
   "metadata": {
    "collapsed": false,
    "ExecuteTime": {
     "end_time": "2023-08-13T23:04:55.752994200Z",
     "start_time": "2023-08-13T23:04:55.737168700Z"
    }
   }
  },
  {
   "cell_type": "markdown",
   "source": [
    "### В набор данных cust добавим колонку 'Subscription Year'"
   ],
   "metadata": {
    "collapsed": false
   }
  },
  {
   "cell_type": "code",
   "execution_count": 4,
   "outputs": [],
   "source": [
    "cust['Subscription Date'] = pd.to_datetime(cust['Subscription Date'])\n",
    "cust['Subscription Year'] = cust['Subscription Date'].dt.year"
   ],
   "metadata": {
    "collapsed": false,
    "ExecuteTime": {
     "end_time": "2023-08-13T23:04:55.830949800Z",
     "start_time": "2023-08-13T23:04:55.752994200Z"
    }
   }
  },
  {
   "cell_type": "markdown",
   "source": [
    "### Посчитаем количество строк в cust"
   ],
   "metadata": {
    "collapsed": false
   }
  },
  {
   "cell_type": "code",
   "execution_count": 5,
   "outputs": [
    {
     "name": "stdout",
     "output_type": "stream",
     "text": [
      "100000\n"
     ]
    }
   ],
   "source": [
    "num_rows_cust = int(len(cust))\n",
    "print(num_rows_cust)"
   ],
   "metadata": {
    "collapsed": false,
    "ExecuteTime": {
     "end_time": "2023-08-13T23:04:55.845349800Z",
     "start_time": "2023-08-13T23:04:55.833952200Z"
    }
   }
  },
  {
   "cell_type": "markdown",
   "source": [
    "### Добавим в cust столбец с номером группы таким образом, чтобы файл был разделен на 10 групп"
   ],
   "metadata": {
    "collapsed": false
   }
  },
  {
   "cell_type": "code",
   "execution_count": 6,
   "outputs": [
    {
     "data": {
      "text/plain": "   Index      Customer Id First Name Last Name           Company  \\\n0      1  ffeCAb7AbcB0f07       Dawn   Trevino  Sanchez-Fletcher   \n1      2  b687FfC4F1600eC       Dale  Mcknight         Mckay PLC   \n2      3  9FF9ACbc69dcF9c    Herbert      Bean    Marks and Sons   \n\n             City   Country             Phone 1               Phone 2  \\\n0   Hatfieldshire   Eritrea  274.188.8773x41185  001-215-760-4642x969   \n1  Robertsonburgh  Botswana        283-236-9529   (189)129-8356x63741   \n2         Kimbury  Barbados          8252703789     459-916-7241x0909   \n\n                        Email Subscription Date                     Website  \\\n0     clintongood@example.org        2021-11-11  https://www.mccarthy.info/   \n1  clairebradshaw@example.org        2021-05-14    http://www.reynolds.com/   \n2    johnnybooker@example.org        2021-03-17           https://neal.com/   \n\n   Subscription Year  Group  \n0               2021      1  \n1               2021      1  \n2               2021      1  ",
      "text/html": "<div>\n<style scoped>\n    .dataframe tbody tr th:only-of-type {\n        vertical-align: middle;\n    }\n\n    .dataframe tbody tr th {\n        vertical-align: top;\n    }\n\n    .dataframe thead th {\n        text-align: right;\n    }\n</style>\n<table border=\"1\" class=\"dataframe\">\n  <thead>\n    <tr style=\"text-align: right;\">\n      <th></th>\n      <th>Index</th>\n      <th>Customer Id</th>\n      <th>First Name</th>\n      <th>Last Name</th>\n      <th>Company</th>\n      <th>City</th>\n      <th>Country</th>\n      <th>Phone 1</th>\n      <th>Phone 2</th>\n      <th>Email</th>\n      <th>Subscription Date</th>\n      <th>Website</th>\n      <th>Subscription Year</th>\n      <th>Group</th>\n    </tr>\n  </thead>\n  <tbody>\n    <tr>\n      <th>0</th>\n      <td>1</td>\n      <td>ffeCAb7AbcB0f07</td>\n      <td>Dawn</td>\n      <td>Trevino</td>\n      <td>Sanchez-Fletcher</td>\n      <td>Hatfieldshire</td>\n      <td>Eritrea</td>\n      <td>274.188.8773x41185</td>\n      <td>001-215-760-4642x969</td>\n      <td>clintongood@example.org</td>\n      <td>2021-11-11</td>\n      <td>https://www.mccarthy.info/</td>\n      <td>2021</td>\n      <td>1</td>\n    </tr>\n    <tr>\n      <th>1</th>\n      <td>2</td>\n      <td>b687FfC4F1600eC</td>\n      <td>Dale</td>\n      <td>Mcknight</td>\n      <td>Mckay PLC</td>\n      <td>Robertsonburgh</td>\n      <td>Botswana</td>\n      <td>283-236-9529</td>\n      <td>(189)129-8356x63741</td>\n      <td>clairebradshaw@example.org</td>\n      <td>2021-05-14</td>\n      <td>http://www.reynolds.com/</td>\n      <td>2021</td>\n      <td>1</td>\n    </tr>\n    <tr>\n      <th>2</th>\n      <td>3</td>\n      <td>9FF9ACbc69dcF9c</td>\n      <td>Herbert</td>\n      <td>Bean</td>\n      <td>Marks and Sons</td>\n      <td>Kimbury</td>\n      <td>Barbados</td>\n      <td>8252703789</td>\n      <td>459-916-7241x0909</td>\n      <td>johnnybooker@example.org</td>\n      <td>2021-03-17</td>\n      <td>https://neal.com/</td>\n      <td>2021</td>\n      <td>1</td>\n    </tr>\n  </tbody>\n</table>\n</div>"
     },
     "execution_count": 6,
     "metadata": {},
     "output_type": "execute_result"
    }
   ],
   "source": [
    "cust['Group'] = [i // (num_rows_cust // 10) + 1 for i in range(num_rows_cust)]\n",
    "cust.head(3)"
   ],
   "metadata": {
    "collapsed": false,
    "ExecuteTime": {
     "end_time": "2023-08-13T23:04:55.907874600Z",
     "start_time": "2023-08-13T23:04:55.855355900Z"
    }
   }
  },
  {
   "cell_type": "markdown",
   "source": [
    "### Посчитаем количество строк в org"
   ],
   "metadata": {
    "collapsed": false
   }
  },
  {
   "cell_type": "code",
   "execution_count": 7,
   "outputs": [
    {
     "name": "stdout",
     "output_type": "stream",
     "text": [
      "100000\n"
     ]
    }
   ],
   "source": [
    "num_rows_org = int(len(org))\n",
    "print(num_rows_org)"
   ],
   "metadata": {
    "collapsed": false,
    "ExecuteTime": {
     "end_time": "2023-08-13T23:04:55.944067900Z",
     "start_time": "2023-08-13T23:04:55.908876100Z"
    }
   }
  },
  {
   "cell_type": "markdown",
   "source": [
    "### Добавим в org столбец с номером группы таким образом, чтобы файл был разделен на 10 групп"
   ],
   "metadata": {
    "collapsed": false
   }
  },
  {
   "cell_type": "code",
   "execution_count": 8,
   "outputs": [
    {
     "data": {
      "text/plain": "   Index  Organization Id            Name                       Website  \\\n0      1  8cC6B5992C0309c     Acevedo LLC      https://www.donovan.com/   \n1      2  ec094061FeaF7Bc  Walls-Mcdonald      http://arias-willis.net/   \n2      3  DAcC5dbc58946A7     Gregory PLC  http://www.lynch-hoover.net/   \n\n                         Country                           Description  \\\n0  Holy See (Vatican City State)      Multi-channeled bottom-line core   \n1                      Lithuania     Compatible encompassing groupware   \n2                        Tokelau  Multi-channeled intangible help-desk   \n\n   Founded                     Industry  Number of employees  Group  \n0     2019  Graphic Design / Web Design                 7070      1  \n1     2005                    Utilities                 8156      1  \n2     2019             Leisure / Travel                 6121      1  ",
      "text/html": "<div>\n<style scoped>\n    .dataframe tbody tr th:only-of-type {\n        vertical-align: middle;\n    }\n\n    .dataframe tbody tr th {\n        vertical-align: top;\n    }\n\n    .dataframe thead th {\n        text-align: right;\n    }\n</style>\n<table border=\"1\" class=\"dataframe\">\n  <thead>\n    <tr style=\"text-align: right;\">\n      <th></th>\n      <th>Index</th>\n      <th>Organization Id</th>\n      <th>Name</th>\n      <th>Website</th>\n      <th>Country</th>\n      <th>Description</th>\n      <th>Founded</th>\n      <th>Industry</th>\n      <th>Number of employees</th>\n      <th>Group</th>\n    </tr>\n  </thead>\n  <tbody>\n    <tr>\n      <th>0</th>\n      <td>1</td>\n      <td>8cC6B5992C0309c</td>\n      <td>Acevedo LLC</td>\n      <td>https://www.donovan.com/</td>\n      <td>Holy See (Vatican City State)</td>\n      <td>Multi-channeled bottom-line core</td>\n      <td>2019</td>\n      <td>Graphic Design / Web Design</td>\n      <td>7070</td>\n      <td>1</td>\n    </tr>\n    <tr>\n      <th>1</th>\n      <td>2</td>\n      <td>ec094061FeaF7Bc</td>\n      <td>Walls-Mcdonald</td>\n      <td>http://arias-willis.net/</td>\n      <td>Lithuania</td>\n      <td>Compatible encompassing groupware</td>\n      <td>2005</td>\n      <td>Utilities</td>\n      <td>8156</td>\n      <td>1</td>\n    </tr>\n    <tr>\n      <th>2</th>\n      <td>3</td>\n      <td>DAcC5dbc58946A7</td>\n      <td>Gregory PLC</td>\n      <td>http://www.lynch-hoover.net/</td>\n      <td>Tokelau</td>\n      <td>Multi-channeled intangible help-desk</td>\n      <td>2019</td>\n      <td>Leisure / Travel</td>\n      <td>6121</td>\n      <td>1</td>\n    </tr>\n  </tbody>\n</table>\n</div>"
     },
     "execution_count": 8,
     "metadata": {},
     "output_type": "execute_result"
    }
   ],
   "source": [
    "org['Group'] = [i // (num_rows_org // 10) + 1 for i in range(num_rows_org)]\n",
    "org.head(3)"
   ],
   "metadata": {
    "collapsed": false,
    "ExecuteTime": {
     "end_time": "2023-08-13T23:04:56.054402100Z",
     "start_time": "2023-08-13T23:04:55.924072300Z"
    }
   }
  },
  {
   "cell_type": "markdown",
   "source": [
    "### Посчитаем количество строк в peop"
   ],
   "metadata": {
    "collapsed": false
   }
  },
  {
   "cell_type": "code",
   "execution_count": 9,
   "outputs": [
    {
     "name": "stdout",
     "output_type": "stream",
     "text": [
      "100000\n"
     ]
    }
   ],
   "source": [
    "num_rows_peop = int(len(peop))\n",
    "print(num_rows_peop)"
   ],
   "metadata": {
    "collapsed": false,
    "ExecuteTime": {
     "end_time": "2023-08-13T23:04:56.055400700Z",
     "start_time": "2023-08-13T23:04:56.006392600Z"
    }
   }
  },
  {
   "cell_type": "markdown",
   "source": [
    "### Добавим в peop столбец с номером группы таким образом, чтобы файл был разделен на 10 групп"
   ],
   "metadata": {
    "collapsed": false
   }
  },
  {
   "cell_type": "code",
   "execution_count": 10,
   "outputs": [
    {
     "data": {
      "text/plain": "   Index          User Id First Name Last Name     Sex  \\\n0      1  e09c4f4cbfEFaFd       Dawn   Trevino    Male   \n1      2  D781D28b845Ab9D       Dale  Mcknight    Male   \n2      3  eda7EcaF87b2D80    Herbert      Bean  Female   \n\n                        Email                  Phone Date of birth  \\\n0     clintongood@example.org           360-423-5286    1972-01-17   \n1  clairebradshaw@example.org             9062423229    1931-01-31   \n2    johnnybooker@example.org  001-149-154-0679x1617    2018-02-10   \n\n                       Job Title  Group  \n0        Teacher, primary school      1  \n1  Development worker, community      1  \n2              Ceramics designer      1  ",
      "text/html": "<div>\n<style scoped>\n    .dataframe tbody tr th:only-of-type {\n        vertical-align: middle;\n    }\n\n    .dataframe tbody tr th {\n        vertical-align: top;\n    }\n\n    .dataframe thead th {\n        text-align: right;\n    }\n</style>\n<table border=\"1\" class=\"dataframe\">\n  <thead>\n    <tr style=\"text-align: right;\">\n      <th></th>\n      <th>Index</th>\n      <th>User Id</th>\n      <th>First Name</th>\n      <th>Last Name</th>\n      <th>Sex</th>\n      <th>Email</th>\n      <th>Phone</th>\n      <th>Date of birth</th>\n      <th>Job Title</th>\n      <th>Group</th>\n    </tr>\n  </thead>\n  <tbody>\n    <tr>\n      <th>0</th>\n      <td>1</td>\n      <td>e09c4f4cbfEFaFd</td>\n      <td>Dawn</td>\n      <td>Trevino</td>\n      <td>Male</td>\n      <td>clintongood@example.org</td>\n      <td>360-423-5286</td>\n      <td>1972-01-17</td>\n      <td>Teacher, primary school</td>\n      <td>1</td>\n    </tr>\n    <tr>\n      <th>1</th>\n      <td>2</td>\n      <td>D781D28b845Ab9D</td>\n      <td>Dale</td>\n      <td>Mcknight</td>\n      <td>Male</td>\n      <td>clairebradshaw@example.org</td>\n      <td>9062423229</td>\n      <td>1931-01-31</td>\n      <td>Development worker, community</td>\n      <td>1</td>\n    </tr>\n    <tr>\n      <th>2</th>\n      <td>3</td>\n      <td>eda7EcaF87b2D80</td>\n      <td>Herbert</td>\n      <td>Bean</td>\n      <td>Female</td>\n      <td>johnnybooker@example.org</td>\n      <td>001-149-154-0679x1617</td>\n      <td>2018-02-10</td>\n      <td>Ceramics designer</td>\n      <td>1</td>\n    </tr>\n  </tbody>\n</table>\n</div>"
     },
     "execution_count": 10,
     "metadata": {},
     "output_type": "execute_result"
    }
   ],
   "source": [
    "peop['Group'] = [i // (num_rows_peop // 10) + 1 for i in range(num_rows_peop)]\n",
    "peop.head(3)"
   ],
   "metadata": {
    "collapsed": false,
    "ExecuteTime": {
     "end_time": "2023-08-13T23:04:56.113155200Z",
     "start_time": "2023-08-13T23:04:56.007392700Z"
    }
   }
  },
  {
   "cell_type": "markdown",
   "source": [
    "### Сохраним файлы для дальнейшей работы"
   ],
   "metadata": {
    "collapsed": false
   }
  },
  {
   "cell_type": "code",
   "execution_count": 11,
   "outputs": [],
   "source": [
    "cust.to_csv('./csv_files/customers.csv', index=False)"
   ],
   "metadata": {
    "collapsed": false,
    "ExecuteTime": {
     "end_time": "2023-08-13T23:04:56.889566Z",
     "start_time": "2023-08-13T23:04:56.069405Z"
    }
   }
  },
  {
   "cell_type": "code",
   "execution_count": 12,
   "outputs": [],
   "source": [
    "org.to_csv('./csv_files/organizations.csv', index=False)"
   ],
   "metadata": {
    "collapsed": false,
    "ExecuteTime": {
     "end_time": "2023-08-13T23:04:57.318123200Z",
     "start_time": "2023-08-13T23:04:56.892566600Z"
    }
   }
  },
  {
   "cell_type": "code",
   "execution_count": 13,
   "outputs": [],
   "source": [
    "peop.to_csv('./csv_files/people.csv', index=False)"
   ],
   "metadata": {
    "collapsed": false,
    "ExecuteTime": {
     "end_time": "2023-08-13T23:04:57.676362400Z",
     "start_time": "2023-08-13T23:04:57.319131600Z"
    }
   }
  }
 ],
 "metadata": {
  "kernelspec": {
   "display_name": "Python 3",
   "language": "python",
   "name": "python3"
  },
  "language_info": {
   "codemirror_mode": {
    "name": "ipython",
    "version": 2
   },
   "file_extension": ".py",
   "mimetype": "text/x-python",
   "name": "python",
   "nbconvert_exporter": "python",
   "pygments_lexer": "ipython2",
   "version": "2.7.6"
  }
 },
 "nbformat": 4,
 "nbformat_minor": 0
}
