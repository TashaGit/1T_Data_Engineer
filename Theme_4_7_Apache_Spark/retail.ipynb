{
 "cells": [
  {
   "cell_type": "markdown",
   "id": "f479d3c8",
   "metadata": {},
   "source": [
    "#### Импортируем библиотеки"
   ]
  },
  {
   "cell_type": "code",
   "execution_count": 1,
   "id": "33e96e61",
   "metadata": {},
   "outputs": [],
   "source": [
    "import pandas as pd\n",
    "from pyspark.sql import SparkSession\n",
    "from pyspark.sql import Window\n",
    "from pyspark.sql.functions import *"
   ]
  },
  {
   "cell_type": "markdown",
   "id": "8a77ed79",
   "metadata": {},
   "source": [
    "#### 1. С помощью модуля pandas преобразуем файл из .xlsx в .csv формат"
   ]
  },
  {
   "cell_type": "code",
   "execution_count": 2,
   "id": "e0fd59fe",
   "metadata": {},
   "outputs": [
    {
     "data": {
      "text/html": [
       "<div>\n",
       "<style scoped>\n",
       "    .dataframe tbody tr th:only-of-type {\n",
       "        vertical-align: middle;\n",
       "    }\n",
       "\n",
       "    .dataframe tbody tr th {\n",
       "        vertical-align: top;\n",
       "    }\n",
       "\n",
       "    .dataframe thead th {\n",
       "        text-align: right;\n",
       "    }\n",
       "</style>\n",
       "<table border=\"1\" class=\"dataframe\">\n",
       "  <thead>\n",
       "    <tr style=\"text-align: right;\">\n",
       "      <th></th>\n",
       "      <th>InvoiceNo</th>\n",
       "      <th>StockCode</th>\n",
       "      <th>Description</th>\n",
       "      <th>Quantity</th>\n",
       "      <th>InvoiceDate</th>\n",
       "      <th>UnitPrice</th>\n",
       "      <th>CustomerID</th>\n",
       "      <th>Country</th>\n",
       "    </tr>\n",
       "  </thead>\n",
       "  <tbody>\n",
       "    <tr>\n",
       "      <th>0</th>\n",
       "      <td>536365</td>\n",
       "      <td>85123A</td>\n",
       "      <td>WHITE HANGING HEART T-LIGHT HOLDER</td>\n",
       "      <td>6</td>\n",
       "      <td>2010-12-01 08:26:00</td>\n",
       "      <td>2.55</td>\n",
       "      <td>17850.0</td>\n",
       "      <td>United Kingdom</td>\n",
       "    </tr>\n",
       "    <tr>\n",
       "      <th>1</th>\n",
       "      <td>536365</td>\n",
       "      <td>71053</td>\n",
       "      <td>WHITE METAL LANTERN</td>\n",
       "      <td>6</td>\n",
       "      <td>2010-12-01 08:26:00</td>\n",
       "      <td>3.39</td>\n",
       "      <td>17850.0</td>\n",
       "      <td>United Kingdom</td>\n",
       "    </tr>\n",
       "    <tr>\n",
       "      <th>2</th>\n",
       "      <td>536365</td>\n",
       "      <td>84406B</td>\n",
       "      <td>CREAM CUPID HEARTS COAT HANGER</td>\n",
       "      <td>8</td>\n",
       "      <td>2010-12-01 08:26:00</td>\n",
       "      <td>2.75</td>\n",
       "      <td>17850.0</td>\n",
       "      <td>United Kingdom</td>\n",
       "    </tr>\n",
       "    <tr>\n",
       "      <th>3</th>\n",
       "      <td>536365</td>\n",
       "      <td>84029G</td>\n",
       "      <td>KNITTED UNION FLAG HOT WATER BOTTLE</td>\n",
       "      <td>6</td>\n",
       "      <td>2010-12-01 08:26:00</td>\n",
       "      <td>3.39</td>\n",
       "      <td>17850.0</td>\n",
       "      <td>United Kingdom</td>\n",
       "    </tr>\n",
       "    <tr>\n",
       "      <th>4</th>\n",
       "      <td>536365</td>\n",
       "      <td>84029E</td>\n",
       "      <td>RED WOOLLY HOTTIE WHITE HEART.</td>\n",
       "      <td>6</td>\n",
       "      <td>2010-12-01 08:26:00</td>\n",
       "      <td>3.39</td>\n",
       "      <td>17850.0</td>\n",
       "      <td>United Kingdom</td>\n",
       "    </tr>\n",
       "  </tbody>\n",
       "</table>\n",
       "</div>"
      ],
      "text/plain": [
       "  InvoiceNo StockCode                          Description  Quantity  \\\n",
       "0    536365    85123A   WHITE HANGING HEART T-LIGHT HOLDER         6   \n",
       "1    536365     71053                  WHITE METAL LANTERN         6   \n",
       "2    536365    84406B       CREAM CUPID HEARTS COAT HANGER         8   \n",
       "3    536365    84029G  KNITTED UNION FLAG HOT WATER BOTTLE         6   \n",
       "4    536365    84029E       RED WOOLLY HOTTIE WHITE HEART.         6   \n",
       "\n",
       "          InvoiceDate  UnitPrice  CustomerID         Country  \n",
       "0 2010-12-01 08:26:00       2.55     17850.0  United Kingdom  \n",
       "1 2010-12-01 08:26:00       3.39     17850.0  United Kingdom  \n",
       "2 2010-12-01 08:26:00       2.75     17850.0  United Kingdom  \n",
       "3 2010-12-01 08:26:00       3.39     17850.0  United Kingdom  \n",
       "4 2010-12-01 08:26:00       3.39     17850.0  United Kingdom  "
      ]
     },
     "execution_count": 2,
     "metadata": {},
     "output_type": "execute_result"
    }
   ],
   "source": [
    "data = pd.read_excel('online_retail.xlsx')\n",
    "data.head()"
   ]
  },
  {
   "cell_type": "code",
   "execution_count": 3,
   "id": "2bfb5cf0",
   "metadata": {},
   "outputs": [],
   "source": [
    "data.to_csv('online_retail.csv', index=False)"
   ]
  },
  {
   "cell_type": "markdown",
   "id": "8be73185",
   "metadata": {},
   "source": [
    "#### 2. Инициализируйем Spark-сессию"
   ]
  },
  {
   "cell_type": "code",
   "execution_count": 4,
   "id": "b63806bb",
   "metadata": {},
   "outputs": [],
   "source": [
    "# spark = SparkSession.builder.appName('my_first_spark').getOrCreate()\n",
    "spark = SparkSession.builder \\\n",
    "  .master(\"local[1]\") \\\n",
    "  .appName(\"SparkFirst\") \\\n",
    "  .config(\"spark.executor.memory\", \"10g\")\\\n",
    "  .config(\"spark.executor.cores\", 5) \\\n",
    "  .config(\"spark.dynamicAllocation.enabled\", \"true\") \\\n",
    "  .config(\"spark.dynamicAllocation.maxExecutors\", 5) \\\n",
    "  .config(\"spark.shuffle.service.enabled\", \"true\") \\\n",
    "  .getOrCreate()"
   ]
  },
  {
   "cell_type": "markdown",
   "id": "6de1c9d6",
   "metadata": {},
   "source": [
    "#### 3. Создадим dataframe из скачанного файла"
   ]
  },
  {
   "cell_type": "code",
   "execution_count": 5,
   "id": "4db50231",
   "metadata": {},
   "outputs": [
    {
     "name": "stdout",
     "output_type": "stream",
     "text": [
      "+---------+---------+--------------------+--------+-------------------+---------+----------+--------------+\n",
      "|InvoiceNo|StockCode|         Description|Quantity|        InvoiceDate|UnitPrice|CustomerID|       Country|\n",
      "+---------+---------+--------------------+--------+-------------------+---------+----------+--------------+\n",
      "|   536365|   85123A|WHITE HANGING HEA...|       6|2010-12-01 08:26:00|     2.55|   17850.0|United Kingdom|\n",
      "|   536365|    71053| WHITE METAL LANTERN|       6|2010-12-01 08:26:00|     3.39|   17850.0|United Kingdom|\n",
      "|   536365|   84406B|CREAM CUPID HEART...|       8|2010-12-01 08:26:00|     2.75|   17850.0|United Kingdom|\n",
      "|   536365|   84029G|KNITTED UNION FLA...|       6|2010-12-01 08:26:00|     3.39|   17850.0|United Kingdom|\n",
      "|   536365|   84029E|RED WOOLLY HOTTIE...|       6|2010-12-01 08:26:00|     3.39|   17850.0|United Kingdom|\n",
      "+---------+---------+--------------------+--------+-------------------+---------+----------+--------------+\n",
      "only showing top 5 rows\n",
      "\n"
     ]
    }
   ],
   "source": [
    "df = spark.read.csv('online_retail.csv', header=True)\n",
    "df.show(5)"
   ]
  },
  {
   "cell_type": "markdown",
   "id": "0e12005f",
   "metadata": {},
   "source": [
    "#### 4. Подсчитаем следующие показатели:"
   ]
  },
  {
   "cell_type": "markdown",
   "id": "4ac3ec8d",
   "metadata": {},
   "source": [
    "#### a) Количество строк в файле"
   ]
  },
  {
   "cell_type": "code",
   "execution_count": 6,
   "id": "650b01ed",
   "metadata": {},
   "outputs": [
    {
     "name": "stdout",
     "output_type": "stream",
     "text": [
      "Количество строк в файле: 541909\n"
     ]
    }
   ],
   "source": [
    "row_count = df.count()\n",
    "print(f'Количество строк в файле: {row_count}')"
   ]
  },
  {
   "cell_type": "markdown",
   "id": "422322d5",
   "metadata": {},
   "source": [
    "#### b) Количество уникальных клиентов"
   ]
  },
  {
   "cell_type": "code",
   "execution_count": 7,
   "id": "3f9a887d",
   "metadata": {},
   "outputs": [
    {
     "name": "stdout",
     "output_type": "stream",
     "text": [
      "Количество уникальных клиентов: 4373\n"
     ]
    }
   ],
   "source": [
    "unique_customers = df.select(\"CustomerID\").distinct().count()\n",
    "print(\"Количество уникальных клиентов:\", unique_customers)"
   ]
  },
  {
   "cell_type": "markdown",
   "id": "8228db14",
   "metadata": {},
   "source": [
    "#### c) В какой стране совершается большинство покупок"
   ]
  },
  {
   "cell_type": "code",
   "execution_count": 8,
   "id": "7c5b511e",
   "metadata": {},
   "outputs": [
    {
     "name": "stdout",
     "output_type": "stream",
     "text": [
      "Страна с наибольшим количеством покупок: United Kingdom\n"
     ]
    }
   ],
   "source": [
    "most_purchases_by_country = df.groupBy('Country').count().orderBy('count', ascending=False).first()[0]\n",
    "print(\"Страна с наибольшим количеством покупок:\", most_purchases_by_country)"
   ]
  },
  {
   "cell_type": "markdown",
   "id": "94d0e887",
   "metadata": {},
   "source": [
    "#### d) Даты самой ранней и самой последней покупки на платформе"
   ]
  },
  {
   "cell_type": "code",
   "execution_count": 9,
   "id": "c969d6bf",
   "metadata": {},
   "outputs": [
    {
     "name": "stdout",
     "output_type": "stream",
     "text": [
      "Самая ранняя дата покупки: 2010-12-01 08:26:00\n",
      "Самая поздняя дата покупки: 2011-12-09 12:50:00\n"
     ]
    }
   ],
   "source": [
    "earliest_date = df.select(min('InvoiceDate')).first()[0]\n",
    "latest_date = df.select(max('InvoiceDate')).first()[0]\n",
    "\n",
    "print(\"Самая ранняя дата покупки:\", earliest_date)\n",
    "print(\"Самая поздняя дата покупки:\", latest_date)"
   ]
  },
  {
   "cell_type": "markdown",
   "id": "2d579d9b",
   "metadata": {},
   "source": [
    "#### 5. Проведем RFM-анализ клиентов платформы. Что такое RFM-анализ? Обычно RFM-анализ используется в маркетинге для оценки ценности клиента на основе его:\n",
    "\n",
    "#### a) Recency - Давность: как давно каждый покупатель совершил покупку?\n",
    "\n",
    "#### b) Frequency- Частота: Как часто они что-то покупали?\n",
    "\n",
    "#### c) Monetary - Денежная ценность: сколько денег они в среднем тратят при совершении покупок?\n",
    "\n",
    "#### Добавьте в dataframe для каждого клиента 3 новых поля : recency, frequency, monetary"
   ]
  },
  {
   "cell_type": "code",
   "execution_count": 10,
   "id": "8e709b24",
   "metadata": {},
   "outputs": [
    {
     "name": "stdout",
     "output_type": "stream",
     "text": [
      "+----------+---------+---------+--------------------+--------+-----------+---------+--------------+-------+---------+--------+\n",
      "|CustomerID|InvoiceNo|StockCode|         Description|Quantity|InvoiceDate|UnitPrice|       Country|recency|frequency|monetary|\n",
      "+----------+---------+---------+--------------------+--------+-----------+---------+--------------+-------+---------+--------+\n",
      "|   17850.0|   536365|   85123A|WHITE HANGING HEA...|       6| 2010-12-01|     2.55|United Kingdom|   4577|      312| 1224.51|\n",
      "|   17850.0|   536365|    71053| WHITE METAL LANTERN|       6| 2010-12-01|     3.39|United Kingdom|   4577|      312| 1224.51|\n",
      "|   17850.0|   536365|   84406B|CREAM CUPID HEART...|       8| 2010-12-01|     2.75|United Kingdom|   4577|      312| 1224.51|\n",
      "|   17850.0|   536365|   84029G|KNITTED UNION FLA...|       6| 2010-12-01|     3.39|United Kingdom|   4577|      312| 1224.51|\n",
      "|   17850.0|   536365|   84029E|RED WOOLLY HOTTIE...|       6| 2010-12-01|     3.39|United Kingdom|   4577|      312| 1224.51|\n",
      "+----------+---------+---------+--------------------+--------+-----------+---------+--------------+-------+---------+--------+\n",
      "only showing top 5 rows\n",
      "\n"
     ]
    }
   ],
   "source": [
    "today = current_date()\n",
    "\n",
    "df = df.withColumn('InvoiceDate', date_format(df['InvoiceDate'], 'yyyy-MM-dd'))\n",
    "df = df.withColumn('InvoiceDate', to_date(df['InvoiceDate'], 'yyyy-MM-dd'))\n",
    "\n",
    "recency_df = df.groupBy('CustomerID').agg(max('InvoiceDate').alias('last_purchase_date'))\n",
    "recency_df = recency_df.withColumn('recency', datediff(today, recency_df['last_purchase_date']))\n",
    "\n",
    "frequency_df = df.groupBy('CustomerID').agg(count('InvoiceNo').alias('frequency'))\n",
    "\n",
    "monetary_df = df.groupBy('CustomerID').agg(round(sum('UnitPrice'), 2).alias('monetary'))\n",
    "\n",
    "df = df.join(recency_df.select('CustomerID', 'recency'), 'CustomerID')\n",
    "df = df.join(frequency_df.select('CustomerID', 'frequency'), 'CustomerID')\n",
    "df = df.join(monetary_df.select('CustomerID', 'monetary'), 'CustomerID')\n",
    "\n",
    "df.show(5)"
   ]
  },
  {
   "cell_type": "markdown",
   "id": "4724c7ef",
   "metadata": {},
   "source": [
    "#### Для каждого показателя добавим стобец с разбиением клиентов на 3 группы. Допустим, у нас есть 3 клиента, первый клиент последний раз купил товар только в прошлом году, второй клиент в прошлом месяце, а третий клиент на прошлой неделе. Каждый из этих клиентов должен получить различные значения группы для показателя Recency - A, B и С, где А - отражает наибольшую “ценность”, а С - соответственно, наименьшую. \n",
    "\n",
    "#### Добавим итоговый столбец с “суммой” значений групп по каждому показателю"
   ]
  },
  {
   "cell_type": "code",
   "execution_count": 11,
   "id": "68ef7fc3",
   "metadata": {},
   "outputs": [],
   "source": [
    "quantiles_recency = df.approxQuantile('recency', [0.33, 0.66], 0.01) # разбиение на три категории\n",
    "df = df.withColumn('recency_group',\n",
    "                   when(df['recency'] <= quantiles_recency[0], 'C')\n",
    "                   .when((df['recency'] > quantiles_recency[0]) & (df['recency'] <= quantiles_recency[1]), 'B')\n",
    "                   .otherwise('A'))\n",
    "\n",
    "quantiles_frequency = df.approxQuantile('frequency', [0.33, 0.66], 0.01)\n",
    "df = df.withColumn('frequency_group',\n",
    "                   when(df['frequency'] <= quantiles_frequency[0], 'C')\n",
    "                   .when((df['frequency'] > quantiles_frequency[0]) & (df['frequency'] <= quantiles_frequency[1]), 'B')\n",
    "                   .otherwise('A'))\n",
    "\n",
    "quantiles_monetary = df.approxQuantile('monetary', [0.33, 0.66], 0.01)\n",
    "df = df.withColumn('monetary_group',\n",
    "                   when(df['monetary'] <= quantiles_monetary[0], 'C')\n",
    "                   .when((df['monetary'] > quantiles_monetary[0]) & (df['monetary'] <= quantiles_monetary[1]), 'B')\n",
    "                   .otherwise('A'))\n"
   ]
  },
  {
   "cell_type": "code",
   "execution_count": 12,
   "id": "3729edda",
   "metadata": {},
   "outputs": [
    {
     "name": "stdout",
     "output_type": "stream",
     "text": [
      "+----------+---------+---------+--------------------+--------+-----------+---------+--------------+-------+---------+--------+-------------+---------------+--------------+---+\n",
      "|CustomerID|InvoiceNo|StockCode|         Description|Quantity|InvoiceDate|UnitPrice|       Country|recency|frequency|monetary|recency_group|frequency_group|monetary_group|RFM|\n",
      "+----------+---------+---------+--------------------+--------+-----------+---------+--------------+-------+---------+--------+-------------+---------------+--------------+---+\n",
      "|   17850.0|   536365|   85123A|WHITE HANGING HEA...|       6| 2010-12-01|     2.55|United Kingdom|   4577|      312| 1224.51|            A|              B|             A|ABA|\n",
      "|   17850.0|   536365|    71053| WHITE METAL LANTERN|       6| 2010-12-01|     3.39|United Kingdom|   4577|      312| 1224.51|            A|              B|             A|ABA|\n",
      "|   17850.0|   536365|   84406B|CREAM CUPID HEART...|       8| 2010-12-01|     2.75|United Kingdom|   4577|      312| 1224.51|            A|              B|             A|ABA|\n",
      "|   17850.0|   536365|   84029G|KNITTED UNION FLA...|       6| 2010-12-01|     3.39|United Kingdom|   4577|      312| 1224.51|            A|              B|             A|ABA|\n",
      "|   17850.0|   536365|   84029E|RED WOOLLY HOTTIE...|       6| 2010-12-01|     3.39|United Kingdom|   4577|      312| 1224.51|            A|              B|             A|ABA|\n",
      "+----------+---------+---------+--------------------+--------+-----------+---------+--------------+-------+---------+--------+-------------+---------------+--------------+---+\n",
      "only showing top 5 rows\n",
      "\n"
     ]
    }
   ],
   "source": [
    "df = df.withColumn('RFM', concat_ws('', df['recency_group'], df['frequency_group'], df['monetary_group']))\n",
    "df.show(5)"
   ]
  },
  {
   "cell_type": "markdown",
   "id": "028d9397",
   "metadata": {},
   "source": [
    "#### Сохраним в отдельный csv-файл Id только тех клиентов, у которых значения групп ААА."
   ]
  },
  {
   "cell_type": "code",
   "execution_count": 15,
   "id": "5ca02d5f",
   "metadata": {},
   "outputs": [
    {
     "name": "stdout",
     "output_type": "stream",
     "text": [
      "+----------+\n",
      "|CustomerID|\n",
      "+----------+\n",
      "|   12472.0|\n",
      "|   12484.0|\n",
      "|   12637.0|\n",
      "|   13097.0|\n",
      "|   15249.0|\n",
      "|   15356.0|\n",
      "|   15719.0|\n",
      "|   15998.0|\n",
      "|   16686.0|\n",
      "|   16729.0|\n",
      "|   16984.0|\n",
      "|   17107.0|\n",
      "|   17337.0|\n",
      "|   17865.0|\n",
      "|   17965.0|\n",
      "+----------+\n",
      "\n"
     ]
    }
   ],
   "source": [
    "result_df = (\n",
    "    df.filter(df[\"RFM\"] == \"AAA\")\n",
    "    .select(\"CustomerID\")\n",
    "    .distinct()\n",
    "    .orderBy(\"CustomerID\", ascending=True)\n",
    ")\n",
    "\n",
    "result_df.toPandas().to_csv('result.csv', header=False, index=False)\n",
    "result_df.show()"
   ]
  },
  {
   "cell_type": "code",
   "execution_count": null,
   "id": "9c7bed1b",
   "metadata": {},
   "outputs": [],
   "source": []
  }
 ],
 "metadata": {
  "kernelspec": {
   "display_name": "Python 3 (ipykernel)",
   "language": "python",
   "name": "python3"
  },
  "language_info": {
   "codemirror_mode": {
    "name": "ipython",
    "version": 3
   },
   "file_extension": ".py",
   "mimetype": "text/x-python",
   "name": "python",
   "nbconvert_exporter": "python",
   "pygments_lexer": "ipython3",
   "version": "3.11.4"
  }
 },
 "nbformat": 4,
 "nbformat_minor": 5
}
