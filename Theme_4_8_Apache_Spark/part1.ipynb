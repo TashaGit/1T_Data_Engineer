{
 "cells": [
  {
   "cell_type": "code",
   "execution_count": 1,
   "id": "46ef149f",
   "metadata": {},
   "outputs": [],
   "source": [
    "import pandas as pd"
   ]
  },
  {
   "cell_type": "code",
   "execution_count": 2,
   "id": "500fa215",
   "metadata": {},
   "outputs": [
    {
     "data": {
      "text/html": [
       "<div>\n",
       "<style scoped>\n",
       "    .dataframe tbody tr th:only-of-type {\n",
       "        vertical-align: middle;\n",
       "    }\n",
       "\n",
       "    .dataframe tbody tr th {\n",
       "        vertical-align: top;\n",
       "    }\n",
       "\n",
       "    .dataframe thead th {\n",
       "        text-align: right;\n",
       "    }\n",
       "</style>\n",
       "<table border=\"1\" class=\"dataframe\">\n",
       "  <thead>\n",
       "    <tr style=\"text-align: right;\">\n",
       "      <th></th>\n",
       "      <th>id</th>\n",
       "      <th>timestamp</th>\n",
       "    </tr>\n",
       "  </thead>\n",
       "  <tbody>\n",
       "    <tr>\n",
       "      <th>0</th>\n",
       "      <td>1</td>\n",
       "      <td>1562007679</td>\n",
       "    </tr>\n",
       "    <tr>\n",
       "      <th>1</th>\n",
       "      <td>1</td>\n",
       "      <td>1562007710</td>\n",
       "    </tr>\n",
       "    <tr>\n",
       "      <th>2</th>\n",
       "      <td>1</td>\n",
       "      <td>1562007720</td>\n",
       "    </tr>\n",
       "    <tr>\n",
       "      <th>3</th>\n",
       "      <td>1</td>\n",
       "      <td>1562007750</td>\n",
       "    </tr>\n",
       "    <tr>\n",
       "      <th>4</th>\n",
       "      <td>2</td>\n",
       "      <td>1564682430</td>\n",
       "    </tr>\n",
       "    <tr>\n",
       "      <th>5</th>\n",
       "      <td>2</td>\n",
       "      <td>1564682450</td>\n",
       "    </tr>\n",
       "    <tr>\n",
       "      <th>6</th>\n",
       "      <td>2</td>\n",
       "      <td>1564682480</td>\n",
       "    </tr>\n",
       "  </tbody>\n",
       "</table>\n",
       "</div>"
      ],
      "text/plain": [
       "   id   timestamp\n",
       "0   1  1562007679\n",
       "1   1  1562007710\n",
       "2   1  1562007720\n",
       "3   1  1562007750\n",
       "4   2  1564682430\n",
       "5   2  1564682450\n",
       "6   2  1564682480"
      ]
     },
     "execution_count": 2,
     "metadata": {},
     "output_type": "execute_result"
    }
   ],
   "source": [
    "data = [\n",
    "    {\"id\": 1, \"timestamp\": 1562007679},\n",
    "    {\"id\": 1, \"timestamp\": 1562007710},\n",
    "    {\"id\": 1, \"timestamp\": 1562007720},\n",
    "    {\"id\": 1, \"timestamp\": 1562007750},\n",
    "    {\"id\": 2, \"timestamp\": 1564682430},\n",
    "    {\"id\": 2, \"timestamp\": 1564682450},\n",
    "    {\"id\": 2, \"timestamp\": 1564682480},\n",
    "]\n",
    "\n",
    "df = pd.DataFrame(data)\n",
    "df.to_csv('df1.csv', index=False)\n",
    "df"
   ]
  },
  {
   "cell_type": "code",
   "execution_count": 3,
   "id": "fb555844",
   "metadata": {},
   "outputs": [],
   "source": [
    "from pyspark.sql import SparkSession, Window\n",
    "from pyspark.sql.functions import *"
   ]
  },
  {
   "cell_type": "code",
   "execution_count": 4,
   "id": "5e491775",
   "metadata": {},
   "outputs": [],
   "source": [
    "spark = SparkSession.builder \\\n",
    "  .master(\"local[1]\") \\\n",
    "  .appName(\"SessionLength\") \\\n",
    "  .config(\"spark.executor.memory\", \"10g\")\\\n",
    "  .config(\"spark.executor.cores\", 5) \\\n",
    "  .config(\"spark.dynamicAllocation.enabled\", \"true\") \\\n",
    "  .config(\"spark.dynamicAllocation.maxExecutors\", 5) \\\n",
    "  .config(\"spark.shuffle.service.enabled\", \"true\") \\\n",
    "  .getOrCreate()"
   ]
  },
  {
   "cell_type": "code",
   "execution_count": 5,
   "id": "d1f01a26",
   "metadata": {},
   "outputs": [
    {
     "name": "stdout",
     "output_type": "stream",
     "text": [
      "+---+----------+\n",
      "| id| timestamp|\n",
      "+---+----------+\n",
      "|  1|1562007679|\n",
      "|  1|1562007710|\n",
      "|  1|1562007720|\n",
      "|  1|1562007750|\n",
      "|  2|1564682430|\n",
      "|  2|1564682450|\n",
      "|  2|1564682480|\n",
      "+---+----------+\n",
      "\n"
     ]
    }
   ],
   "source": [
    "df1 = spark.read.format(\"csv\").option(\"header\", True).load(\"df1.csv\")\n",
    "df1.show()"
   ]
  },
  {
   "cell_type": "code",
   "execution_count": 6,
   "id": "b9558d7c",
   "metadata": {},
   "outputs": [
    {
     "name": "stdout",
     "output_type": "stream",
     "text": [
      "+---+----------+----------+----------+\n",
      "| id| timestamp|start_time|  end_time|\n",
      "+---+----------+----------+----------+\n",
      "|  1|1562007679|1562007679|1562007679|\n",
      "|  1|1562007710|1562007679|1562007710|\n",
      "|  1|1562007720|1562007679|1562007720|\n",
      "|  1|1562007750|1562007679|1562007750|\n",
      "|  2|1564682430|1564682430|1564682430|\n",
      "|  2|1564682450|1564682430|1564682450|\n",
      "|  2|1564682480|1564682430|1564682480|\n",
      "+---+----------+----------+----------+\n",
      "\n"
     ]
    }
   ],
   "source": [
    "w = Window.partitionBy(\"id\").orderBy(\"timestamp\")\n",
    "\n",
    "df_sessions = df1.select(\"*\", min(\"timestamp\").over(w).alias(\"start_time\"), \n",
    "                                 max(\"timestamp\").over(w).alias(\"end_time\"))\n",
    "df_sessions.show()\n"
   ]
  },
  {
   "cell_type": "code",
   "execution_count": 7,
   "id": "946cc1d4",
   "metadata": {},
   "outputs": [
    {
     "name": "stdout",
     "output_type": "stream",
     "text": [
      "+---+----------+----------+----------+----------+\n",
      "| id| timestamp|start_time|  end_time|       day|\n",
      "+---+----------+----------+----------+----------+\n",
      "|  1|1562007679|1562007679|1562007679|2019-07-02|\n",
      "|  1|1562007710|1562007679|1562007710|2019-07-02|\n",
      "|  1|1562007720|1562007679|1562007720|2019-07-02|\n",
      "|  1|1562007750|1562007679|1562007750|2019-07-02|\n",
      "|  2|1564682430|1564682430|1564682430|2019-08-01|\n",
      "|  2|1564682450|1564682430|1564682450|2019-08-01|\n",
      "|  2|1564682480|1564682430|1564682480|2019-08-01|\n",
      "+---+----------+----------+----------+----------+\n",
      "\n"
     ]
    }
   ],
   "source": [
    "df_sessions = df_sessions.withColumn(\"day\", to_date(from_unixtime(\"timestamp\")))\n",
    "df_sessions.show()"
   ]
  },
  {
   "cell_type": "code",
   "execution_count": 8,
   "id": "d546d7a2",
   "metadata": {},
   "outputs": [
    {
     "name": "stdout",
     "output_type": "stream",
     "text": [
      "+---+----------+------------------+\n",
      "| id|       day|avg_session_length|\n",
      "+---+----------+------------------+\n",
      "|  1|2019-07-02|             35.75|\n",
      "|  2|2019-08-01|             23.33|\n",
      "+---+----------+------------------+\n",
      "\n"
     ]
    }
   ],
   "source": [
    "w = Window.partitionBy(\"id\", \"day\").orderBy(\"timestamp\")\n",
    "df_sessions_avg = df_sessions.select(\"*\",\n",
    "                  (max(\"end_time\").over(w) - min(\"start_time\").over(w)).alias(\"session_length\"))\n",
    "df_sessions_avg = df_sessions_avg.groupBy(\"id\", \"day\")\\\n",
    "                  .agg(round(avg(\"session_length\"), 2).alias(\"avg_session_length\")).show()"
   ]
  },
  {
   "cell_type": "code",
   "execution_count": 9,
   "id": "c2091806",
   "metadata": {},
   "outputs": [
    {
     "data": {
      "text/plain": [
       "<bound method SparkSession.stop of <pyspark.sql.session.SparkSession object at 0x000002A37CC76150>>"
      ]
     },
     "execution_count": 9,
     "metadata": {},
     "output_type": "execute_result"
    }
   ],
   "source": [
    "spark.stop"
   ]
  }
 ],
 "metadata": {
  "kernelspec": {
   "display_name": "Python 3 (ipykernel)",
   "language": "python",
   "name": "python3"
  },
  "language_info": {
   "codemirror_mode": {
    "name": "ipython",
    "version": 3
   },
   "file_extension": ".py",
   "mimetype": "text/x-python",
   "name": "python",
   "nbconvert_exporter": "python",
   "pygments_lexer": "ipython3",
   "version": "3.11.4"
  }
 },
 "nbformat": 4,
 "nbformat_minor": 5
}
