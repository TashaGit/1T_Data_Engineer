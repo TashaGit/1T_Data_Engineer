{
 "cells": [
  {
   "cell_type": "markdown",
   "metadata": {
    "collapsed": false,
    "jupyter": {
     "outputs_hidden": false
    }
   },
   "source": [
    "### Импортируем библиотеки"
   ]
  },
  {
   "cell_type": "code",
   "execution_count": 1,
   "metadata": {
    "collapsed": false,
    "jupyter": {
     "outputs_hidden": false
    }
   },
   "outputs": [],
   "source": [
    "import csv\n",
    "import time\n",
    "import requests\n",
    "import pandas as pd\n",
    "from pandas.tseries.offsets import DateOffset"
   ]
  },
  {
   "cell_type": "markdown",
   "metadata": {
    "collapsed": false,
    "jupyter": {
     "outputs_hidden": false
    }
   },
   "source": [
    "### Назначим глобальные переменные"
   ]
  },
  {
   "cell_type": "code",
   "execution_count": 10,
   "metadata": {
    "collapsed": false,
    "jupyter": {
     "outputs_hidden": false
    }
   },
   "outputs": [],
   "source": [
    "token = 'Введите сюда свой token'\n",
    "version = 5.131\n",
    "count = 100"
   ]
  },
  {
   "cell_type": "markdown",
   "metadata": {
    "collapsed": false,
    "jupyter": {
     "outputs_hidden": false
    }
   },
   "source": [
    "### Напишем функцию парсинга постов на стене (метод 'wall.get')"
   ]
  },
  {
   "cell_type": "code",
   "execution_count": 3,
   "metadata": {
    "collapsed": false,
    "jupyter": {
     "outputs_hidden": false
    }
   },
   "outputs": [],
   "source": [
    "def take_all_posts():\n",
    "    domain = '1tsprint'\n",
    "    all_posts = []\n",
    "    offset = 0\n",
    "    while offset < 1000:\n",
    "        response = requests.get('https://api.vk.com/method/wall.get',\n",
    "                                params={\n",
    "                                    'access_token': token,\n",
    "                                    'v': version,\n",
    "                                    'domain': domain,\n",
    "                                    'count': count,\n",
    "                                    'offset': offset\n",
    "                                    }\n",
    "                                )\n",
    "        data = response.json()['response']['items']\n",
    "        offset += 100\n",
    "        all_posts.extend(data)\n",
    "        time.sleep(0.5)\n",
    "    return all_posts\n",
    "all_posts = take_all_posts()"
   ]
  },
  {
   "cell_type": "markdown",
   "metadata": {},
   "source": [
    "### Вытянем из таблицы данные о количестве лайков и количестве комментариев."
   ]
  },
  {
   "cell_type": "code",
   "execution_count": 4,
   "metadata": {
    "collapsed": false,
    "jupyter": {
     "outputs_hidden": false
    }
   },
   "outputs": [
    {
     "data": {
      "text/html": [
       "<div>\n",
       "<style scoped>\n",
       "    .dataframe tbody tr th:only-of-type {\n",
       "        vertical-align: middle;\n",
       "    }\n",
       "\n",
       "    .dataframe tbody tr th {\n",
       "        vertical-align: top;\n",
       "    }\n",
       "\n",
       "    .dataframe thead th {\n",
       "        text-align: right;\n",
       "    }\n",
       "</style>\n",
       "<table border=\"1\" class=\"dataframe\">\n",
       "  <thead>\n",
       "    <tr style=\"text-align: right;\">\n",
       "      <th></th>\n",
       "      <th>text_post</th>\n",
       "      <th>count_likes</th>\n",
       "      <th>count_comments</th>\n",
       "      <th>post_date</th>\n",
       "    </tr>\n",
       "  </thead>\n",
       "  <tbody>\n",
       "    <tr>\n",
       "      <th>0</th>\n",
       "      <td>Что такое Zoom-этикет \\n \\n💻 Видеоконференции ...</td>\n",
       "      <td>4</td>\n",
       "      <td>0</td>\n",
       "      <td>2023-07-16 12:45:00</td>\n",
       "    </tr>\n",
       "    <tr>\n",
       "      <th>1</th>\n",
       "      <td>Мастермайнд: как находить лучшие решения с пом...</td>\n",
       "      <td>2</td>\n",
       "      <td>0</td>\n",
       "      <td>2023-07-15 12:30:00</td>\n",
       "    </tr>\n",
       "    <tr>\n",
       "      <th>2</th>\n",
       "      <td>Заключительная часть советов от участников раз...</td>\n",
       "      <td>7</td>\n",
       "      <td>2</td>\n",
       "      <td>2023-07-14 13:04:05</td>\n",
       "    </tr>\n",
       "    <tr>\n",
       "      <th>3</th>\n",
       "      <td>Как понимать корпоративный сленг \\n \\n💬 У нас ...</td>\n",
       "      <td>5</td>\n",
       "      <td>0</td>\n",
       "      <td>2023-07-13 13:45:00</td>\n",
       "    </tr>\n",
       "    <tr>\n",
       "      <th>4</th>\n",
       "      <td>Как в 1Т Клубе организована менторская поддерж...</td>\n",
       "      <td>15</td>\n",
       "      <td>0</td>\n",
       "      <td>2023-07-12 13:00:01</td>\n",
       "    </tr>\n",
       "  </tbody>\n",
       "</table>\n",
       "</div>"
      ],
      "text/plain": [
       "                                           text_post  count_likes  \\\n",
       "0  Что такое Zoom-этикет \\n \\n💻 Видеоконференции ...            4   \n",
       "1  Мастермайнд: как находить лучшие решения с пом...            2   \n",
       "2  Заключительная часть советов от участников раз...            7   \n",
       "3  Как понимать корпоративный сленг \\n \\n💬 У нас ...            5   \n",
       "4  Как в 1Т Клубе организована менторская поддерж...           15   \n",
       "\n",
       "   count_comments           post_date  \n",
       "0               0 2023-07-16 12:45:00  \n",
       "1               0 2023-07-15 12:30:00  \n",
       "2               2 2023-07-14 13:04:05  \n",
       "3               0 2023-07-13 13:45:00  \n",
       "4               0 2023-07-12 13:00:01  "
      ]
     },
     "execution_count": 4,
     "metadata": {},
     "output_type": "execute_result"
    }
   ],
   "source": [
    "list_posts, list_likes, list_comments, list_date_of_post= [], [], [], []\n",
    "for post in all_posts:\n",
    "    list_posts.append(post['text'])\n",
    "    list_likes.append(post['likes']['count'])\n",
    "    list_comments.append(post['comments']['count'])\n",
    "    list_date_of_post.append(post['date'])  \n",
    "list_date_of_post = pd.Series(list_date_of_post)   \n",
    "\n",
    "count_df = pd.concat([pd.Series(list_posts), pd.Series(list_likes), pd.Series(list_comments), list_date_of_post.astype('int').astype(\"datetime64[s]\")], axis=1)\n",
    "count_df.columns = ['text_post', 'count_likes', 'count_comments', 'post_date']\n",
    "count_df.head()"
   ]
  },
  {
   "cell_type": "markdown",
   "metadata": {},
   "source": [
    "### Найдем сегодняшнее число и отнимем от этой даты 3 месяца, чтобы вывести TOP 10 самых популярных новостей за последние 3 месяца."
   ]
  },
  {
   "cell_type": "code",
   "execution_count": 5,
   "metadata": {
    "collapsed": false,
    "jupyter": {
     "outputs_hidden": false
    }
   },
   "outputs": [
    {
     "data": {
      "text/plain": [
       "Timestamp('2023-07-17 00:00:00')"
      ]
     },
     "execution_count": 5,
     "metadata": {},
     "output_type": "execute_result"
    }
   ],
   "source": [
    "date_today = pd.Timestamp.now().normalize()\n",
    "date_today"
   ]
  },
  {
   "cell_type": "code",
   "execution_count": 6,
   "metadata": {
    "collapsed": false,
    "jupyter": {
     "outputs_hidden": false
    }
   },
   "outputs": [
    {
     "data": {
      "text/plain": [
       "Timestamp('2023-04-17 00:00:00')"
      ]
     },
     "execution_count": 6,
     "metadata": {},
     "output_type": "execute_result"
    }
   ],
   "source": [
    "find_date = pd.Timestamp.now().normalize() - DateOffset(months = 3)\n",
    "find_date"
   ]
  },
  {
   "cell_type": "markdown",
   "metadata": {},
   "source": [
    "### Выведем все значения таблицы за последние 3 месяца."
   ]
  },
  {
   "cell_type": "code",
   "execution_count": 7,
   "metadata": {
    "collapsed": false,
    "jupyter": {
     "outputs_hidden": false
    }
   },
   "outputs": [
    {
     "data": {
      "text/html": [
       "<div>\n",
       "<style scoped>\n",
       "    .dataframe tbody tr th:only-of-type {\n",
       "        vertical-align: middle;\n",
       "    }\n",
       "\n",
       "    .dataframe tbody tr th {\n",
       "        vertical-align: top;\n",
       "    }\n",
       "\n",
       "    .dataframe thead th {\n",
       "        text-align: right;\n",
       "    }\n",
       "</style>\n",
       "<table border=\"1\" class=\"dataframe\">\n",
       "  <thead>\n",
       "    <tr style=\"text-align: right;\">\n",
       "      <th></th>\n",
       "      <th>text_post</th>\n",
       "      <th>count_likes</th>\n",
       "      <th>count_comments</th>\n",
       "      <th>post_date</th>\n",
       "    </tr>\n",
       "  </thead>\n",
       "  <tbody>\n",
       "    <tr>\n",
       "      <th>96</th>\n",
       "      <td>География 1Т — итоги конкурса \\n \\n🏙 В субботу...</td>\n",
       "      <td>8</td>\n",
       "      <td>0</td>\n",
       "      <td>2023-04-19 14:22:50</td>\n",
       "    </tr>\n",
       "    <tr>\n",
       "      <th>97</th>\n",
       "      <td>Бесплатные курсы программирования для школьник...</td>\n",
       "      <td>9</td>\n",
       "      <td>0</td>\n",
       "      <td>2023-04-19 10:51:59</td>\n",
       "    </tr>\n",
       "    <tr>\n",
       "      <th>98</th>\n",
       "      <td>Я тоже хочу на хакатон! \\nНейросети и искусств...</td>\n",
       "      <td>6</td>\n",
       "      <td>0</td>\n",
       "      <td>2023-04-18 14:15:54</td>\n",
       "    </tr>\n",
       "    <tr>\n",
       "      <th>99</th>\n",
       "      <td>Приглашаем родителей школьников 8–11 классов н...</td>\n",
       "      <td>2</td>\n",
       "      <td>0</td>\n",
       "      <td>2023-04-18 07:42:07</td>\n",
       "    </tr>\n",
       "    <tr>\n",
       "      <th>100</th>\n",
       "      <td>Дорогие друзья! \\n \\n🎉 Недавно четырнадцать ко...</td>\n",
       "      <td>44</td>\n",
       "      <td>3</td>\n",
       "      <td>2023-04-17 13:48:06</td>\n",
       "    </tr>\n",
       "  </tbody>\n",
       "</table>\n",
       "</div>"
      ],
      "text/plain": [
       "                                             text_post  count_likes  \\\n",
       "96   География 1Т — итоги конкурса \\n \\n🏙 В субботу...            8   \n",
       "97   Бесплатные курсы программирования для школьник...            9   \n",
       "98   Я тоже хочу на хакатон! \\nНейросети и искусств...            6   \n",
       "99   Приглашаем родителей школьников 8–11 классов н...            2   \n",
       "100  Дорогие друзья! \\n \\n🎉 Недавно четырнадцать ко...           44   \n",
       "\n",
       "     count_comments           post_date  \n",
       "96                0 2023-04-19 14:22:50  \n",
       "97                0 2023-04-19 10:51:59  \n",
       "98                0 2023-04-18 14:15:54  \n",
       "99                0 2023-04-18 07:42:07  \n",
       "100               3 2023-04-17 13:48:06  "
      ]
     },
     "execution_count": 7,
     "metadata": {},
     "output_type": "execute_result"
    }
   ],
   "source": [
    "df_3_last_month = count_df.loc[(count_df['post_date'] >= find_date)]\n",
    "df_3_last_month.tail()"
   ]
  },
  {
   "cell_type": "markdown",
   "metadata": {},
   "source": [
    "### Выведем ТОП 10 самых популярных новостей за последние 3 месяца (популярность новости определяется количеством лайков). Сохраним файл в формате *.csv."
   ]
  },
  {
   "cell_type": "code",
   "execution_count": 8,
   "metadata": {
    "collapsed": false,
    "jupyter": {
     "outputs_hidden": false
    }
   },
   "outputs": [
    {
     "data": {
      "text/html": [
       "<div>\n",
       "<style scoped>\n",
       "    .dataframe tbody tr th:only-of-type {\n",
       "        vertical-align: middle;\n",
       "    }\n",
       "\n",
       "    .dataframe tbody tr th {\n",
       "        vertical-align: top;\n",
       "    }\n",
       "\n",
       "    .dataframe thead th {\n",
       "        text-align: right;\n",
       "    }\n",
       "</style>\n",
       "<table border=\"1\" class=\"dataframe\">\n",
       "  <thead>\n",
       "    <tr style=\"text-align: right;\">\n",
       "      <th></th>\n",
       "      <th>text_post</th>\n",
       "      <th>count_likes</th>\n",
       "    </tr>\n",
       "  </thead>\n",
       "  <tbody>\n",
       "    <tr>\n",
       "      <th>100</th>\n",
       "      <td>Дорогие друзья! \\n \\n🎉 Недавно четырнадцать ко...</td>\n",
       "      <td>44</td>\n",
       "    </tr>\n",
       "    <tr>\n",
       "      <th>15</th>\n",
       "      <td>1Т будет участвовать в развитии беспилотного т...</td>\n",
       "      <td>20</td>\n",
       "    </tr>\n",
       "    <tr>\n",
       "      <th>95</th>\n",
       "      <td>Проекты Спринта: сайт для РСО \\n \\n🙎‍♂ Значите...</td>\n",
       "      <td>20</td>\n",
       "    </tr>\n",
       "    <tr>\n",
       "      <th>91</th>\n",
       "      <td>Проекты-победители 7-го потока \\n \\n🏆 Презента...</td>\n",
       "      <td>19</td>\n",
       "    </tr>\n",
       "    <tr>\n",
       "      <th>66</th>\n",
       "      <td>🐭 У нас появился классный мерч — коврики и ком...</td>\n",
       "      <td>18</td>\n",
       "    </tr>\n",
       "    <tr>\n",
       "      <th>86</th>\n",
       "      <td>Профессия аналитик: открытый вебинар</td>\n",
       "      <td>18</td>\n",
       "    </tr>\n",
       "    <tr>\n",
       "      <th>29</th>\n",
       "      <td>Как создавались курсы 1Т? \\n \\nСначала мы обза...</td>\n",
       "      <td>17</td>\n",
       "    </tr>\n",
       "    <tr>\n",
       "      <th>73</th>\n",
       "      <td>1Т — спонсор конкурса Мисс и Мистер СПбСО 2023...</td>\n",
       "      <td>17</td>\n",
       "    </tr>\n",
       "    <tr>\n",
       "      <th>87</th>\n",
       "      <td>🚀 Три новых курса от 1Т по искусственному инте...</td>\n",
       "      <td>17</td>\n",
       "    </tr>\n",
       "    <tr>\n",
       "      <th>89</th>\n",
       "      <td>🧙‍♀ Выложили фотоотчет с самого масштабного Оф...</td>\n",
       "      <td>16</td>\n",
       "    </tr>\n",
       "  </tbody>\n",
       "</table>\n",
       "</div>"
      ],
      "text/plain": [
       "                                             text_post  count_likes\n",
       "100  Дорогие друзья! \\n \\n🎉 Недавно четырнадцать ко...           44\n",
       "15   1Т будет участвовать в развитии беспилотного т...           20\n",
       "95   Проекты Спринта: сайт для РСО \\n \\n🙎‍♂ Значите...           20\n",
       "91   Проекты-победители 7-го потока \\n \\n🏆 Презента...           19\n",
       "66   🐭 У нас появился классный мерч — коврики и ком...           18\n",
       "86                Профессия аналитик: открытый вебинар           18\n",
       "29   Как создавались курсы 1Т? \\n \\nСначала мы обза...           17\n",
       "73   1Т — спонсор конкурса Мисс и Мистер СПбСО 2023...           17\n",
       "87   🚀 Три новых курса от 1Т по искусственному инте...           17\n",
       "89   🧙‍♀ Выложили фотоотчет с самого масштабного Оф...           16"
      ]
     },
     "execution_count": 8,
     "metadata": {},
     "output_type": "execute_result"
    }
   ],
   "source": [
    "df_popular_likes = df_3_last_month.nlargest(n=10, columns=['count_likes'], keep=\"all\")[['text_post', 'count_likes']]\n",
    "df_popular_likes.to_csv('top10_popular_posts.csv')\n",
    "df_popular_likes"
   ]
  },
  {
   "cell_type": "markdown",
   "metadata": {},
   "source": [
    "### Выведем TOP 10 постов с комментариями (выводятся посты с максимальным количеством комментариев). По условию не сказано, за какой период, поэтому выведем ТОП10 за все время существования группы VK. Сохраним файл в формате *.csv."
   ]
  },
  {
   "cell_type": "code",
   "execution_count": 9,
   "metadata": {
    "collapsed": false,
    "jupyter": {
     "outputs_hidden": false
    }
   },
   "outputs": [
    {
     "data": {
      "text/html": [
       "<div>\n",
       "<style scoped>\n",
       "    .dataframe tbody tr th:only-of-type {\n",
       "        vertical-align: middle;\n",
       "    }\n",
       "\n",
       "    .dataframe tbody tr th {\n",
       "        vertical-align: top;\n",
       "    }\n",
       "\n",
       "    .dataframe thead th {\n",
       "        text-align: right;\n",
       "    }\n",
       "</style>\n",
       "<table border=\"1\" class=\"dataframe\">\n",
       "  <thead>\n",
       "    <tr style=\"text-align: right;\">\n",
       "      <th></th>\n",
       "      <th>text_post</th>\n",
       "      <th>count_comments</th>\n",
       "    </tr>\n",
       "  </thead>\n",
       "  <tbody>\n",
       "    <tr>\n",
       "      <th>311</th>\n",
       "      <td>Еще три новых термина 🎉 \\n \\nДва слова из трех...</td>\n",
       "      <td>7</td>\n",
       "    </tr>\n",
       "    <tr>\n",
       "      <th>145</th>\n",
       "      <td>Приручаем искусственный интеллект \\n \\n🎨 1 мар...</td>\n",
       "      <td>5</td>\n",
       "    </tr>\n",
       "    <tr>\n",
       "      <th>38</th>\n",
       "      <td>Итоги конкурса #навыки1Т \\n \\n🐭 Недавно у 1Т С...</td>\n",
       "      <td>3</td>\n",
       "    </tr>\n",
       "    <tr>\n",
       "      <th>100</th>\n",
       "      <td>Дорогие друзья! \\n \\n🎉 Недавно четырнадцать ко...</td>\n",
       "      <td>3</td>\n",
       "    </tr>\n",
       "    <tr>\n",
       "      <th>2</th>\n",
       "      <td>Заключительная часть советов от участников раз...</td>\n",
       "      <td>2</td>\n",
       "    </tr>\n",
       "    <tr>\n",
       "      <th>123</th>\n",
       "      <td>🏴‍☠ Выложили на нашем YouTube-канале видео, то...</td>\n",
       "      <td>2</td>\n",
       "    </tr>\n",
       "    <tr>\n",
       "      <th>13</th>\n",
       "      <td>7 полезных сервисов для тех, кто работает с те...</td>\n",
       "      <td>1</td>\n",
       "    </tr>\n",
       "    <tr>\n",
       "      <th>33</th>\n",
       "      <td>Чего не стоит делать на собеседовании \\n \\nВы ...</td>\n",
       "      <td>1</td>\n",
       "    </tr>\n",
       "    <tr>\n",
       "      <th>140</th>\n",
       "      <td>🔔 Свистать всех наверх! \\n \\n🏴‍☠ ИТ-конференци...</td>\n",
       "      <td>1</td>\n",
       "    </tr>\n",
       "    <tr>\n",
       "      <th>190</th>\n",
       "      <td>Как работает Bluetooth \\n \\n⚡ Bluetooth — техн...</td>\n",
       "      <td>1</td>\n",
       "    </tr>\n",
       "    <tr>\n",
       "      <th>211</th>\n",
       "      <td>Что умеют нейросети? \\n \\nНейросети уже стали ...</td>\n",
       "      <td>1</td>\n",
       "    </tr>\n",
       "    <tr>\n",
       "      <th>213</th>\n",
       "      <td>Вчера, 26 декабря, в Совете Федерации состоялс...</td>\n",
       "      <td>1</td>\n",
       "    </tr>\n",
       "    <tr>\n",
       "      <th>216</th>\n",
       "      <td>Стратегии переговоров \\n \\n🤝 Говорят, что чест...</td>\n",
       "      <td>1</td>\n",
       "    </tr>\n",
       "    <tr>\n",
       "      <th>224</th>\n",
       "      <td>Бинго «1Т Спринт» \\n \\n🎉 Скоро Новый год, врем...</td>\n",
       "      <td>1</td>\n",
       "    </tr>\n",
       "    <tr>\n",
       "      <th>238</th>\n",
       "      <td>🔥 Уже несколько дней интернет развлекается, за...</td>\n",
       "      <td>1</td>\n",
       "    </tr>\n",
       "    <tr>\n",
       "      <th>288</th>\n",
       "      <td>🤨 Несколько лет назад руководитель американско...</td>\n",
       "      <td>1</td>\n",
       "    </tr>\n",
       "  </tbody>\n",
       "</table>\n",
       "</div>"
      ],
      "text/plain": [
       "                                             text_post  count_comments\n",
       "311  Еще три новых термина 🎉 \\n \\nДва слова из трех...               7\n",
       "145  Приручаем искусственный интеллект \\n \\n🎨 1 мар...               5\n",
       "38   Итоги конкурса #навыки1Т \\n \\n🐭 Недавно у 1Т С...               3\n",
       "100  Дорогие друзья! \\n \\n🎉 Недавно четырнадцать ко...               3\n",
       "2    Заключительная часть советов от участников раз...               2\n",
       "123  🏴‍☠ Выложили на нашем YouTube-канале видео, то...               2\n",
       "13   7 полезных сервисов для тех, кто работает с те...               1\n",
       "33   Чего не стоит делать на собеседовании \\n \\nВы ...               1\n",
       "140  🔔 Свистать всех наверх! \\n \\n🏴‍☠ ИТ-конференци...               1\n",
       "190  Как работает Bluetooth \\n \\n⚡ Bluetooth — техн...               1\n",
       "211  Что умеют нейросети? \\n \\nНейросети уже стали ...               1\n",
       "213  Вчера, 26 декабря, в Совете Федерации состоялс...               1\n",
       "216  Стратегии переговоров \\n \\n🤝 Говорят, что чест...               1\n",
       "224  Бинго «1Т Спринт» \\n \\n🎉 Скоро Новый год, врем...               1\n",
       "238  🔥 Уже несколько дней интернет развлекается, за...               1\n",
       "288  🤨 Несколько лет назад руководитель американско...               1"
      ]
     },
     "execution_count": 9,
     "metadata": {},
     "output_type": "execute_result"
    }
   ],
   "source": [
    "df_popular_comments = count_df.nlargest(n=10, columns=['count_comments'], keep=\"all\")[['text_post', 'count_comments']]\n",
    "df_popular_comments.to_csv('top10_popular_comments.csv') \n",
    "df_popular_comments"
   ]
  },
  {
   "cell_type": "code",
   "execution_count": null,
   "metadata": {
    "collapsed": false,
    "jupyter": {
     "outputs_hidden": false
    }
   },
   "outputs": [],
   "source": []
  }
 ],
 "metadata": {
  "kernelspec": {
   "display_name": "Python 3 (ipykernel)",
   "language": "python",
   "name": "python3"
  },
  "language_info": {
   "codemirror_mode": {
    "name": "ipython",
    "version": 3
   },
   "file_extension": ".py",
   "mimetype": "text/x-python",
   "name": "python",
   "nbconvert_exporter": "python",
   "pygments_lexer": "ipython3",
   "version": "3.8.16"
  }
 },
 "nbformat": 4,
 "nbformat_minor": 4
}
