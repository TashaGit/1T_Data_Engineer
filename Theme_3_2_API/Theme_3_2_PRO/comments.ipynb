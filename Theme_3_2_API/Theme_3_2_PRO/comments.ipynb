{
 "cells": [
  {
   "cell_type": "markdown",
   "metadata": {
    "collapsed": false,
    "jupyter": {
     "outputs_hidden": false
    }
   },
   "source": [
    "### Импортируем библиотеки"
   ]
  },
  {
   "cell_type": "code",
   "execution_count": 1,
   "metadata": {
    "collapsed": false,
    "jupyter": {
     "outputs_hidden": false
    }
   },
   "outputs": [],
   "source": [
    "import csv\n",
    "import time\n",
    "import requests\n",
    "import pandas as pd"
   ]
  },
  {
   "cell_type": "markdown",
   "metadata": {
    "collapsed": false,
    "jupyter": {
     "outputs_hidden": false
    }
   },
   "source": [
    "### Назначим глобальные переменные"
   ]
  },
  {
   "cell_type": "code",
   "execution_count": 2,
   "metadata": {
    "collapsed": false,
    "jupyter": {
     "outputs_hidden": false
    }
   },
   "outputs": [],
   "source": [
    "token = 'Введите свой token'\n",
    "version = 5.131\n",
    "count = 100"
   ]
  },
  {
   "cell_type": "markdown",
   "metadata": {
    "collapsed": false,
    "jupyter": {
     "outputs_hidden": false
    }
   },
   "source": [
    "### Напишем функцию парсинга постов на стене ('wall.get')"
   ]
  },
  {
   "cell_type": "code",
   "execution_count": 3,
   "metadata": {},
   "outputs": [],
   "source": [
    "def take_all_posts():\n",
    "    domain = '1tsprint'\n",
    "    all_posts = []\n",
    "    offset = 0\n",
    "    while offset < 1000:\n",
    "        response = requests.get('https://api.vk.com/method/wall.get',\n",
    "                                params={\n",
    "                                    'access_token': token,\n",
    "                                    'v': version,\n",
    "                                    'domain': domain,\n",
    "                                    'count': count,\n",
    "                                    'offset': offset\n",
    "                                    }\n",
    "                                )\n",
    "        data = response.json()['response']['items']\n",
    "        offset += 100\n",
    "        all_posts.extend(data)\n",
    "        time.sleep(0.5)\n",
    "    return all_posts\n",
    "all_posts = take_all_posts()"
   ]
  },
  {
   "cell_type": "markdown",
   "metadata": {},
   "source": [
    "### Соберем таблицу постов за все время, отдельным столбцом 'count_comments' выведем количество комментариев к каждому посту."
   ]
  },
  {
   "cell_type": "code",
   "execution_count": 4,
   "metadata": {},
   "outputs": [
    {
     "data": {
      "text/html": [
       "<div>\n",
       "<style scoped>\n",
       "    .dataframe tbody tr th:only-of-type {\n",
       "        vertical-align: middle;\n",
       "    }\n",
       "\n",
       "    .dataframe tbody tr th {\n",
       "        vertical-align: top;\n",
       "    }\n",
       "\n",
       "    .dataframe thead th {\n",
       "        text-align: right;\n",
       "    }\n",
       "</style>\n",
       "<table border=\"1\" class=\"dataframe\">\n",
       "  <thead>\n",
       "    <tr style=\"text-align: right;\">\n",
       "      <th></th>\n",
       "      <th>post_id</th>\n",
       "      <th>text_post</th>\n",
       "      <th>count_comments</th>\n",
       "      <th>date_public</th>\n",
       "    </tr>\n",
       "  </thead>\n",
       "  <tbody>\n",
       "    <tr>\n",
       "      <th>0</th>\n",
       "      <td>560</td>\n",
       "      <td>Что такое Zoom-этикет \\n \\n💻 Видеоконференции ...</td>\n",
       "      <td>0</td>\n",
       "      <td>2023-07-16 12:45:00</td>\n",
       "    </tr>\n",
       "    <tr>\n",
       "      <th>1</th>\n",
       "      <td>559</td>\n",
       "      <td>Мастермайнд: как находить лучшие решения с пом...</td>\n",
       "      <td>0</td>\n",
       "      <td>2023-07-15 12:30:00</td>\n",
       "    </tr>\n",
       "    <tr>\n",
       "      <th>2</th>\n",
       "      <td>554</td>\n",
       "      <td>Заключительная часть советов от участников раз...</td>\n",
       "      <td>2</td>\n",
       "      <td>2023-07-14 13:04:05</td>\n",
       "    </tr>\n",
       "    <tr>\n",
       "      <th>3</th>\n",
       "      <td>549</td>\n",
       "      <td>Как понимать корпоративный сленг \\n \\n💬 У нас ...</td>\n",
       "      <td>0</td>\n",
       "      <td>2023-07-13 13:45:00</td>\n",
       "    </tr>\n",
       "    <tr>\n",
       "      <th>4</th>\n",
       "      <td>547</td>\n",
       "      <td>Как в 1Т Клубе организована менторская поддерж...</td>\n",
       "      <td>0</td>\n",
       "      <td>2023-07-12 13:00:01</td>\n",
       "    </tr>\n",
       "  </tbody>\n",
       "</table>\n",
       "</div>"
      ],
      "text/plain": [
       "   post_id                                          text_post  count_comments  \\\n",
       "0      560  Что такое Zoom-этикет \\n \\n💻 Видеоконференции ...               0   \n",
       "1      559  Мастермайнд: как находить лучшие решения с пом...               0   \n",
       "2      554  Заключительная часть советов от участников раз...               2   \n",
       "3      549  Как понимать корпоративный сленг \\n \\n💬 У нас ...               0   \n",
       "4      547  Как в 1Т Клубе организована менторская поддерж...               0   \n",
       "\n",
       "          date_public  \n",
       "0 2023-07-16 12:45:00  \n",
       "1 2023-07-15 12:30:00  \n",
       "2 2023-07-14 13:04:05  \n",
       "3 2023-07-13 13:45:00  \n",
       "4 2023-07-12 13:00:01  "
      ]
     },
     "execution_count": 4,
     "metadata": {},
     "output_type": "execute_result"
    }
   ],
   "source": [
    "list_posts, list_comments, list_date_of_post, list_post_id = [], [], [], []\n",
    "for post in all_posts:\n",
    "    list_posts.append(post['text'])\n",
    "    list_comments.append(post['comments']['count'])\n",
    "    list_date_of_post.append(post['date'])\n",
    "    list_post_id.append(post['id'])\n",
    "list_date_of_post = pd.Series(list_date_of_post)   \n",
    "\n",
    "count_comment_df = pd.concat([pd.Series(list_post_id), pd.Series(list_posts), pd.Series(list_comments), list_date_of_post.astype('int').astype(\"datetime64[s]\")], axis=1)\n",
    "count_comment_df.columns = ['post_id', 'text_post', 'count_comments', 'date_public']\n",
    "count_comment_df.head()"
   ]
  },
  {
   "cell_type": "code",
   "execution_count": 5,
   "metadata": {},
   "outputs": [
    {
     "name": "stdout",
     "output_type": "stream",
     "text": [
      "<class 'pandas.core.frame.DataFrame'>\n",
      "RangeIndex: 323 entries, 0 to 322\n",
      "Data columns (total 4 columns):\n",
      " #   Column          Non-Null Count  Dtype        \n",
      "---  ------          --------------  -----        \n",
      " 0   post_id         323 non-null    int64        \n",
      " 1   text_post       323 non-null    object       \n",
      " 2   count_comments  323 non-null    int64        \n",
      " 3   date_public     323 non-null    datetime64[s]\n",
      "dtypes: datetime64[s](1), int64(2), object(1)\n",
      "memory usage: 10.2+ KB\n"
     ]
    }
   ],
   "source": [
    "count_comment_df.info()"
   ]
  },
  {
   "cell_type": "markdown",
   "metadata": {},
   "source": [
    "### Посмотрим, сколько всего постов посвящены тематике Data Engineering:"
   ]
  },
  {
   "cell_type": "code",
   "execution_count": 6,
   "metadata": {
    "collapsed": false,
    "jupyter": {
     "outputs_hidden": false
    }
   },
   "outputs": [
    {
     "name": "stdout",
     "output_type": "stream",
     "text": [
      "Всего найдено 6 постов с тематикой \"дата инженер|data eng|инженер данных\".\n"
     ]
    },
    {
     "data": {
      "text/plain": [
       "55     🎙 в эту среду, 24 мая, в 19 часов по мск — оче...\n",
       "76     🖥 приглашаем на вебинар сегодня в 20:00! \\n \\n...\n",
       "82     на нашем youtube-канале вышла запись вебинара ...\n",
       "84     ⏰ начинаем через полчаса! \\n \\nвебинар «как по...\n",
       "87     🚀 три новых курса от 1т по искусственному инте...\n",
       "322    курс «инженер данных» https://sprint.1t.ru/eng...\n",
       "Name: text_post, dtype: object"
      ]
     },
     "execution_count": 6,
     "metadata": {},
     "output_type": "execute_result"
    }
   ],
   "source": [
    "posts_de = count_comment_df['text_post'].str.lower()\n",
    "posts_de = posts_de[posts_de.str.contains('дата инженер|data eng|инженер данных')]\n",
    "print(f'Всего найдено {len(posts_de)} постов с тематикой \"дата инженер|data eng|инженер данных\".')\n",
    "posts_de"
   ]
  },
  {
   "cell_type": "markdown",
   "metadata": {},
   "source": [
    "### Выведем отдельную таблицу, где отберем посты, в которых оставлен хотя бы 1 комментарий."
   ]
  },
  {
   "cell_type": "code",
   "execution_count": 7,
   "metadata": {
    "collapsed": false,
    "jupyter": {
     "outputs_hidden": false
    }
   },
   "outputs": [
    {
     "data": {
      "text/html": [
       "<div>\n",
       "<style scoped>\n",
       "    .dataframe tbody tr th:only-of-type {\n",
       "        vertical-align: middle;\n",
       "    }\n",
       "\n",
       "    .dataframe tbody tr th {\n",
       "        vertical-align: top;\n",
       "    }\n",
       "\n",
       "    .dataframe thead th {\n",
       "        text-align: right;\n",
       "    }\n",
       "</style>\n",
       "<table border=\"1\" class=\"dataframe\">\n",
       "  <thead>\n",
       "    <tr style=\"text-align: right;\">\n",
       "      <th></th>\n",
       "      <th>post_id</th>\n",
       "      <th>text_post</th>\n",
       "      <th>count_comments</th>\n",
       "      <th>date_public</th>\n",
       "    </tr>\n",
       "  </thead>\n",
       "  <tbody>\n",
       "    <tr>\n",
       "      <th>2</th>\n",
       "      <td>554</td>\n",
       "      <td>Заключительная часть советов от участников раз...</td>\n",
       "      <td>2</td>\n",
       "      <td>2023-07-14 13:04:05</td>\n",
       "    </tr>\n",
       "    <tr>\n",
       "      <th>13</th>\n",
       "      <td>531</td>\n",
       "      <td>7 полезных сервисов для тех, кто работает с те...</td>\n",
       "      <td>1</td>\n",
       "      <td>2023-07-01 12:30:00</td>\n",
       "    </tr>\n",
       "    <tr>\n",
       "      <th>33</th>\n",
       "      <td>499</td>\n",
       "      <td>Чего не стоит делать на собеседовании \\n \\nВы ...</td>\n",
       "      <td>1</td>\n",
       "      <td>2023-06-11 12:30:00</td>\n",
       "    </tr>\n",
       "    <tr>\n",
       "      <th>38</th>\n",
       "      <td>485</td>\n",
       "      <td>Итоги конкурса #навыки1Т \\n \\n🐭 Недавно у 1Т С...</td>\n",
       "      <td>3</td>\n",
       "      <td>2023-06-06 12:30:00</td>\n",
       "    </tr>\n",
       "    <tr>\n",
       "      <th>100</th>\n",
       "      <td>383</td>\n",
       "      <td>Дорогие друзья! \\n \\n🎉 Недавно четырнадцать ко...</td>\n",
       "      <td>3</td>\n",
       "      <td>2023-04-17 13:48:06</td>\n",
       "    </tr>\n",
       "  </tbody>\n",
       "</table>\n",
       "</div>"
      ],
      "text/plain": [
       "     post_id                                          text_post  \\\n",
       "2        554  Заключительная часть советов от участников раз...   \n",
       "13       531  7 полезных сервисов для тех, кто работает с те...   \n",
       "33       499  Чего не стоит делать на собеседовании \\n \\nВы ...   \n",
       "38       485  Итоги конкурса #навыки1Т \\n \\n🐭 Недавно у 1Т С...   \n",
       "100      383  Дорогие друзья! \\n \\n🎉 Недавно четырнадцать ко...   \n",
       "\n",
       "     count_comments         date_public  \n",
       "2                 2 2023-07-14 13:04:05  \n",
       "13                1 2023-07-01 12:30:00  \n",
       "33                1 2023-06-11 12:30:00  \n",
       "38                3 2023-06-06 12:30:00  \n",
       "100               3 2023-04-17 13:48:06  "
      ]
     },
     "execution_count": 7,
     "metadata": {},
     "output_type": "execute_result"
    }
   ],
   "source": [
    "df_with_comment = count_comment_df.loc[count_comment_df['count_comments'] > 0]\n",
    "df_with_comment.head()"
   ]
  },
  {
   "cell_type": "code",
   "execution_count": 8,
   "metadata": {},
   "outputs": [
    {
     "name": "stdout",
     "output_type": "stream",
     "text": [
      "<class 'pandas.core.frame.DataFrame'>\n",
      "Index: 16 entries, 2 to 311\n",
      "Data columns (total 4 columns):\n",
      " #   Column          Non-Null Count  Dtype        \n",
      "---  ------          --------------  -----        \n",
      " 0   post_id         16 non-null     int64        \n",
      " 1   text_post       16 non-null     object       \n",
      " 2   count_comments  16 non-null     int64        \n",
      " 3   date_public     16 non-null     datetime64[s]\n",
      "dtypes: datetime64[s](1), int64(2), object(1)\n",
      "memory usage: 640.0+ bytes\n"
     ]
    }
   ],
   "source": [
    "df_with_comment.info()"
   ]
  },
  {
   "cell_type": "markdown",
   "metadata": {},
   "source": [
    "### Проанализируем, ко скольким постам всего пользователи оставили комментарии."
   ]
  },
  {
   "cell_type": "code",
   "execution_count": 9,
   "metadata": {
    "collapsed": false,
    "jupyter": {
     "outputs_hidden": false
    }
   },
   "outputs": [
    {
     "name": "stdout",
     "output_type": "stream",
     "text": [
      "Всего к 16 постам из 323 посетители оставили комментарии.\n"
     ]
    }
   ],
   "source": [
    "df_post_id_comment = df_with_comment['post_id']\n",
    "print(f'Всего к {len(df_post_id_comment)} постам из {len(count_comment_df)} посетители оставили комментарии.')"
   ]
  },
  {
   "cell_type": "markdown",
   "metadata": {},
   "source": [
    "### Посмотрим, сколько комментариев оставлено к постам с совпадением тематики Data Engineering."
   ]
  },
  {
   "cell_type": "code",
   "execution_count": 10,
   "metadata": {
    "collapsed": false,
    "jupyter": {
     "outputs_hidden": false
    }
   },
   "outputs": [
    {
     "name": "stdout",
     "output_type": "stream",
     "text": [
      "В списке постов с совпадением тематики \"дата инженер|data eng|инженер данных\" содержится всего 0 комментариев на любую тему.\n"
     ]
    }
   ],
   "source": [
    "posts_de_com = df_with_comment['text_post'].str.lower()\n",
    "posts_de_com = posts_de_com[posts_de_com.str.contains('дата инженер|data eng|инженер данных')]\n",
    "print(f'В списке постов с совпадением тематики \"дата инженер|data eng|инженер данных\" содержится всего {len(posts_de_com)} комментариев на любую тему.') "
   ]
  },
  {
   "cell_type": "markdown",
   "metadata": {},
   "source": [
    "### На основании анализа выше, соберем таблицу всех комментариев, когда-либо оставленных к постам.\n",
    "### Для начала соберем json-файл, используя метод 'wall.getComments'."
   ]
  },
  {
   "cell_type": "code",
   "execution_count": 11,
   "metadata": {
    "collapsed": false,
    "jupyter": {
     "outputs_hidden": false
    },
    "scrolled": true
   },
   "outputs": [
    {
     "data": {
      "text/plain": [
       "[{'id': 555,\n",
       "  'from_id': 30472918,\n",
       "  'date': 1689340405,\n",
       "  'text': 'Если ты работать вздумал,\\nРазвернись и выпей кофе.\\nКто задачи выполняет,\\nПо регламенту и в срок? \\nПодождёт тебя заказчик, \\nПередвинет снова сроки, \\nЕсли было так и раньше, \\nПроект снова подождёт!',\n",
       "  'post_id': 554,\n",
       "  'owner_id': -215426617,\n",
       "  'parents_stack': [],\n",
       "  'thread': {'count': 0,\n",
       "   'items': [],\n",
       "   'can_post': True,\n",
       "   'show_reply_button': True}},\n",
       " {'id': 556,\n",
       "  'from_id': 30472918,\n",
       "  'date': 1689343422,\n",
       "  'text': 'Если ты командной рулишь, \\nМенеджер- руководитель, \\nТо задачи ставь команде\\nКоротко, и в месяц раз.\\nНе планируй сроки сдачи, \\nИ по скраму не спринтуйте,\\nЛучше сразу попросите\\nОплатить скорей проект!',\n",
       "  'post_id': 554,\n",
       "  'owner_id': -215426617,\n",
       "  'parents_stack': [],\n",
       "  'thread': {'count': 0,\n",
       "   'items': [],\n",
       "   'can_post': True,\n",
       "   'show_reply_button': True}},\n",
       " {'id': 536,\n",
       "  'from_id': 354733385,\n",
       "  'date': 1688487567,\n",
       "  'text': 'Классная подборка. Рады, что вы пользуетесь нашим Сервисом 🌸',\n",
       "  'post_id': 531,\n",
       "  'owner_id': -215426617,\n",
       "  'parents_stack': [],\n",
       "  'thread': {'count': 0,\n",
       "   'items': [],\n",
       "   'can_post': True,\n",
       "   'show_reply_button': True}}]"
      ]
     },
     "execution_count": 11,
     "metadata": {},
     "output_type": "execute_result"
    }
   ],
   "source": [
    "owner_id = '-215426617'\n",
    "all_comments = []\n",
    "offset = 0\n",
    "count = len(df_post_id_comment)\n",
    "for post_id in df_post_id_comment:\n",
    "    response = requests.get('https://api.vk.com/method/wall.getComments',\n",
    "                            params={\n",
    "                                'access_token': token,\n",
    "                                'v': version,\n",
    "                                'owner_id': owner_id,\n",
    "                                'count': count,\n",
    "                                'offset': offset,\n",
    "                                'post_id': post_id\n",
    "                                }\n",
    "                            )\n",
    "    data = response.json()['response']['items']\n",
    "    all_comments.extend(data)\n",
    "all_comments[:3]"
   ]
  },
  {
   "cell_type": "markdown",
   "metadata": {},
   "source": [
    "### Потом выведем все полученные данные в таблицу"
   ]
  },
  {
   "cell_type": "code",
   "execution_count": 12,
   "metadata": {
    "scrolled": true
   },
   "outputs": [
    {
     "data": {
      "text/html": [
       "<div>\n",
       "<style scoped>\n",
       "    .dataframe tbody tr th:only-of-type {\n",
       "        vertical-align: middle;\n",
       "    }\n",
       "\n",
       "    .dataframe tbody tr th {\n",
       "        vertical-align: top;\n",
       "    }\n",
       "\n",
       "    .dataframe thead th {\n",
       "        text-align: right;\n",
       "    }\n",
       "</style>\n",
       "<table border=\"1\" class=\"dataframe\">\n",
       "  <thead>\n",
       "    <tr style=\"text-align: right;\">\n",
       "      <th></th>\n",
       "      <th>post_id</th>\n",
       "      <th>comment_id</th>\n",
       "      <th>comment_date</th>\n",
       "      <th>comment_text</th>\n",
       "      <th>comment_from_id</th>\n",
       "    </tr>\n",
       "  </thead>\n",
       "  <tbody>\n",
       "    <tr>\n",
       "      <th>0</th>\n",
       "      <td>554</td>\n",
       "      <td>555</td>\n",
       "      <td>2023-07-14 13:13:25</td>\n",
       "      <td>Если ты работать вздумал,\\nРазвернись и выпей ...</td>\n",
       "      <td>30472918</td>\n",
       "    </tr>\n",
       "    <tr>\n",
       "      <th>1</th>\n",
       "      <td>554</td>\n",
       "      <td>556</td>\n",
       "      <td>2023-07-14 14:03:42</td>\n",
       "      <td>Если ты командной рулишь, \\nМенеджер- руководи...</td>\n",
       "      <td>30472918</td>\n",
       "    </tr>\n",
       "    <tr>\n",
       "      <th>2</th>\n",
       "      <td>531</td>\n",
       "      <td>536</td>\n",
       "      <td>2023-07-04 16:19:27</td>\n",
       "      <td>Классная подборка. Рады, что вы пользуетесь на...</td>\n",
       "      <td>354733385</td>\n",
       "    </tr>\n",
       "    <tr>\n",
       "      <th>3</th>\n",
       "      <td>499</td>\n",
       "      <td>500</td>\n",
       "      <td>2023-06-11 12:44:51</td>\n",
       "      <td>Из последнего: \\n\"- Вы работаете с Битрикс?\\n-...</td>\n",
       "      <td>280437919</td>\n",
       "    </tr>\n",
       "    <tr>\n",
       "      <th>4</th>\n",
       "      <td>485</td>\n",
       "      <td>486</td>\n",
       "      <td>2023-06-06 12:41:38</td>\n",
       "      <td>Здравствуйте, вроде 10 мышек разыгрывали, по-м...</td>\n",
       "      <td>387550114</td>\n",
       "    </tr>\n",
       "  </tbody>\n",
       "</table>\n",
       "</div>"
      ],
      "text/plain": [
       "   post_id  comment_id        comment_date  \\\n",
       "0      554         555 2023-07-14 13:13:25   \n",
       "1      554         556 2023-07-14 14:03:42   \n",
       "2      531         536 2023-07-04 16:19:27   \n",
       "3      499         500 2023-06-11 12:44:51   \n",
       "4      485         486 2023-06-06 12:41:38   \n",
       "\n",
       "                                        comment_text  comment_from_id  \n",
       "0  Если ты работать вздумал,\\nРазвернись и выпей ...         30472918  \n",
       "1  Если ты командной рулишь, \\nМенеджер- руководи...         30472918  \n",
       "2  Классная подборка. Рады, что вы пользуетесь на...        354733385  \n",
       "3  Из последнего: \\n\"- Вы работаете с Битрикс?\\n-...        280437919  \n",
       "4  Здравствуйте, вроде 10 мышек разыгрывали, по-м...        387550114  "
      ]
     },
     "execution_count": 12,
     "metadata": {},
     "output_type": "execute_result"
    }
   ],
   "source": [
    "list_comment_id, list_comment_text, list_comment_date, list_from_id, list_post_id = [], [], [], [], []\n",
    "for comment in all_comments:\n",
    "    list_post_id.append(comment['post_id'])\n",
    "    list_comment_id.append(comment['id'])\n",
    "    list_comment_date.append(comment['date'])\n",
    "    list_comment_text.append(comment['text'])\n",
    "    if comment['from_id'] < 0:\n",
    "        comment['from_id'] = -(comment['from_id'])\n",
    "    else: comment['from_id']\n",
    "    list_from_id.append(comment['from_id'])\n",
    "list_comment_date = pd.Series(list_comment_date)\n",
    "\n",
    "all_comments_df = pd.concat([pd.Series(list_post_id), pd.Series(list_comment_id), list_comment_date.astype('int').astype(\"datetime64[s]\"), pd.Series(list_comment_text), pd.Series(list_from_id)], axis=1)\n",
    "all_comments_df.columns = ['post_id', 'comment_id', 'comment_date', 'comment_text', 'comment_from_id']\n",
    "all_comments_df.head()"
   ]
  },
  {
   "cell_type": "code",
   "execution_count": 13,
   "metadata": {},
   "outputs": [
    {
     "name": "stdout",
     "output_type": "stream",
     "text": [
      "<class 'pandas.core.frame.DataFrame'>\n",
      "RangeIndex: 24 entries, 0 to 23\n",
      "Data columns (total 5 columns):\n",
      " #   Column           Non-Null Count  Dtype        \n",
      "---  ------           --------------  -----        \n",
      " 0   post_id          24 non-null     int64        \n",
      " 1   comment_id       24 non-null     int64        \n",
      " 2   comment_date     24 non-null     datetime64[s]\n",
      " 3   comment_text     24 non-null     object       \n",
      " 4   comment_from_id  24 non-null     int64        \n",
      "dtypes: datetime64[s](1), int64(3), object(1)\n",
      "memory usage: 1.1+ KB\n"
     ]
    }
   ],
   "source": [
    "all_comments_df.info()"
   ]
  },
  {
   "cell_type": "markdown",
   "metadata": {},
   "source": [
    "### Подтянем к таблице с комментариями данные о постах по ключу 'post_id'."
   ]
  },
  {
   "cell_type": "code",
   "execution_count": 14,
   "metadata": {
    "scrolled": true
   },
   "outputs": [
    {
     "data": {
      "text/html": [
       "<div>\n",
       "<style scoped>\n",
       "    .dataframe tbody tr th:only-of-type {\n",
       "        vertical-align: middle;\n",
       "    }\n",
       "\n",
       "    .dataframe tbody tr th {\n",
       "        vertical-align: top;\n",
       "    }\n",
       "\n",
       "    .dataframe thead th {\n",
       "        text-align: right;\n",
       "    }\n",
       "</style>\n",
       "<table border=\"1\" class=\"dataframe\">\n",
       "  <thead>\n",
       "    <tr style=\"text-align: right;\">\n",
       "      <th></th>\n",
       "      <th>post_id</th>\n",
       "      <th>comment_id</th>\n",
       "      <th>comment_date</th>\n",
       "      <th>comment_text</th>\n",
       "      <th>comment_from_id</th>\n",
       "      <th>text_post</th>\n",
       "      <th>count_comments</th>\n",
       "      <th>date_public</th>\n",
       "    </tr>\n",
       "  </thead>\n",
       "  <tbody>\n",
       "    <tr>\n",
       "      <th>0</th>\n",
       "      <td>554</td>\n",
       "      <td>555</td>\n",
       "      <td>2023-07-14 13:13:25</td>\n",
       "      <td>Если ты работать вздумал,\\nРазвернись и выпей ...</td>\n",
       "      <td>30472918</td>\n",
       "      <td>Заключительная часть советов от участников раз...</td>\n",
       "      <td>2</td>\n",
       "      <td>2023-07-14 13:04:05</td>\n",
       "    </tr>\n",
       "    <tr>\n",
       "      <th>1</th>\n",
       "      <td>554</td>\n",
       "      <td>556</td>\n",
       "      <td>2023-07-14 14:03:42</td>\n",
       "      <td>Если ты командной рулишь, \\nМенеджер- руководи...</td>\n",
       "      <td>30472918</td>\n",
       "      <td>Заключительная часть советов от участников раз...</td>\n",
       "      <td>2</td>\n",
       "      <td>2023-07-14 13:04:05</td>\n",
       "    </tr>\n",
       "    <tr>\n",
       "      <th>2</th>\n",
       "      <td>531</td>\n",
       "      <td>536</td>\n",
       "      <td>2023-07-04 16:19:27</td>\n",
       "      <td>Классная подборка. Рады, что вы пользуетесь на...</td>\n",
       "      <td>354733385</td>\n",
       "      <td>7 полезных сервисов для тех, кто работает с те...</td>\n",
       "      <td>1</td>\n",
       "      <td>2023-07-01 12:30:00</td>\n",
       "    </tr>\n",
       "    <tr>\n",
       "      <th>3</th>\n",
       "      <td>499</td>\n",
       "      <td>500</td>\n",
       "      <td>2023-06-11 12:44:51</td>\n",
       "      <td>Из последнего: \\n\"- Вы работаете с Битрикс?\\n-...</td>\n",
       "      <td>280437919</td>\n",
       "      <td>Чего не стоит делать на собеседовании \\n \\nВы ...</td>\n",
       "      <td>1</td>\n",
       "      <td>2023-06-11 12:30:00</td>\n",
       "    </tr>\n",
       "    <tr>\n",
       "      <th>4</th>\n",
       "      <td>485</td>\n",
       "      <td>486</td>\n",
       "      <td>2023-06-06 12:41:38</td>\n",
       "      <td>Здравствуйте, вроде 10 мышек разыгрывали, по-м...</td>\n",
       "      <td>387550114</td>\n",
       "      <td>Итоги конкурса #навыки1Т \\n \\n🐭 Недавно у 1Т С...</td>\n",
       "      <td>3</td>\n",
       "      <td>2023-06-06 12:30:00</td>\n",
       "    </tr>\n",
       "  </tbody>\n",
       "</table>\n",
       "</div>"
      ],
      "text/plain": [
       "   post_id  comment_id        comment_date  \\\n",
       "0      554         555 2023-07-14 13:13:25   \n",
       "1      554         556 2023-07-14 14:03:42   \n",
       "2      531         536 2023-07-04 16:19:27   \n",
       "3      499         500 2023-06-11 12:44:51   \n",
       "4      485         486 2023-06-06 12:41:38   \n",
       "\n",
       "                                        comment_text  comment_from_id  \\\n",
       "0  Если ты работать вздумал,\\nРазвернись и выпей ...         30472918   \n",
       "1  Если ты командной рулишь, \\nМенеджер- руководи...         30472918   \n",
       "2  Классная подборка. Рады, что вы пользуетесь на...        354733385   \n",
       "3  Из последнего: \\n\"- Вы работаете с Битрикс?\\n-...        280437919   \n",
       "4  Здравствуйте, вроде 10 мышек разыгрывали, по-м...        387550114   \n",
       "\n",
       "                                           text_post  count_comments  \\\n",
       "0  Заключительная часть советов от участников раз...               2   \n",
       "1  Заключительная часть советов от участников раз...               2   \n",
       "2  7 полезных сервисов для тех, кто работает с те...               1   \n",
       "3  Чего не стоит делать на собеседовании \\n \\nВы ...               1   \n",
       "4  Итоги конкурса #навыки1Т \\n \\n🐭 Недавно у 1Т С...               3   \n",
       "\n",
       "          date_public  \n",
       "0 2023-07-14 13:04:05  \n",
       "1 2023-07-14 13:04:05  \n",
       "2 2023-07-01 12:30:00  \n",
       "3 2023-06-11 12:30:00  \n",
       "4 2023-06-06 12:30:00  "
      ]
     },
     "execution_count": 14,
     "metadata": {},
     "output_type": "execute_result"
    }
   ],
   "source": [
    "df_temp = all_comments_df.merge(df_with_comment, left_on='post_id', right_on='post_id', how='left')\n",
    "df_temp.head()"
   ]
  },
  {
   "cell_type": "code",
   "execution_count": 15,
   "metadata": {},
   "outputs": [
    {
     "name": "stdout",
     "output_type": "stream",
     "text": [
      "<class 'pandas.core.frame.DataFrame'>\n",
      "RangeIndex: 24 entries, 0 to 23\n",
      "Data columns (total 8 columns):\n",
      " #   Column           Non-Null Count  Dtype        \n",
      "---  ------           --------------  -----        \n",
      " 0   post_id          24 non-null     int64        \n",
      " 1   comment_id       24 non-null     int64        \n",
      " 2   comment_date     24 non-null     datetime64[s]\n",
      " 3   comment_text     24 non-null     object       \n",
      " 4   comment_from_id  24 non-null     int64        \n",
      " 5   text_post        24 non-null     object       \n",
      " 6   count_comments   24 non-null     int64        \n",
      " 7   date_public      24 non-null     datetime64[s]\n",
      "dtypes: datetime64[s](2), int64(4), object(2)\n",
      "memory usage: 1.6+ KB\n"
     ]
    }
   ],
   "source": [
    "df_temp.info()"
   ]
  },
  {
   "cell_type": "markdown",
   "metadata": {},
   "source": [
    "### Поменяем колонки местами для наглядности и лучшего восприятия."
   ]
  },
  {
   "cell_type": "code",
   "execution_count": 16,
   "metadata": {
    "scrolled": true
   },
   "outputs": [
    {
     "data": {
      "text/html": [
       "<div>\n",
       "<style scoped>\n",
       "    .dataframe tbody tr th:only-of-type {\n",
       "        vertical-align: middle;\n",
       "    }\n",
       "\n",
       "    .dataframe tbody tr th {\n",
       "        vertical-align: top;\n",
       "    }\n",
       "\n",
       "    .dataframe thead th {\n",
       "        text-align: right;\n",
       "    }\n",
       "</style>\n",
       "<table border=\"1\" class=\"dataframe\">\n",
       "  <thead>\n",
       "    <tr style=\"text-align: right;\">\n",
       "      <th></th>\n",
       "      <th>post_id</th>\n",
       "      <th>date_public</th>\n",
       "      <th>text_post</th>\n",
       "      <th>comment_id</th>\n",
       "      <th>comment_date</th>\n",
       "      <th>comment_text</th>\n",
       "      <th>comment_from_id</th>\n",
       "    </tr>\n",
       "  </thead>\n",
       "  <tbody>\n",
       "    <tr>\n",
       "      <th>0</th>\n",
       "      <td>554</td>\n",
       "      <td>2023-07-14 13:04:05</td>\n",
       "      <td>Заключительная часть советов от участников раз...</td>\n",
       "      <td>555</td>\n",
       "      <td>2023-07-14 13:13:25</td>\n",
       "      <td>Если ты работать вздумал,\\nРазвернись и выпей ...</td>\n",
       "      <td>30472918</td>\n",
       "    </tr>\n",
       "    <tr>\n",
       "      <th>1</th>\n",
       "      <td>554</td>\n",
       "      <td>2023-07-14 13:04:05</td>\n",
       "      <td>Заключительная часть советов от участников раз...</td>\n",
       "      <td>556</td>\n",
       "      <td>2023-07-14 14:03:42</td>\n",
       "      <td>Если ты командной рулишь, \\nМенеджер- руководи...</td>\n",
       "      <td>30472918</td>\n",
       "    </tr>\n",
       "    <tr>\n",
       "      <th>2</th>\n",
       "      <td>531</td>\n",
       "      <td>2023-07-01 12:30:00</td>\n",
       "      <td>7 полезных сервисов для тех, кто работает с те...</td>\n",
       "      <td>536</td>\n",
       "      <td>2023-07-04 16:19:27</td>\n",
       "      <td>Классная подборка. Рады, что вы пользуетесь на...</td>\n",
       "      <td>354733385</td>\n",
       "    </tr>\n",
       "    <tr>\n",
       "      <th>3</th>\n",
       "      <td>499</td>\n",
       "      <td>2023-06-11 12:30:00</td>\n",
       "      <td>Чего не стоит делать на собеседовании \\n \\nВы ...</td>\n",
       "      <td>500</td>\n",
       "      <td>2023-06-11 12:44:51</td>\n",
       "      <td>Из последнего: \\n\"- Вы работаете с Битрикс?\\n-...</td>\n",
       "      <td>280437919</td>\n",
       "    </tr>\n",
       "    <tr>\n",
       "      <th>4</th>\n",
       "      <td>485</td>\n",
       "      <td>2023-06-06 12:30:00</td>\n",
       "      <td>Итоги конкурса #навыки1Т \\n \\n🐭 Недавно у 1Т С...</td>\n",
       "      <td>486</td>\n",
       "      <td>2023-06-06 12:41:38</td>\n",
       "      <td>Здравствуйте, вроде 10 мышек разыгрывали, по-м...</td>\n",
       "      <td>387550114</td>\n",
       "    </tr>\n",
       "  </tbody>\n",
       "</table>\n",
       "</div>"
      ],
      "text/plain": [
       "   post_id         date_public  \\\n",
       "0      554 2023-07-14 13:04:05   \n",
       "1      554 2023-07-14 13:04:05   \n",
       "2      531 2023-07-01 12:30:00   \n",
       "3      499 2023-06-11 12:30:00   \n",
       "4      485 2023-06-06 12:30:00   \n",
       "\n",
       "                                           text_post  comment_id  \\\n",
       "0  Заключительная часть советов от участников раз...         555   \n",
       "1  Заключительная часть советов от участников раз...         556   \n",
       "2  7 полезных сервисов для тех, кто работает с те...         536   \n",
       "3  Чего не стоит делать на собеседовании \\n \\nВы ...         500   \n",
       "4  Итоги конкурса #навыки1Т \\n \\n🐭 Недавно у 1Т С...         486   \n",
       "\n",
       "         comment_date                                       comment_text  \\\n",
       "0 2023-07-14 13:13:25  Если ты работать вздумал,\\nРазвернись и выпей ...   \n",
       "1 2023-07-14 14:03:42  Если ты командной рулишь, \\nМенеджер- руководи...   \n",
       "2 2023-07-04 16:19:27  Классная подборка. Рады, что вы пользуетесь на...   \n",
       "3 2023-06-11 12:44:51  Из последнего: \\n\"- Вы работаете с Битрикс?\\n-...   \n",
       "4 2023-06-06 12:41:38  Здравствуйте, вроде 10 мышек разыгрывали, по-м...   \n",
       "\n",
       "   comment_from_id  \n",
       "0         30472918  \n",
       "1         30472918  \n",
       "2        354733385  \n",
       "3        280437919  \n",
       "4        387550114  "
      ]
     },
     "execution_count": 16,
     "metadata": {},
     "output_type": "execute_result"
    }
   ],
   "source": [
    "df_all = df_temp[['post_id', 'date_public', 'text_post', 'comment_id', 'comment_date', 'comment_text', 'comment_from_id']]\n",
    "df_all.head()"
   ]
  },
  {
   "cell_type": "code",
   "execution_count": 17,
   "metadata": {},
   "outputs": [
    {
     "name": "stdout",
     "output_type": "stream",
     "text": [
      "<class 'pandas.core.frame.DataFrame'>\n",
      "RangeIndex: 24 entries, 0 to 23\n",
      "Data columns (total 7 columns):\n",
      " #   Column           Non-Null Count  Dtype        \n",
      "---  ------           --------------  -----        \n",
      " 0   post_id          24 non-null     int64        \n",
      " 1   date_public      24 non-null     datetime64[s]\n",
      " 2   text_post        24 non-null     object       \n",
      " 3   comment_id       24 non-null     int64        \n",
      " 4   comment_date     24 non-null     datetime64[s]\n",
      " 5   comment_text     24 non-null     object       \n",
      " 6   comment_from_id  24 non-null     int64        \n",
      "dtypes: datetime64[s](2), int64(3), object(2)\n",
      "memory usage: 1.4+ KB\n"
     ]
    }
   ],
   "source": [
    "df_all.info()"
   ]
  },
  {
   "cell_type": "markdown",
   "metadata": {},
   "source": [
    "### Почти все. Осталось только к id пользователя ('from_id'), оставившего комментарий, добавить полное имя ('first_name' + 'last_name').\n",
    "### Запишем значения колонки 'comment_from_id' в отдельную переменную 'df_id_users':"
   ]
  },
  {
   "cell_type": "code",
   "execution_count": 18,
   "metadata": {
    "collapsed": false,
    "jupyter": {
     "outputs_hidden": false
    },
    "scrolled": true
   },
   "outputs": [
    {
     "data": {
      "text/plain": [
       "0     30472918\n",
       "1     30472918\n",
       "2    354733385\n",
       "3    280437919\n",
       "4    387550114\n",
       "Name: comment_from_id, dtype: int64"
      ]
     },
     "execution_count": 18,
     "metadata": {},
     "output_type": "execute_result"
    }
   ],
   "source": [
    "df_id_users = df_all.comment_from_id\n",
    "df_id_users.head()"
   ]
  },
  {
   "cell_type": "code",
   "execution_count": 19,
   "metadata": {},
   "outputs": [
    {
     "name": "stdout",
     "output_type": "stream",
     "text": [
      "<class 'pandas.core.series.Series'>\n",
      "RangeIndex: 24 entries, 0 to 23\n",
      "Series name: comment_from_id\n",
      "Non-Null Count  Dtype\n",
      "--------------  -----\n",
      "24 non-null     int64\n",
      "dtypes: int64(1)\n",
      "memory usage: 320.0 bytes\n"
     ]
    }
   ],
   "source": [
    "df_id_users.info()"
   ]
  },
  {
   "cell_type": "markdown",
   "metadata": {},
   "source": [
    "### Важно! Информацию о пользователях сайт vk.com выдает с трудом, поэтому, если код ниже выдал ошибку, пожалуйста, запустите исполнение ячейки еще раз.\n",
    "### Информацию о пользователях получим с помощью метода 'users.get'."
   ]
  },
  {
   "cell_type": "code",
   "execution_count": 20,
   "metadata": {
    "collapsed": false,
    "jupyter": {
     "outputs_hidden": false
    },
    "scrolled": true
   },
   "outputs": [
    {
     "data": {
      "text/plain": [
       "[{'id': 30472918,\n",
       "  'first_name': 'Nadezhda',\n",
       "  'last_name': 'Lakhtina',\n",
       "  'can_access_closed': True,\n",
       "  'is_closed': False},\n",
       " {'id': 30472918,\n",
       "  'first_name': 'Nadezhda',\n",
       "  'last_name': 'Lakhtina',\n",
       "  'can_access_closed': True,\n",
       "  'is_closed': False},\n",
       " {'id': 354733385,\n",
       "  'first_name': 'Dasha',\n",
       "  'last_name': 'Novikova',\n",
       "  'can_access_closed': True,\n",
       "  'is_closed': False},\n",
       " {'id': 280437919,\n",
       "  'first_name': 'Darya',\n",
       "  'last_name': 'Prokopova',\n",
       "  'can_access_closed': True,\n",
       "  'is_closed': False},\n",
       " {'id': 387550114,\n",
       "  'first_name': 'Vsyareklama',\n",
       "  'last_name': 'Gsalavata',\n",
       "  'can_access_closed': True,\n",
       "  'is_closed': False}]"
      ]
     },
     "execution_count": 20,
     "metadata": {},
     "output_type": "execute_result"
    }
   ],
   "source": [
    "df_users = []\n",
    "for comment_from_id in df_id_users:\n",
    "    response = requests.get('https://api.vk.com/method/users.get',\n",
    "                            params={\n",
    "                                'access_token': token,\n",
    "                                'user_ids': comment_from_id,\n",
    "                                'v': version\n",
    "                                }\n",
    "                            )\n",
    "    data = response.json()['response']\n",
    "    df_users.extend(data)\n",
    "df_users[:5]"
   ]
  },
  {
   "cell_type": "markdown",
   "metadata": {},
   "source": [
    "### Вытянем информацию о полных именах пользователей по их 'id':"
   ]
  },
  {
   "cell_type": "code",
   "execution_count": 21,
   "metadata": {},
   "outputs": [
    {
     "data": {
      "text/html": [
       "<div>\n",
       "<style scoped>\n",
       "    .dataframe tbody tr th:only-of-type {\n",
       "        vertical-align: middle;\n",
       "    }\n",
       "\n",
       "    .dataframe tbody tr th {\n",
       "        vertical-align: top;\n",
       "    }\n",
       "\n",
       "    .dataframe thead th {\n",
       "        text-align: right;\n",
       "    }\n",
       "</style>\n",
       "<table border=\"1\" class=\"dataframe\">\n",
       "  <thead>\n",
       "    <tr style=\"text-align: right;\">\n",
       "      <th></th>\n",
       "      <th>comment_writer_id</th>\n",
       "      <th>writer_full_name</th>\n",
       "    </tr>\n",
       "  </thead>\n",
       "  <tbody>\n",
       "    <tr>\n",
       "      <th>0</th>\n",
       "      <td>30472918</td>\n",
       "      <td>Nadezhda Lakhtina</td>\n",
       "    </tr>\n",
       "    <tr>\n",
       "      <th>1</th>\n",
       "      <td>30472918</td>\n",
       "      <td>Nadezhda Lakhtina</td>\n",
       "    </tr>\n",
       "    <tr>\n",
       "      <th>2</th>\n",
       "      <td>354733385</td>\n",
       "      <td>Dasha Novikova</td>\n",
       "    </tr>\n",
       "    <tr>\n",
       "      <th>3</th>\n",
       "      <td>280437919</td>\n",
       "      <td>Darya Prokopova</td>\n",
       "    </tr>\n",
       "    <tr>\n",
       "      <th>4</th>\n",
       "      <td>387550114</td>\n",
       "      <td>Vsyareklama Gsalavata</td>\n",
       "    </tr>\n",
       "  </tbody>\n",
       "</table>\n",
       "</div>"
      ],
      "text/plain": [
       "   comment_writer_id       writer_full_name\n",
       "0           30472918      Nadezhda Lakhtina\n",
       "1           30472918      Nadezhda Lakhtina\n",
       "2          354733385         Dasha Novikova\n",
       "3          280437919        Darya Prokopova\n",
       "4          387550114  Vsyareklama Gsalavata"
      ]
     },
     "execution_count": 21,
     "metadata": {},
     "output_type": "execute_result"
    }
   ],
   "source": [
    "all_users_df = []\n",
    "list_from_id, list_full_name = [], []\n",
    "for user in df_users:\n",
    "    list_from_id.append(user['id'])\n",
    "    list_full_name.append(user['first_name'] + ' ' + user['last_name'])\n",
    "\n",
    "all_users_df = pd.concat([pd.Series(list_from_id), pd.Series(list_full_name)], axis=1)\n",
    "all_users_df.columns = ['comment_writer_id', 'writer_full_name']\n",
    "all_users_df.head()"
   ]
  },
  {
   "cell_type": "code",
   "execution_count": 22,
   "metadata": {},
   "outputs": [
    {
     "name": "stdout",
     "output_type": "stream",
     "text": [
      "<class 'pandas.core.frame.DataFrame'>\n",
      "RangeIndex: 24 entries, 0 to 23\n",
      "Data columns (total 2 columns):\n",
      " #   Column             Non-Null Count  Dtype \n",
      "---  ------             --------------  ----- \n",
      " 0   comment_writer_id  24 non-null     int64 \n",
      " 1   writer_full_name   24 non-null     object\n",
      "dtypes: int64(1), object(1)\n",
      "memory usage: 512.0+ bytes\n"
     ]
    }
   ],
   "source": [
    "all_users_df.info()"
   ]
  },
  {
   "cell_type": "markdown",
   "metadata": {},
   "source": [
    "### Смержим таблицы со всеми комментариями и полными именами пользователей по ключу 'id'."
   ]
  },
  {
   "cell_type": "code",
   "execution_count": 23,
   "metadata": {},
   "outputs": [
    {
     "data": {
      "text/html": [
       "<div>\n",
       "<style scoped>\n",
       "    .dataframe tbody tr th:only-of-type {\n",
       "        vertical-align: middle;\n",
       "    }\n",
       "\n",
       "    .dataframe tbody tr th {\n",
       "        vertical-align: top;\n",
       "    }\n",
       "\n",
       "    .dataframe thead th {\n",
       "        text-align: right;\n",
       "    }\n",
       "</style>\n",
       "<table border=\"1\" class=\"dataframe\">\n",
       "  <thead>\n",
       "    <tr style=\"text-align: right;\">\n",
       "      <th></th>\n",
       "      <th>post_id</th>\n",
       "      <th>date_public</th>\n",
       "      <th>text_post</th>\n",
       "      <th>comment_id</th>\n",
       "      <th>comment_date</th>\n",
       "      <th>comment_text</th>\n",
       "      <th>comment_from_id</th>\n",
       "      <th>comment_writer_id</th>\n",
       "      <th>writer_full_name</th>\n",
       "    </tr>\n",
       "  </thead>\n",
       "  <tbody>\n",
       "    <tr>\n",
       "      <th>0</th>\n",
       "      <td>554</td>\n",
       "      <td>2023-07-14 13:04:05</td>\n",
       "      <td>Заключительная часть советов от участников раз...</td>\n",
       "      <td>555</td>\n",
       "      <td>2023-07-14 13:13:25</td>\n",
       "      <td>Если ты работать вздумал,\\nРазвернись и выпей ...</td>\n",
       "      <td>30472918</td>\n",
       "      <td>30472918</td>\n",
       "      <td>Nadezhda Lakhtina</td>\n",
       "    </tr>\n",
       "    <tr>\n",
       "      <th>1</th>\n",
       "      <td>554</td>\n",
       "      <td>2023-07-14 13:04:05</td>\n",
       "      <td>Заключительная часть советов от участников раз...</td>\n",
       "      <td>556</td>\n",
       "      <td>2023-07-14 14:03:42</td>\n",
       "      <td>Если ты командной рулишь, \\nМенеджер- руководи...</td>\n",
       "      <td>30472918</td>\n",
       "      <td>30472918</td>\n",
       "      <td>Nadezhda Lakhtina</td>\n",
       "    </tr>\n",
       "    <tr>\n",
       "      <th>2</th>\n",
       "      <td>531</td>\n",
       "      <td>2023-07-01 12:30:00</td>\n",
       "      <td>7 полезных сервисов для тех, кто работает с те...</td>\n",
       "      <td>536</td>\n",
       "      <td>2023-07-04 16:19:27</td>\n",
       "      <td>Классная подборка. Рады, что вы пользуетесь на...</td>\n",
       "      <td>354733385</td>\n",
       "      <td>354733385</td>\n",
       "      <td>Dasha Novikova</td>\n",
       "    </tr>\n",
       "    <tr>\n",
       "      <th>3</th>\n",
       "      <td>499</td>\n",
       "      <td>2023-06-11 12:30:00</td>\n",
       "      <td>Чего не стоит делать на собеседовании \\n \\nВы ...</td>\n",
       "      <td>500</td>\n",
       "      <td>2023-06-11 12:44:51</td>\n",
       "      <td>Из последнего: \\n\"- Вы работаете с Битрикс?\\n-...</td>\n",
       "      <td>280437919</td>\n",
       "      <td>280437919</td>\n",
       "      <td>Darya Prokopova</td>\n",
       "    </tr>\n",
       "    <tr>\n",
       "      <th>4</th>\n",
       "      <td>485</td>\n",
       "      <td>2023-06-06 12:30:00</td>\n",
       "      <td>Итоги конкурса #навыки1Т \\n \\n🐭 Недавно у 1Т С...</td>\n",
       "      <td>486</td>\n",
       "      <td>2023-06-06 12:41:38</td>\n",
       "      <td>Здравствуйте, вроде 10 мышек разыгрывали, по-м...</td>\n",
       "      <td>387550114</td>\n",
       "      <td>387550114</td>\n",
       "      <td>Vsyareklama Gsalavata</td>\n",
       "    </tr>\n",
       "  </tbody>\n",
       "</table>\n",
       "</div>"
      ],
      "text/plain": [
       "   post_id         date_public  \\\n",
       "0      554 2023-07-14 13:04:05   \n",
       "1      554 2023-07-14 13:04:05   \n",
       "2      531 2023-07-01 12:30:00   \n",
       "3      499 2023-06-11 12:30:00   \n",
       "4      485 2023-06-06 12:30:00   \n",
       "\n",
       "                                           text_post  comment_id  \\\n",
       "0  Заключительная часть советов от участников раз...         555   \n",
       "1  Заключительная часть советов от участников раз...         556   \n",
       "2  7 полезных сервисов для тех, кто работает с те...         536   \n",
       "3  Чего не стоит делать на собеседовании \\n \\nВы ...         500   \n",
       "4  Итоги конкурса #навыки1Т \\n \\n🐭 Недавно у 1Т С...         486   \n",
       "\n",
       "         comment_date                                       comment_text  \\\n",
       "0 2023-07-14 13:13:25  Если ты работать вздумал,\\nРазвернись и выпей ...   \n",
       "1 2023-07-14 14:03:42  Если ты командной рулишь, \\nМенеджер- руководи...   \n",
       "2 2023-07-04 16:19:27  Классная подборка. Рады, что вы пользуетесь на...   \n",
       "3 2023-06-11 12:44:51  Из последнего: \\n\"- Вы работаете с Битрикс?\\n-...   \n",
       "4 2023-06-06 12:41:38  Здравствуйте, вроде 10 мышек разыгрывали, по-м...   \n",
       "\n",
       "   comment_from_id  comment_writer_id       writer_full_name  \n",
       "0         30472918           30472918      Nadezhda Lakhtina  \n",
       "1         30472918           30472918      Nadezhda Lakhtina  \n",
       "2        354733385          354733385         Dasha Novikova  \n",
       "3        280437919          280437919        Darya Prokopova  \n",
       "4        387550114          387550114  Vsyareklama Gsalavata  "
      ]
     },
     "execution_count": 23,
     "metadata": {},
     "output_type": "execute_result"
    }
   ],
   "source": [
    "df = df_all.merge(all_users_df, left_index=True, right_index=True, how='inner')\n",
    "df.head()"
   ]
  },
  {
   "cell_type": "code",
   "execution_count": 24,
   "metadata": {},
   "outputs": [
    {
     "name": "stdout",
     "output_type": "stream",
     "text": [
      "<class 'pandas.core.frame.DataFrame'>\n",
      "RangeIndex: 24 entries, 0 to 23\n",
      "Data columns (total 9 columns):\n",
      " #   Column             Non-Null Count  Dtype        \n",
      "---  ------             --------------  -----        \n",
      " 0   post_id            24 non-null     int64        \n",
      " 1   date_public        24 non-null     datetime64[s]\n",
      " 2   text_post          24 non-null     object       \n",
      " 3   comment_id         24 non-null     int64        \n",
      " 4   comment_date       24 non-null     datetime64[s]\n",
      " 5   comment_text       24 non-null     object       \n",
      " 6   comment_from_id    24 non-null     int64        \n",
      " 7   comment_writer_id  24 non-null     int64        \n",
      " 8   writer_full_name   24 non-null     object       \n",
      "dtypes: datetime64[s](2), int64(4), object(3)\n",
      "memory usage: 1.8+ KB\n"
     ]
    }
   ],
   "source": [
    "df.info()"
   ]
  },
  {
   "cell_type": "markdown",
   "metadata": {},
   "source": [
    "### Удалим ненужный, дублирующийся столбец 'comment_from_id'"
   ]
  },
  {
   "cell_type": "code",
   "execution_count": 25,
   "metadata": {},
   "outputs": [
    {
     "data": {
      "text/html": [
       "<div>\n",
       "<style scoped>\n",
       "    .dataframe tbody tr th:only-of-type {\n",
       "        vertical-align: middle;\n",
       "    }\n",
       "\n",
       "    .dataframe tbody tr th {\n",
       "        vertical-align: top;\n",
       "    }\n",
       "\n",
       "    .dataframe thead th {\n",
       "        text-align: right;\n",
       "    }\n",
       "</style>\n",
       "<table border=\"1\" class=\"dataframe\">\n",
       "  <thead>\n",
       "    <tr style=\"text-align: right;\">\n",
       "      <th></th>\n",
       "      <th>post_id</th>\n",
       "      <th>date_public</th>\n",
       "      <th>text_post</th>\n",
       "      <th>comment_id</th>\n",
       "      <th>comment_date</th>\n",
       "      <th>comment_text</th>\n",
       "      <th>comment_writer_id</th>\n",
       "      <th>writer_full_name</th>\n",
       "    </tr>\n",
       "  </thead>\n",
       "  <tbody>\n",
       "    <tr>\n",
       "      <th>0</th>\n",
       "      <td>554</td>\n",
       "      <td>2023-07-14 13:04:05</td>\n",
       "      <td>Заключительная часть советов от участников раз...</td>\n",
       "      <td>555</td>\n",
       "      <td>2023-07-14 13:13:25</td>\n",
       "      <td>Если ты работать вздумал,\\nРазвернись и выпей ...</td>\n",
       "      <td>30472918</td>\n",
       "      <td>Nadezhda Lakhtina</td>\n",
       "    </tr>\n",
       "    <tr>\n",
       "      <th>1</th>\n",
       "      <td>554</td>\n",
       "      <td>2023-07-14 13:04:05</td>\n",
       "      <td>Заключительная часть советов от участников раз...</td>\n",
       "      <td>556</td>\n",
       "      <td>2023-07-14 14:03:42</td>\n",
       "      <td>Если ты командной рулишь, \\nМенеджер- руководи...</td>\n",
       "      <td>30472918</td>\n",
       "      <td>Nadezhda Lakhtina</td>\n",
       "    </tr>\n",
       "    <tr>\n",
       "      <th>2</th>\n",
       "      <td>531</td>\n",
       "      <td>2023-07-01 12:30:00</td>\n",
       "      <td>7 полезных сервисов для тех, кто работает с те...</td>\n",
       "      <td>536</td>\n",
       "      <td>2023-07-04 16:19:27</td>\n",
       "      <td>Классная подборка. Рады, что вы пользуетесь на...</td>\n",
       "      <td>354733385</td>\n",
       "      <td>Dasha Novikova</td>\n",
       "    </tr>\n",
       "    <tr>\n",
       "      <th>3</th>\n",
       "      <td>499</td>\n",
       "      <td>2023-06-11 12:30:00</td>\n",
       "      <td>Чего не стоит делать на собеседовании \\n \\nВы ...</td>\n",
       "      <td>500</td>\n",
       "      <td>2023-06-11 12:44:51</td>\n",
       "      <td>Из последнего: \\n\"- Вы работаете с Битрикс?\\n-...</td>\n",
       "      <td>280437919</td>\n",
       "      <td>Darya Prokopova</td>\n",
       "    </tr>\n",
       "    <tr>\n",
       "      <th>4</th>\n",
       "      <td>485</td>\n",
       "      <td>2023-06-06 12:30:00</td>\n",
       "      <td>Итоги конкурса #навыки1Т \\n \\n🐭 Недавно у 1Т С...</td>\n",
       "      <td>486</td>\n",
       "      <td>2023-06-06 12:41:38</td>\n",
       "      <td>Здравствуйте, вроде 10 мышек разыгрывали, по-м...</td>\n",
       "      <td>387550114</td>\n",
       "      <td>Vsyareklama Gsalavata</td>\n",
       "    </tr>\n",
       "    <tr>\n",
       "      <th>5</th>\n",
       "      <td>485</td>\n",
       "      <td>2023-06-06 12:30:00</td>\n",
       "      <td>Итоги конкурса #навыки1Т \\n \\n🐭 Недавно у 1Т С...</td>\n",
       "      <td>487</td>\n",
       "      <td>2023-06-06 14:01:35</td>\n",
       "      <td>Большое спасибо 1T Sprint за возможность участ...</td>\n",
       "      <td>752917537</td>\n",
       "      <td>Evdokia Bekker</td>\n",
       "    </tr>\n",
       "    <tr>\n",
       "      <th>6</th>\n",
       "      <td>485</td>\n",
       "      <td>2023-06-06 12:30:00</td>\n",
       "      <td>Итоги конкурса #навыки1Т \\n \\n🐭 Недавно у 1Т С...</td>\n",
       "      <td>488</td>\n",
       "      <td>2023-06-06 14:59:33</td>\n",
       "      <td>Спасибо за конкурс, приятно вспомнить с чего в...</td>\n",
       "      <td>699485614</td>\n",
       "      <td>Nadia Lohengrin</td>\n",
       "    </tr>\n",
       "    <tr>\n",
       "      <th>7</th>\n",
       "      <td>383</td>\n",
       "      <td>2023-04-17 13:48:06</td>\n",
       "      <td>Дорогие друзья! \\n \\n🎉 Недавно четырнадцать ко...</td>\n",
       "      <td>384</td>\n",
       "      <td>2023-04-17 16:33:48</td>\n",
       "      <td></td>\n",
       "      <td>282137570</td>\n",
       "      <td>Karina Chernitsova</td>\n",
       "    </tr>\n",
       "    <tr>\n",
       "      <th>8</th>\n",
       "      <td>383</td>\n",
       "      <td>2023-04-17 13:48:06</td>\n",
       "      <td>Дорогие друзья! \\n \\n🎉 Недавно четырнадцать ко...</td>\n",
       "      <td>385</td>\n",
       "      <td>2023-04-17 16:34:05</td>\n",
       "      <td></td>\n",
       "      <td>282137570</td>\n",
       "      <td>Karina Chernitsova</td>\n",
       "    </tr>\n",
       "    <tr>\n",
       "      <th>9</th>\n",
       "      <td>383</td>\n",
       "      <td>2023-04-17 13:48:06</td>\n",
       "      <td>Дорогие друзья! \\n \\n🎉 Недавно четырнадцать ко...</td>\n",
       "      <td>386</td>\n",
       "      <td>2023-04-17 19:01:47</td>\n",
       "      <td>Это был лучший офлайн)\\nЭто было не реально кл...</td>\n",
       "      <td>25359617</td>\n",
       "      <td>Denis Reshetnikov</td>\n",
       "    </tr>\n",
       "    <tr>\n",
       "      <th>10</th>\n",
       "      <td>341</td>\n",
       "      <td>2023-03-27 15:43:05</td>\n",
       "      <td>🏴‍☠ Выложили на нашем YouTube-канале видео, то...</td>\n",
       "      <td>342</td>\n",
       "      <td>2023-03-27 18:50:04</td>\n",
       "      <td></td>\n",
       "      <td>282137570</td>\n",
       "      <td>Karina Chernitsova</td>\n",
       "    </tr>\n",
       "    <tr>\n",
       "      <th>11</th>\n",
       "      <td>341</td>\n",
       "      <td>2023-03-27 15:43:05</td>\n",
       "      <td>🏴‍☠ Выложили на нашем YouTube-канале видео, то...</td>\n",
       "      <td>344</td>\n",
       "      <td>2023-03-27 18:50:28</td>\n",
       "      <td></td>\n",
       "      <td>282137570</td>\n",
       "      <td>Karina Chernitsova</td>\n",
       "    </tr>\n",
       "    <tr>\n",
       "      <th>12</th>\n",
       "      <td>309</td>\n",
       "      <td>2023-03-11 09:27:45</td>\n",
       "      <td>🔔 Свистать всех наверх! \\n \\n🏴‍☠ ИТ-конференци...</td>\n",
       "      <td>334</td>\n",
       "      <td>2023-03-23 09:26:01</td>\n",
       "      <td>Посмотреть видео ВКонтакте: https://vk.com/vid...</td>\n",
       "      <td>215426617</td>\n",
       "      <td>Ibragim Tisaev</td>\n",
       "    </tr>\n",
       "    <tr>\n",
       "      <th>13</th>\n",
       "      <td>299</td>\n",
       "      <td>2023-03-07 15:40:00</td>\n",
       "      <td>Приручаем искусственный интеллект \\n \\n🎨 1 мар...</td>\n",
       "      <td>300</td>\n",
       "      <td>2023-03-08 10:18:17</td>\n",
       "      <td>А где работы посмотреть можно?</td>\n",
       "      <td>778096076</td>\n",
       "      <td>Alexey Dragomilov</td>\n",
       "    </tr>\n",
       "    <tr>\n",
       "      <th>14</th>\n",
       "      <td>299</td>\n",
       "      <td>2023-03-07 15:40:00</td>\n",
       "      <td>Приручаем искусственный интеллект \\n \\n🎨 1 мар...</td>\n",
       "      <td>310</td>\n",
       "      <td>2023-03-12 10:58:53</td>\n",
       "      <td>Здравствуйте, а где можно посмотреть результаты</td>\n",
       "      <td>188085295</td>\n",
       "      <td>Oksana Smirnova</td>\n",
       "    </tr>\n",
       "    <tr>\n",
       "      <th>15</th>\n",
       "      <td>198</td>\n",
       "      <td>2023-01-22 13:00:00</td>\n",
       "      <td>Как работает Bluetooth \\n \\n⚡ Bluetooth — техн...</td>\n",
       "      <td>292</td>\n",
       "      <td>2023-03-03 17:17:09</td>\n",
       "      <td>Потрясающая история! Спасибо за ликбез. Никто,...</td>\n",
       "      <td>615150448</td>\n",
       "      <td>Retseptolog Ot-Prirody</td>\n",
       "    </tr>\n",
       "    <tr>\n",
       "      <th>16</th>\n",
       "      <td>156</td>\n",
       "      <td>2022-12-28 13:28:39</td>\n",
       "      <td>Что умеют нейросети? \\n \\nНейросети уже стали ...</td>\n",
       "      <td>157</td>\n",
       "      <td>2022-12-28 14:39:20</td>\n",
       "      <td>Маск где только не засветился, все передовые р...</td>\n",
       "      <td>769557713</td>\n",
       "      <td>Irina Potapova</td>\n",
       "    </tr>\n",
       "    <tr>\n",
       "      <th>17</th>\n",
       "      <td>154</td>\n",
       "      <td>2022-12-27 09:30:01</td>\n",
       "      <td>Вчера, 26 декабря, в Совете Федерации состоялс...</td>\n",
       "      <td>168</td>\n",
       "      <td>2023-01-03 11:06:19</td>\n",
       "      <td>Лучше заводы и фабрики восстанавливать.</td>\n",
       "      <td>212331310</td>\n",
       "      <td>Andrey Usenko</td>\n",
       "    </tr>\n",
       "    <tr>\n",
       "      <th>18</th>\n",
       "      <td>148</td>\n",
       "      <td>2022-12-24 09:17:00</td>\n",
       "      <td>Стратегии переговоров \\n \\n🤝 Говорят, что чест...</td>\n",
       "      <td>149</td>\n",
       "      <td>2022-12-24 19:12:43</td>\n",
       "      <td>🔥🔥</td>\n",
       "      <td>30472918</td>\n",
       "      <td>Nadezhda Lakhtina</td>\n",
       "    </tr>\n",
       "    <tr>\n",
       "      <th>19</th>\n",
       "      <td>132</td>\n",
       "      <td>2022-12-16 12:31:39</td>\n",
       "      <td>Бинго «1Т Спринт» \\n \\n🎉 Скоро Новый год, врем...</td>\n",
       "      <td>133</td>\n",
       "      <td>2022-12-16 16:04:53</td>\n",
       "      <td>Дважды бинго)</td>\n",
       "      <td>4692297</td>\n",
       "      <td>Polina Ageeva</td>\n",
       "    </tr>\n",
       "    <tr>\n",
       "      <th>20</th>\n",
       "      <td>112</td>\n",
       "      <td>2022-12-02 12:35:35</td>\n",
       "      <td>🔥 Уже несколько дней интернет развлекается, за...</td>\n",
       "      <td>113</td>\n",
       "      <td>2022-12-02 12:36:11</td>\n",
       "      <td>Ссылка: https://t.me/qq_2d_ai_bot</td>\n",
       "      <td>215426617</td>\n",
       "      <td>Ibragim Tisaev</td>\n",
       "    </tr>\n",
       "    <tr>\n",
       "      <th>21</th>\n",
       "      <td>43</td>\n",
       "      <td>2022-10-12 15:19:14</td>\n",
       "      <td>🤨 Несколько лет назад руководитель американско...</td>\n",
       "      <td>44</td>\n",
       "      <td>2022-10-12 15:19:37</td>\n",
       "      <td>Грабителя не было ни в одном из когда-либо вых...</td>\n",
       "      <td>215426617</td>\n",
       "      <td>Ibragim Tisaev</td>\n",
       "    </tr>\n",
       "    <tr>\n",
       "      <th>22</th>\n",
       "      <td>13</td>\n",
       "      <td>2022-09-08 08:35:27</td>\n",
       "      <td>Еще три новых термина 🎉 \\n \\nДва слова из трех...</td>\n",
       "      <td>14</td>\n",
       "      <td>2022-09-10 05:38:52</td>\n",
       "      <td>У вас сайт функционирует?</td>\n",
       "      <td>744813661</td>\n",
       "      <td>Alex Chetverikov</td>\n",
       "    </tr>\n",
       "    <tr>\n",
       "      <th>23</th>\n",
       "      <td>13</td>\n",
       "      <td>2022-09-08 08:35:27</td>\n",
       "      <td>Еще три новых термина 🎉 \\n \\nДва слова из трех...</td>\n",
       "      <td>15</td>\n",
       "      <td>2022-09-10 11:33:09</td>\n",
       "      <td>Здравствуйте. Кто проходил курсы здесь? Дайте ...</td>\n",
       "      <td>36054864</td>\n",
       "      <td>Ksenia Yusupova</td>\n",
       "    </tr>\n",
       "  </tbody>\n",
       "</table>\n",
       "</div>"
      ],
      "text/plain": [
       "    post_id         date_public  \\\n",
       "0       554 2023-07-14 13:04:05   \n",
       "1       554 2023-07-14 13:04:05   \n",
       "2       531 2023-07-01 12:30:00   \n",
       "3       499 2023-06-11 12:30:00   \n",
       "4       485 2023-06-06 12:30:00   \n",
       "5       485 2023-06-06 12:30:00   \n",
       "6       485 2023-06-06 12:30:00   \n",
       "7       383 2023-04-17 13:48:06   \n",
       "8       383 2023-04-17 13:48:06   \n",
       "9       383 2023-04-17 13:48:06   \n",
       "10      341 2023-03-27 15:43:05   \n",
       "11      341 2023-03-27 15:43:05   \n",
       "12      309 2023-03-11 09:27:45   \n",
       "13      299 2023-03-07 15:40:00   \n",
       "14      299 2023-03-07 15:40:00   \n",
       "15      198 2023-01-22 13:00:00   \n",
       "16      156 2022-12-28 13:28:39   \n",
       "17      154 2022-12-27 09:30:01   \n",
       "18      148 2022-12-24 09:17:00   \n",
       "19      132 2022-12-16 12:31:39   \n",
       "20      112 2022-12-02 12:35:35   \n",
       "21       43 2022-10-12 15:19:14   \n",
       "22       13 2022-09-08 08:35:27   \n",
       "23       13 2022-09-08 08:35:27   \n",
       "\n",
       "                                            text_post  comment_id  \\\n",
       "0   Заключительная часть советов от участников раз...         555   \n",
       "1   Заключительная часть советов от участников раз...         556   \n",
       "2   7 полезных сервисов для тех, кто работает с те...         536   \n",
       "3   Чего не стоит делать на собеседовании \\n \\nВы ...         500   \n",
       "4   Итоги конкурса #навыки1Т \\n \\n🐭 Недавно у 1Т С...         486   \n",
       "5   Итоги конкурса #навыки1Т \\n \\n🐭 Недавно у 1Т С...         487   \n",
       "6   Итоги конкурса #навыки1Т \\n \\n🐭 Недавно у 1Т С...         488   \n",
       "7   Дорогие друзья! \\n \\n🎉 Недавно четырнадцать ко...         384   \n",
       "8   Дорогие друзья! \\n \\n🎉 Недавно четырнадцать ко...         385   \n",
       "9   Дорогие друзья! \\n \\n🎉 Недавно четырнадцать ко...         386   \n",
       "10  🏴‍☠ Выложили на нашем YouTube-канале видео, то...         342   \n",
       "11  🏴‍☠ Выложили на нашем YouTube-канале видео, то...         344   \n",
       "12  🔔 Свистать всех наверх! \\n \\n🏴‍☠ ИТ-конференци...         334   \n",
       "13  Приручаем искусственный интеллект \\n \\n🎨 1 мар...         300   \n",
       "14  Приручаем искусственный интеллект \\n \\n🎨 1 мар...         310   \n",
       "15  Как работает Bluetooth \\n \\n⚡ Bluetooth — техн...         292   \n",
       "16  Что умеют нейросети? \\n \\nНейросети уже стали ...         157   \n",
       "17  Вчера, 26 декабря, в Совете Федерации состоялс...         168   \n",
       "18  Стратегии переговоров \\n \\n🤝 Говорят, что чест...         149   \n",
       "19  Бинго «1Т Спринт» \\n \\n🎉 Скоро Новый год, врем...         133   \n",
       "20  🔥 Уже несколько дней интернет развлекается, за...         113   \n",
       "21  🤨 Несколько лет назад руководитель американско...          44   \n",
       "22  Еще три новых термина 🎉 \\n \\nДва слова из трех...          14   \n",
       "23  Еще три новых термина 🎉 \\n \\nДва слова из трех...          15   \n",
       "\n",
       "          comment_date                                       comment_text  \\\n",
       "0  2023-07-14 13:13:25  Если ты работать вздумал,\\nРазвернись и выпей ...   \n",
       "1  2023-07-14 14:03:42  Если ты командной рулишь, \\nМенеджер- руководи...   \n",
       "2  2023-07-04 16:19:27  Классная подборка. Рады, что вы пользуетесь на...   \n",
       "3  2023-06-11 12:44:51  Из последнего: \\n\"- Вы работаете с Битрикс?\\n-...   \n",
       "4  2023-06-06 12:41:38  Здравствуйте, вроде 10 мышек разыгрывали, по-м...   \n",
       "5  2023-06-06 14:01:35  Большое спасибо 1T Sprint за возможность участ...   \n",
       "6  2023-06-06 14:59:33  Спасибо за конкурс, приятно вспомнить с чего в...   \n",
       "7  2023-04-17 16:33:48                                                      \n",
       "8  2023-04-17 16:34:05                                                      \n",
       "9  2023-04-17 19:01:47  Это был лучший офлайн)\\nЭто было не реально кл...   \n",
       "10 2023-03-27 18:50:04                                                      \n",
       "11 2023-03-27 18:50:28                                                      \n",
       "12 2023-03-23 09:26:01  Посмотреть видео ВКонтакте: https://vk.com/vid...   \n",
       "13 2023-03-08 10:18:17                     А где работы посмотреть можно?   \n",
       "14 2023-03-12 10:58:53    Здравствуйте, а где можно посмотреть результаты   \n",
       "15 2023-03-03 17:17:09  Потрясающая история! Спасибо за ликбез. Никто,...   \n",
       "16 2022-12-28 14:39:20  Маск где только не засветился, все передовые р...   \n",
       "17 2023-01-03 11:06:19            Лучше заводы и фабрики восстанавливать.   \n",
       "18 2022-12-24 19:12:43                                                 🔥🔥   \n",
       "19 2022-12-16 16:04:53                                      Дважды бинго)   \n",
       "20 2022-12-02 12:36:11                  Ссылка: https://t.me/qq_2d_ai_bot   \n",
       "21 2022-10-12 15:19:37  Грабителя не было ни в одном из когда-либо вых...   \n",
       "22 2022-09-10 05:38:52                          У вас сайт функционирует?   \n",
       "23 2022-09-10 11:33:09  Здравствуйте. Кто проходил курсы здесь? Дайте ...   \n",
       "\n",
       "    comment_writer_id        writer_full_name  \n",
       "0            30472918       Nadezhda Lakhtina  \n",
       "1            30472918       Nadezhda Lakhtina  \n",
       "2           354733385          Dasha Novikova  \n",
       "3           280437919         Darya Prokopova  \n",
       "4           387550114   Vsyareklama Gsalavata  \n",
       "5           752917537          Evdokia Bekker  \n",
       "6           699485614         Nadia Lohengrin  \n",
       "7           282137570      Karina Chernitsova  \n",
       "8           282137570      Karina Chernitsova  \n",
       "9            25359617       Denis Reshetnikov  \n",
       "10          282137570      Karina Chernitsova  \n",
       "11          282137570      Karina Chernitsova  \n",
       "12          215426617          Ibragim Tisaev  \n",
       "13          778096076       Alexey Dragomilov  \n",
       "14          188085295         Oksana Smirnova  \n",
       "15          615150448  Retseptolog Ot-Prirody  \n",
       "16          769557713          Irina Potapova  \n",
       "17          212331310           Andrey Usenko  \n",
       "18           30472918       Nadezhda Lakhtina  \n",
       "19            4692297           Polina Ageeva  \n",
       "20          215426617          Ibragim Tisaev  \n",
       "21          215426617          Ibragim Tisaev  \n",
       "22          744813661        Alex Chetverikov  \n",
       "23           36054864         Ksenia Yusupova  "
      ]
     },
     "execution_count": 25,
     "metadata": {},
     "output_type": "execute_result"
    }
   ],
   "source": [
    "df.drop(['comment_from_id'], axis=1 , inplace= True )\n",
    "df"
   ]
  },
  {
   "cell_type": "markdown",
   "metadata": {},
   "source": [
    "### Ура! Наша таблица готова! Запишем ее в файл *.csv."
   ]
  },
  {
   "cell_type": "code",
   "execution_count": 26,
   "metadata": {},
   "outputs": [],
   "source": [
    "df.to_csv('total_comments.csv')"
   ]
  },
  {
   "cell_type": "code",
   "execution_count": null,
   "metadata": {},
   "outputs": [],
   "source": []
  }
 ],
 "metadata": {
  "kernelspec": {
   "display_name": "Python 3 (ipykernel)",
   "language": "python",
   "name": "python3"
  },
  "language_info": {
   "codemirror_mode": {
    "name": "ipython",
    "version": 3
   },
   "file_extension": ".py",
   "mimetype": "text/x-python",
   "name": "python",
   "nbconvert_exporter": "python",
   "pygments_lexer": "ipython3",
   "version": "3.8.16"
  }
 },
 "nbformat": 4,
 "nbformat_minor": 4
}
