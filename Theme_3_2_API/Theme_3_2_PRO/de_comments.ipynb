{
 "cells": [
  {
   "cell_type": "markdown",
   "metadata": {
    "collapsed": false,
    "jupyter": {
     "outputs_hidden": false
    }
   },
   "source": [
    "### Импортируем библиотеки"
   ]
  },
  {
   "cell_type": "code",
   "execution_count": 1,
   "metadata": {
    "collapsed": false,
    "jupyter": {
     "outputs_hidden": false
    }
   },
   "outputs": [],
   "source": [
    "import csv\n",
    "import time\n",
    "import requests\n",
    "import pandas as pd"
   ]
  },
  {
   "cell_type": "markdown",
   "metadata": {
    "collapsed": false,
    "jupyter": {
     "outputs_hidden": false
    }
   },
   "source": [
    "### Назначим глобальные переменные"
   ]
  },
  {
   "cell_type": "code",
   "execution_count": null,
   "metadata": {
    "collapsed": false,
    "jupyter": {
     "outputs_hidden": false
    }
   },
   "outputs": [],
   "source": [
    "token = 'Введите сюда свой token'\n",
    "version = 5.131\n",
    "count = 100"
   ]
  },
  {
   "cell_type": "markdown",
   "metadata": {
    "collapsed": false,
    "jupyter": {
     "outputs_hidden": false
    }
   },
   "source": [
    "### Напишем функцию парсинга постов на стене ('wall.get')"
   ]
  },
  {
   "cell_type": "code",
   "execution_count": 3,
   "metadata": {},
   "outputs": [],
   "source": [
    "def take_all_posts():\n",
    "    domain = '1tsprint'\n",
    "    all_posts = []\n",
    "    offset = 0\n",
    "    while offset < 1000:\n",
    "        response = requests.get('https://api.vk.com/method/wall.get',\n",
    "                                params={\n",
    "                                    'access_token': token,\n",
    "                                    'v': version,\n",
    "                                    'domain': domain,\n",
    "                                    'count': count,\n",
    "                                    'offset': offset\n",
    "                                    }\n",
    "                                )\n",
    "        data = response.json()['response']['items']\n",
    "        offset += 100\n",
    "        all_posts.extend(data)\n",
    "        time.sleep(0.5)\n",
    "    return all_posts\n",
    "all_posts = take_all_posts()"
   ]
  },
  {
   "cell_type": "markdown",
   "metadata": {},
   "source": [
    "### Соберем таблицу постов за все время, отдельным столбцом 'count_comments' выведем количество комментариев к каждому посту."
   ]
  },
  {
   "cell_type": "code",
   "execution_count": 4,
   "metadata": {},
   "outputs": [
    {
     "data": {
      "text/html": [
       "<div>\n",
       "<style scoped>\n",
       "    .dataframe tbody tr th:only-of-type {\n",
       "        vertical-align: middle;\n",
       "    }\n",
       "\n",
       "    .dataframe tbody tr th {\n",
       "        vertical-align: top;\n",
       "    }\n",
       "\n",
       "    .dataframe thead th {\n",
       "        text-align: right;\n",
       "    }\n",
       "</style>\n",
       "<table border=\"1\" class=\"dataframe\">\n",
       "  <thead>\n",
       "    <tr style=\"text-align: right;\">\n",
       "      <th></th>\n",
       "      <th>post_id</th>\n",
       "      <th>text_post</th>\n",
       "      <th>count_comments</th>\n",
       "      <th>date_public</th>\n",
       "    </tr>\n",
       "  </thead>\n",
       "  <tbody>\n",
       "    <tr>\n",
       "      <th>0</th>\n",
       "      <td>560</td>\n",
       "      <td>Что такое Zoom-этикет \\n \\n💻 Видеоконференции ...</td>\n",
       "      <td>0</td>\n",
       "      <td>2023-07-16 12:45:00</td>\n",
       "    </tr>\n",
       "    <tr>\n",
       "      <th>1</th>\n",
       "      <td>559</td>\n",
       "      <td>Мастермайнд: как находить лучшие решения с пом...</td>\n",
       "      <td>0</td>\n",
       "      <td>2023-07-15 12:30:00</td>\n",
       "    </tr>\n",
       "    <tr>\n",
       "      <th>2</th>\n",
       "      <td>554</td>\n",
       "      <td>Заключительная часть советов от участников раз...</td>\n",
       "      <td>2</td>\n",
       "      <td>2023-07-14 13:04:05</td>\n",
       "    </tr>\n",
       "    <tr>\n",
       "      <th>3</th>\n",
       "      <td>549</td>\n",
       "      <td>Как понимать корпоративный сленг \\n \\n💬 У нас ...</td>\n",
       "      <td>0</td>\n",
       "      <td>2023-07-13 13:45:00</td>\n",
       "    </tr>\n",
       "    <tr>\n",
       "      <th>4</th>\n",
       "      <td>547</td>\n",
       "      <td>Как в 1Т Клубе организована менторская поддерж...</td>\n",
       "      <td>0</td>\n",
       "      <td>2023-07-12 13:00:01</td>\n",
       "    </tr>\n",
       "  </tbody>\n",
       "</table>\n",
       "</div>"
      ],
      "text/plain": [
       "   post_id                                          text_post  count_comments  \\\n",
       "0      560  Что такое Zoom-этикет \\n \\n💻 Видеоконференции ...               0   \n",
       "1      559  Мастермайнд: как находить лучшие решения с пом...               0   \n",
       "2      554  Заключительная часть советов от участников раз...               2   \n",
       "3      549  Как понимать корпоративный сленг \\n \\n💬 У нас ...               0   \n",
       "4      547  Как в 1Т Клубе организована менторская поддерж...               0   \n",
       "\n",
       "          date_public  \n",
       "0 2023-07-16 12:45:00  \n",
       "1 2023-07-15 12:30:00  \n",
       "2 2023-07-14 13:04:05  \n",
       "3 2023-07-13 13:45:00  \n",
       "4 2023-07-12 13:00:01  "
      ]
     },
     "execution_count": 4,
     "metadata": {},
     "output_type": "execute_result"
    }
   ],
   "source": [
    "list_posts, list_comments, list_date_of_post, list_post_id = [], [], [], []\n",
    "for post in all_posts:\n",
    "    list_posts.append(post['text'])\n",
    "    list_comments.append(post['comments']['count'])\n",
    "    list_date_of_post.append(post['date'])\n",
    "    list_post_id.append(post['id'])\n",
    "list_date_of_post = pd.Series(list_date_of_post)   \n",
    "\n",
    "count_comment_df = pd.concat([pd.Series(list_post_id), pd.Series(list_posts), pd.Series(list_comments), list_date_of_post.astype('int').astype(\"datetime64[s]\")], axis=1)\n",
    "count_comment_df.columns = ['post_id', 'text_post', 'count_comments', 'date_public']\n",
    "count_comment_df.head()"
   ]
  },
  {
   "cell_type": "markdown",
   "metadata": {},
   "source": [
    "### Посмотрим, сколько всего постов посвящены тематике Data Engineering:"
   ]
  },
  {
   "cell_type": "code",
   "execution_count": 5,
   "metadata": {
    "collapsed": false,
    "jupyter": {
     "outputs_hidden": false
    }
   },
   "outputs": [
    {
     "name": "stdout",
     "output_type": "stream",
     "text": [
      "Всего найдено 6 постов с тематикой \"дата инженер|data eng|инженер данных\".\n"
     ]
    },
    {
     "data": {
      "text/plain": [
       "55     🎙 в эту среду, 24 мая, в 19 часов по мск — оче...\n",
       "76     🖥 приглашаем на вебинар сегодня в 20:00! \\n \\n...\n",
       "82     на нашем youtube-канале вышла запись вебинара ...\n",
       "84     ⏰ начинаем через полчаса! \\n \\nвебинар «как по...\n",
       "87     🚀 три новых курса от 1т по искусственному инте...\n",
       "322    курс «инженер данных» https://sprint.1t.ru/eng...\n",
       "Name: text_post, dtype: object"
      ]
     },
     "execution_count": 5,
     "metadata": {},
     "output_type": "execute_result"
    }
   ],
   "source": [
    "posts_de = count_comment_df['text_post'].str.lower()\n",
    "posts_de = posts_de[posts_de.str.contains('дата инженер|data eng|инженер данных')]\n",
    "print(f'Всего найдено {len(posts_de)} постов с тематикой \"дата инженер|data eng|инженер данных\".')\n",
    "posts_de"
   ]
  },
  {
   "cell_type": "markdown",
   "metadata": {},
   "source": [
    "### Выведем отдельную таблицу, где отберем посты, в которых оставлен хотя бы 1 комментарий."
   ]
  },
  {
   "cell_type": "code",
   "execution_count": 6,
   "metadata": {
    "collapsed": false,
    "jupyter": {
     "outputs_hidden": false
    }
   },
   "outputs": [
    {
     "data": {
      "text/html": [
       "<div>\n",
       "<style scoped>\n",
       "    .dataframe tbody tr th:only-of-type {\n",
       "        vertical-align: middle;\n",
       "    }\n",
       "\n",
       "    .dataframe tbody tr th {\n",
       "        vertical-align: top;\n",
       "    }\n",
       "\n",
       "    .dataframe thead th {\n",
       "        text-align: right;\n",
       "    }\n",
       "</style>\n",
       "<table border=\"1\" class=\"dataframe\">\n",
       "  <thead>\n",
       "    <tr style=\"text-align: right;\">\n",
       "      <th></th>\n",
       "      <th>post_id</th>\n",
       "      <th>text_post</th>\n",
       "      <th>count_comments</th>\n",
       "      <th>date_public</th>\n",
       "    </tr>\n",
       "  </thead>\n",
       "  <tbody>\n",
       "    <tr>\n",
       "      <th>2</th>\n",
       "      <td>554</td>\n",
       "      <td>Заключительная часть советов от участников раз...</td>\n",
       "      <td>2</td>\n",
       "      <td>2023-07-14 13:04:05</td>\n",
       "    </tr>\n",
       "    <tr>\n",
       "      <th>13</th>\n",
       "      <td>531</td>\n",
       "      <td>7 полезных сервисов для тех, кто работает с те...</td>\n",
       "      <td>1</td>\n",
       "      <td>2023-07-01 12:30:00</td>\n",
       "    </tr>\n",
       "    <tr>\n",
       "      <th>33</th>\n",
       "      <td>499</td>\n",
       "      <td>Чего не стоит делать на собеседовании \\n \\nВы ...</td>\n",
       "      <td>1</td>\n",
       "      <td>2023-06-11 12:30:00</td>\n",
       "    </tr>\n",
       "    <tr>\n",
       "      <th>38</th>\n",
       "      <td>485</td>\n",
       "      <td>Итоги конкурса #навыки1Т \\n \\n🐭 Недавно у 1Т С...</td>\n",
       "      <td>3</td>\n",
       "      <td>2023-06-06 12:30:00</td>\n",
       "    </tr>\n",
       "    <tr>\n",
       "      <th>100</th>\n",
       "      <td>383</td>\n",
       "      <td>Дорогие друзья! \\n \\n🎉 Недавно четырнадцать ко...</td>\n",
       "      <td>3</td>\n",
       "      <td>2023-04-17 13:48:06</td>\n",
       "    </tr>\n",
       "    <tr>\n",
       "      <th>123</th>\n",
       "      <td>341</td>\n",
       "      <td>🏴‍☠ Выложили на нашем YouTube-канале видео, то...</td>\n",
       "      <td>2</td>\n",
       "      <td>2023-03-27 15:43:05</td>\n",
       "    </tr>\n",
       "    <tr>\n",
       "      <th>140</th>\n",
       "      <td>309</td>\n",
       "      <td>🔔 Свистать всех наверх! \\n \\n🏴‍☠ ИТ-конференци...</td>\n",
       "      <td>1</td>\n",
       "      <td>2023-03-11 09:27:45</td>\n",
       "    </tr>\n",
       "    <tr>\n",
       "      <th>145</th>\n",
       "      <td>299</td>\n",
       "      <td>Приручаем искусственный интеллект \\n \\n🎨 1 мар...</td>\n",
       "      <td>5</td>\n",
       "      <td>2023-03-07 15:40:00</td>\n",
       "    </tr>\n",
       "    <tr>\n",
       "      <th>190</th>\n",
       "      <td>198</td>\n",
       "      <td>Как работает Bluetooth \\n \\n⚡ Bluetooth — техн...</td>\n",
       "      <td>1</td>\n",
       "      <td>2023-01-22 13:00:00</td>\n",
       "    </tr>\n",
       "    <tr>\n",
       "      <th>211</th>\n",
       "      <td>156</td>\n",
       "      <td>Что умеют нейросети? \\n \\nНейросети уже стали ...</td>\n",
       "      <td>1</td>\n",
       "      <td>2022-12-28 13:28:39</td>\n",
       "    </tr>\n",
       "    <tr>\n",
       "      <th>213</th>\n",
       "      <td>154</td>\n",
       "      <td>Вчера, 26 декабря, в Совете Федерации состоялс...</td>\n",
       "      <td>1</td>\n",
       "      <td>2022-12-27 09:30:01</td>\n",
       "    </tr>\n",
       "    <tr>\n",
       "      <th>216</th>\n",
       "      <td>148</td>\n",
       "      <td>Стратегии переговоров \\n \\n🤝 Говорят, что чест...</td>\n",
       "      <td>1</td>\n",
       "      <td>2022-12-24 09:17:00</td>\n",
       "    </tr>\n",
       "    <tr>\n",
       "      <th>224</th>\n",
       "      <td>132</td>\n",
       "      <td>Бинго «1Т Спринт» \\n \\n🎉 Скоро Новый год, врем...</td>\n",
       "      <td>1</td>\n",
       "      <td>2022-12-16 12:31:39</td>\n",
       "    </tr>\n",
       "    <tr>\n",
       "      <th>238</th>\n",
       "      <td>112</td>\n",
       "      <td>🔥 Уже несколько дней интернет развлекается, за...</td>\n",
       "      <td>1</td>\n",
       "      <td>2022-12-02 12:35:35</td>\n",
       "    </tr>\n",
       "    <tr>\n",
       "      <th>288</th>\n",
       "      <td>43</td>\n",
       "      <td>🤨 Несколько лет назад руководитель американско...</td>\n",
       "      <td>1</td>\n",
       "      <td>2022-10-12 15:19:14</td>\n",
       "    </tr>\n",
       "    <tr>\n",
       "      <th>311</th>\n",
       "      <td>13</td>\n",
       "      <td>Еще три новых термина 🎉 \\n \\nДва слова из трех...</td>\n",
       "      <td>7</td>\n",
       "      <td>2022-09-08 08:35:27</td>\n",
       "    </tr>\n",
       "  </tbody>\n",
       "</table>\n",
       "</div>"
      ],
      "text/plain": [
       "     post_id                                          text_post  \\\n",
       "2        554  Заключительная часть советов от участников раз...   \n",
       "13       531  7 полезных сервисов для тех, кто работает с те...   \n",
       "33       499  Чего не стоит делать на собеседовании \\n \\nВы ...   \n",
       "38       485  Итоги конкурса #навыки1Т \\n \\n🐭 Недавно у 1Т С...   \n",
       "100      383  Дорогие друзья! \\n \\n🎉 Недавно четырнадцать ко...   \n",
       "123      341  🏴‍☠ Выложили на нашем YouTube-канале видео, то...   \n",
       "140      309  🔔 Свистать всех наверх! \\n \\n🏴‍☠ ИТ-конференци...   \n",
       "145      299  Приручаем искусственный интеллект \\n \\n🎨 1 мар...   \n",
       "190      198  Как работает Bluetooth \\n \\n⚡ Bluetooth — техн...   \n",
       "211      156  Что умеют нейросети? \\n \\nНейросети уже стали ...   \n",
       "213      154  Вчера, 26 декабря, в Совете Федерации состоялс...   \n",
       "216      148  Стратегии переговоров \\n \\n🤝 Говорят, что чест...   \n",
       "224      132  Бинго «1Т Спринт» \\n \\n🎉 Скоро Новый год, врем...   \n",
       "238      112  🔥 Уже несколько дней интернет развлекается, за...   \n",
       "288       43  🤨 Несколько лет назад руководитель американско...   \n",
       "311       13  Еще три новых термина 🎉 \\n \\nДва слова из трех...   \n",
       "\n",
       "     count_comments         date_public  \n",
       "2                 2 2023-07-14 13:04:05  \n",
       "13                1 2023-07-01 12:30:00  \n",
       "33                1 2023-06-11 12:30:00  \n",
       "38                3 2023-06-06 12:30:00  \n",
       "100               3 2023-04-17 13:48:06  \n",
       "123               2 2023-03-27 15:43:05  \n",
       "140               1 2023-03-11 09:27:45  \n",
       "145               5 2023-03-07 15:40:00  \n",
       "190               1 2023-01-22 13:00:00  \n",
       "211               1 2022-12-28 13:28:39  \n",
       "213               1 2022-12-27 09:30:01  \n",
       "216               1 2022-12-24 09:17:00  \n",
       "224               1 2022-12-16 12:31:39  \n",
       "238               1 2022-12-02 12:35:35  \n",
       "288               1 2022-10-12 15:19:14  \n",
       "311               7 2022-09-08 08:35:27  "
      ]
     },
     "execution_count": 6,
     "metadata": {},
     "output_type": "execute_result"
    }
   ],
   "source": [
    "df_with_comment = count_comment_df.loc[count_comment_df['count_comments'] > 0]\n",
    "df_with_comment"
   ]
  },
  {
   "cell_type": "markdown",
   "metadata": {},
   "source": [
    "### Посмотрим, сколько комментариев оставлено к постам с совпадением тематики Data Engineering."
   ]
  },
  {
   "cell_type": "code",
   "execution_count": 7,
   "metadata": {
    "collapsed": false,
    "jupyter": {
     "outputs_hidden": false
    }
   },
   "outputs": [
    {
     "name": "stdout",
     "output_type": "stream",
     "text": [
      "В списке постов с совпадением тематики \"дата инженер|data eng|инженер данных\" содержится всего 0 комментариев на любую тему.\n"
     ]
    }
   ],
   "source": [
    "posts_de_com = df_with_comment['text_post'].str.lower()\n",
    "posts_de_com = posts_de_com[posts_de_com.str.contains('дата инженер|data eng|инженер данных')]\n",
    "print(f'В списке постов с совпадением тематики \"дата инженер|data eng|инженер данных\" содержится всего {len(posts_de_com)} комментариев на любую тему.') "
   ]
  },
  {
   "cell_type": "markdown",
   "metadata": {},
   "source": [
    "### Проанализируем,ко скольким постам всего из общего количества пользователи оставили комментарии."
   ]
  },
  {
   "cell_type": "code",
   "execution_count": 8,
   "metadata": {
    "collapsed": false,
    "jupyter": {
     "outputs_hidden": false
    }
   },
   "outputs": [
    {
     "name": "stdout",
     "output_type": "stream",
     "text": [
      "Всего к 16 постам из 323 посетители оставили комментарии.\n"
     ]
    }
   ],
   "source": [
    "df_post_id_comment = df_with_comment['post_id']\n",
    "print(f'Всего к {len(df_post_id_comment)} постам из {len(count_comment_df)} посетители оставили комментарии.')"
   ]
  },
  {
   "cell_type": "markdown",
   "metadata": {},
   "source": [
    "### На основании анализа выше, соберем таблицу всех комментариев, когда-либо оставленных к постам.\n",
    "### Для начала соберем json-файл, используя метод 'wall.getComments'."
   ]
  },
  {
   "cell_type": "code",
   "execution_count": null,
   "metadata": {
    "collapsed": false,
    "jupyter": {
     "outputs_hidden": false
    },
    "scrolled": true
   },
   "outputs": [],
   "source": [
    "owner_id = '-215426617'\n",
    "all_comments = []\n",
    "offset = 0\n",
    "count = len(df_post_id_comment)\n",
    "for post_id in df_post_id_comment:\n",
    "    response = requests.get('https://api.vk.com/method/wall.getComments',\n",
    "                            params={\n",
    "                                'access_token': token,\n",
    "                                'v': version,\n",
    "                                'owner_id': owner_id,\n",
    "                                'count': count,\n",
    "                                'offset': offset,\n",
    "                                'post_id': post_id\n",
    "                                }\n",
    "                            )\n",
    "    data = response.json()['response']['items']\n",
    "    all_comments.extend(data)\n",
    "all_comments"
   ]
  },
  {
   "cell_type": "markdown",
   "metadata": {},
   "source": [
    "### Потом выведем все полученные данные в таблицу"
   ]
  },
  {
   "cell_type": "code",
   "execution_count": null,
   "metadata": {
    "scrolled": true
   },
   "outputs": [],
   "source": [
    "list_comment_id, list_comment_text, list_comment_date, list_from_id, list_post_id = [], [], [], [], []\n",
    "for comment in all_comments:\n",
    "    list_post_id.append(comment['post_id'])\n",
    "    list_comment_id.append(comment['id'])\n",
    "    list_comment_date.append(comment['date'])\n",
    "    list_comment_text.append(comment['text'])\n",
    "    if comment['from_id'] < 0:\n",
    "        comment['from_id'] = -(comment['from_id'])\n",
    "    else: comment['from_id']\n",
    "    list_from_id.append(comment['from_id'])\n",
    "list_comment_date = pd.Series(list_comment_date)\n",
    "\n",
    "all_comments_df = pd.concat([pd.Series(list_post_id), pd.Series(list_comment_id), list_comment_date.astype('int').astype(\"datetime64[s]\"), pd.Series(list_comment_text), pd.Series(list_from_id)], axis=1)\n",
    "all_comments_df.columns = ['post_id', 'comment_id', 'comment_date', 'comment_text', 'comment_from_id']\n",
    "all_comments_df"
   ]
  },
  {
   "cell_type": "markdown",
   "metadata": {},
   "source": [
    "### Подтянем к таблице с комментариями данные о постах по ключу 'post_id'."
   ]
  },
  {
   "cell_type": "code",
   "execution_count": null,
   "metadata": {
    "scrolled": true
   },
   "outputs": [],
   "source": [
    "df_temp = all_comments_df.merge(df_with_comment, left_on='post_id', right_on='post_id', how='left')\n",
    "df_temp"
   ]
  },
  {
   "cell_type": "markdown",
   "metadata": {},
   "source": [
    "### Поменяем колонки местами для наглядности и лучшего восприятия."
   ]
  },
  {
   "cell_type": "code",
   "execution_count": null,
   "metadata": {
    "scrolled": true
   },
   "outputs": [],
   "source": [
    "df_all = df_temp[['post_id', 'date_public', 'text_post', 'comment_id', 'comment_date', 'comment_text', 'comment_from_id']]\n",
    "df_all"
   ]
  },
  {
   "cell_type": "markdown",
   "metadata": {},
   "source": [
    "### Почти все. Осталось только к id пользователя ('from_id'), оставившего комментарий, добавить полное имя ('first_name' + 'last_name').\n",
    "### Запишем значения колонки 'comment_from_id' в отдельную переменную 'df_id_users':"
   ]
  },
  {
   "cell_type": "code",
   "execution_count": null,
   "metadata": {
    "collapsed": false,
    "jupyter": {
     "outputs_hidden": false
    },
    "scrolled": true
   },
   "outputs": [],
   "source": [
    "df_id_users = df_all.comment_from_id\n",
    "df_id_users"
   ]
  },
  {
   "cell_type": "markdown",
   "metadata": {},
   "source": [
    "### Важно! Информацию о пользователях сайт vk.com выдает с трудом, поэтому, если код ниже выдал ошибку, пожалуйста, запустите исполнение ячейки еще раз.\n",
    "### Информацию о пользователях получим с помощью метода 'users.get'."
   ]
  },
  {
   "cell_type": "code",
   "execution_count": null,
   "metadata": {
    "collapsed": false,
    "jupyter": {
     "outputs_hidden": false
    },
    "scrolled": true
   },
   "outputs": [],
   "source": [
    "df_users = []\n",
    "for comment_from_id in df_id_users:\n",
    "    response = requests.get('https://api.vk.com/method/users.get',\n",
    "                            params={\n",
    "                                'access_token': token,\n",
    "                                'user_ids': comment_from_id,\n",
    "                                'v': version\n",
    "                                }\n",
    "                            )\n",
    "    data = response.json()['response']\n",
    "    df_users.extend(data)\n",
    "df_users"
   ]
  },
  {
   "cell_type": "code",
   "execution_count": null,
   "metadata": {},
   "outputs": [],
   "source": [
    "len(df_users)"
   ]
  },
  {
   "cell_type": "markdown",
   "metadata": {},
   "source": [
    "### Вытянем информацию о полных именах пользователей по их 'id':"
   ]
  },
  {
   "cell_type": "code",
   "execution_count": null,
   "metadata": {},
   "outputs": [],
   "source": [
    "all_users_df = []\n",
    "list_from_id, list_full_name = [], []\n",
    "for user in df_users:\n",
    "    list_from_id.append(user['id'])\n",
    "    list_full_name.append(user['first_name'] + ' ' + user['last_name'])\n",
    "\n",
    "all_users_df = pd.concat([pd.Series(list_from_id), pd.Series(list_full_name)], axis=1)\n",
    "all_users_df.columns = ['comment_writer_id', 'writer_full_name']\n",
    "all_users_df"
   ]
  },
  {
   "cell_type": "markdown",
   "metadata": {},
   "source": [
    "### Смержим таблицы со всеми комментариями и полными именами пользователей по ключу 'id'."
   ]
  },
  {
   "cell_type": "code",
   "execution_count": null,
   "metadata": {},
   "outputs": [],
   "source": [
    "df = df_all.merge(all_users_df, left_index=True, right_index=True, how='inner')\n",
    "df"
   ]
  },
  {
   "cell_type": "markdown",
   "metadata": {},
   "source": [
    "### Удалим ненужный, дублирующийся столбец 'comment_from_id'"
   ]
  },
  {
   "cell_type": "code",
   "execution_count": null,
   "metadata": {},
   "outputs": [],
   "source": [
    "df.drop(['comment_from_id'], axis=1 , inplace= True )\n",
    "df"
   ]
  },
  {
   "cell_type": "markdown",
   "metadata": {},
   "source": [
    "### Ура! Наша таблица готова! Запишем ее в файл *.csv."
   ]
  },
  {
   "cell_type": "code",
   "execution_count": null,
   "metadata": {},
   "outputs": [],
   "source": [
    "df.to_csv('total_comments.csv')"
   ]
  },
  {
   "cell_type": "code",
   "execution_count": null,
   "metadata": {},
   "outputs": [],
   "source": []
  }
 ],
 "metadata": {
  "kernelspec": {
   "display_name": "Python 3 (ipykernel)",
   "language": "python",
   "name": "python3"
  },
  "language_info": {
   "codemirror_mode": {
    "name": "ipython",
    "version": 3
   },
   "file_extension": ".py",
   "mimetype": "text/x-python",
   "name": "python",
   "nbconvert_exporter": "python",
   "pygments_lexer": "ipython3",
   "version": "3.8.16"
  }
 },
 "nbformat": 4,
 "nbformat_minor": 4
}
