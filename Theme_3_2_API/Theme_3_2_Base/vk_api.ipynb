{
 "cells": [
  {
   "cell_type": "markdown",
   "source": [
    "Импортируем библиотеки"
   ],
   "metadata": {
    "collapsed": false
   }
  },
  {
   "cell_type": "code",
   "execution_count": 1,
   "outputs": [],
   "source": [
    "import csv\n",
    "import time\n",
    "import requests\n",
    "import vk\n",
    "import pandas as pd"
   ],
   "metadata": {
    "collapsed": false
   }
  },
  {
   "cell_type": "markdown",
   "source": [
    "Назначим глобальные переменные"
   ],
   "metadata": {
    "collapsed": false
   }
  },
  {
   "cell_type": "code",
   "execution_count": 9,
   "outputs": [],
   "source": [
    "token = 'Введите сюда свой token'\n",
    "version = 5.131\n",
    "count = 100"
   ],
   "metadata": {
    "collapsed": false
   }
  },
  {
   "cell_type": "markdown",
   "source": [
    "Напишем функцию парсинга постов на стене ('wall.get')"
   ],
   "metadata": {
    "collapsed": false
   }
  },
  {
   "cell_type": "code",
   "execution_count": 3,
   "outputs": [],
   "source": [
    "def take_all_posts():\n",
    "    domain = '1tsprint'\n",
    "    all_posts = []\n",
    "    offset = 0\n",
    "    while offset < 1000:\n",
    "        response = requests.get('https://api.vk.com/method/wall.get',\n",
    "                                params={\n",
    "                                    'access_token': token,\n",
    "                                    'v': version,\n",
    "                                    'domain': domain,\n",
    "                                    'count': count,\n",
    "                                    'offset': offset\n",
    "                                    }\n",
    "                                )\n",
    "        data = response.json()['response']['items']\n",
    "        offset += 100\n",
    "        all_posts.extend(data)\n",
    "        time.sleep(0.5)\n",
    "    return all_posts\n",
    "all_posts = take_all_posts()"
   ],
   "metadata": {
    "collapsed": false
   }
  },
  {
   "cell_type": "markdown",
   "source": [
    "Объединим данные 'posts' и 'reposts' в общую таблицу и сохраним в файл *.csv"
   ],
   "metadata": {
    "collapsed": false
   }
  },
  {
   "cell_type": "code",
   "execution_count": 4,
   "outputs": [
    {
     "data": {
      "text/plain": "                                           text_post  count_reposts\n1  Мастермайнд: как находить лучшие решения с пом...              0\n2  Заключительная часть советов от участников раз...              0\n3  Как понимать корпоративный сленг \\n \\n💬 У нас ...              0\n4  Как в 1Т Клубе организована менторская поддерж...              0\n5  Как стать digital-маркетологом в IT-компании п...              1",
      "text/html": "<div>\n<style scoped>\n    .dataframe tbody tr th:only-of-type {\n        vertical-align: middle;\n    }\n\n    .dataframe tbody tr th {\n        vertical-align: top;\n    }\n\n    .dataframe thead th {\n        text-align: right;\n    }\n</style>\n<table border=\"1\" class=\"dataframe\">\n  <thead>\n    <tr style=\"text-align: right;\">\n      <th></th>\n      <th>text_post</th>\n      <th>count_reposts</th>\n    </tr>\n  </thead>\n  <tbody>\n    <tr>\n      <th>1</th>\n      <td>Мастермайнд: как находить лучшие решения с пом...</td>\n      <td>0</td>\n    </tr>\n    <tr>\n      <th>2</th>\n      <td>Заключительная часть советов от участников раз...</td>\n      <td>0</td>\n    </tr>\n    <tr>\n      <th>3</th>\n      <td>Как понимать корпоративный сленг \\n \\n💬 У нас ...</td>\n      <td>0</td>\n    </tr>\n    <tr>\n      <th>4</th>\n      <td>Как в 1Т Клубе организована менторская поддерж...</td>\n      <td>0</td>\n    </tr>\n    <tr>\n      <th>5</th>\n      <td>Как стать digital-маркетологом в IT-компании п...</td>\n      <td>1</td>\n    </tr>\n  </tbody>\n</table>\n</div>"
     },
     "execution_count": 4,
     "metadata": {},
     "output_type": "execute_result"
    }
   ],
   "source": [
    "list_posts, list_reposts = [], []\n",
    "for post in all_posts:\n",
    "    list_posts.append(post['text'])\n",
    "    list_reposts.append(post['reposts']['count'])\n",
    "count_posts_reposts = pd.concat([pd.Series(list_posts), pd.Series(list_reposts)], axis=1)\n",
    "count_posts_reposts.index += 1\n",
    "count_posts_reposts.columns = ['text_post', 'count_reposts']\n",
    "count_posts_reposts.to_csv('count_posts_reposts.csv')\n",
    "count_posts_reposts.head()"
   ],
   "metadata": {
    "collapsed": false
   }
  },
  {
   "cell_type": "markdown",
   "source": [
    "Напишем функцию нахождения количества подписчиков в группе"
   ],
   "metadata": {
    "collapsed": false
   }
  },
  {
   "cell_type": "code",
   "execution_count": 5,
   "outputs": [
    {
     "data": {
      "text/plain": "0    2502\ndtype: int64"
     },
     "execution_count": 5,
     "metadata": {},
     "output_type": "execute_result"
    }
   ],
   "source": [
    "def count_followers():\n",
    "    group_id = 215426617\n",
    "    response = requests.get('https://api.vk.com/method/groups.getMembers',\n",
    "                                params={\n",
    "                                    'access_token': token,\n",
    "                                    'v': version,\n",
    "                                    'group_id': group_id\n",
    "                                    }\n",
    "                                )\n",
    "    data = response.json()['response']['count']\n",
    "    time.sleep(0.5)\n",
    "    return data\n",
    "count_followers = count_followers()\n",
    "count_followers = pd.Series(count_followers)\n",
    "count_followers"
   ],
   "metadata": {
    "collapsed": false
   }
  },
  {
   "cell_type": "markdown",
   "source": [
    "Посчитаем общее количество постов в группе"
   ],
   "metadata": {
    "collapsed": false
   }
  },
  {
   "cell_type": "code",
   "execution_count": 6,
   "outputs": [
    {
     "data": {
      "text/plain": "0    322\ndtype: int64"
     },
     "execution_count": 6,
     "metadata": {},
     "output_type": "execute_result"
    }
   ],
   "source": [
    "count_posts = pd.Series(count_posts_reposts['text_post'].count())\n",
    "count_posts"
   ],
   "metadata": {
    "collapsed": false
   }
  },
  {
   "cell_type": "markdown",
   "source": [
    "Посчитаем общее количество репостов к постам в группе"
   ],
   "metadata": {
    "collapsed": false
   }
  },
  {
   "cell_type": "code",
   "execution_count": 7,
   "outputs": [
    {
     "data": {
      "text/plain": "0    205\ndtype: int64"
     },
     "execution_count": 7,
     "metadata": {},
     "output_type": "execute_result"
    }
   ],
   "source": [
    "count_reposts = pd.Series(count_posts_reposts['count_reposts'].sum())\n",
    "count_reposts"
   ],
   "metadata": {
    "collapsed": false
   }
  },
  {
   "cell_type": "markdown",
   "source": [
    "Сведем все полученные данные в общую таблицу и сохраним в .csv файл"
   ],
   "metadata": {
    "collapsed": false
   }
  },
  {
   "cell_type": "code",
   "execution_count": 8,
   "outputs": [
    {
     "data": {
      "text/plain": "   count_posts  count_reposts  count_followers\n0          322            205             2502",
      "text/html": "<div>\n<style scoped>\n    .dataframe tbody tr th:only-of-type {\n        vertical-align: middle;\n    }\n\n    .dataframe tbody tr th {\n        vertical-align: top;\n    }\n\n    .dataframe thead th {\n        text-align: right;\n    }\n</style>\n<table border=\"1\" class=\"dataframe\">\n  <thead>\n    <tr style=\"text-align: right;\">\n      <th></th>\n      <th>count_posts</th>\n      <th>count_reposts</th>\n      <th>count_followers</th>\n    </tr>\n  </thead>\n  <tbody>\n    <tr>\n      <th>0</th>\n      <td>322</td>\n      <td>205</td>\n      <td>2502</td>\n    </tr>\n  </tbody>\n</table>\n</div>"
     },
     "execution_count": 8,
     "metadata": {},
     "output_type": "execute_result"
    }
   ],
   "source": [
    "total_counts = pd.concat([count_posts, count_reposts, count_followers], axis=1)\n",
    "total_counts.columns = ['count_posts', 'count_reposts', 'count_followers']\n",
    "total_counts.to_csv('total_counts.csv')\n",
    "total_counts"
   ],
   "metadata": {
    "collapsed": false
   }
  },
  {
   "cell_type": "code",
   "execution_count": 8,
   "outputs": [],
   "source": [],
   "metadata": {
    "collapsed": false
   }
  }
 ],
 "metadata": {
  "kernelspec": {
   "display_name": "Python 3",
   "language": "python",
   "name": "python3"
  },
  "language_info": {
   "codemirror_mode": {
    "name": "ipython",
    "version": 2
   },
   "file_extension": ".py",
   "mimetype": "text/x-python",
   "name": "python",
   "nbconvert_exporter": "python",
   "pygments_lexer": "ipython2",
   "version": "2.7.6"
  }
 },
 "nbformat": 4,
 "nbformat_minor": 0
}
