{
 "cells": [
  {
   "cell_type": "markdown",
   "source": [
    "Импортируем библиотеки"
   ],
   "metadata": {
    "collapsed": false
   }
  },
  {
   "cell_type": "code",
   "execution_count": 1,
   "outputs": [],
   "source": [
    "import csv\n",
    "import time\n",
    "import requests\n",
    "import vk\n",
    "import pandas as pd"
   ],
   "metadata": {
    "collapsed": false
   }
  },
  {
   "cell_type": "markdown",
   "source": [
    "Назначим глобальные переменные"
   ],
   "metadata": {
    "collapsed": false
   }
  },
  {
   "cell_type": "code",
   "execution_count": 9,
   "outputs": [],
   "source": [
    "token = 'Введите сюда свой token'\n",
    "version = 5.131\n",
    "count = 100"
   ],
   "metadata": {
    "collapsed": false
   }
  },
  {
   "cell_type": "markdown",
   "source": [
    "Напишем функцию парсинга постов на стене ('wall.get')"
   ],
   "metadata": {
    "collapsed": false
   }
  },
  {
   "cell_type": "code",
   "execution_count": 10,
   "outputs": [
    {
     "ename": "KeyError",
     "evalue": "'response'",
     "output_type": "error",
     "traceback": [
      "\u001B[1;31m---------------------------------------------------------------------------\u001B[0m",
      "\u001B[1;31mKeyError\u001B[0m                                  Traceback (most recent call last)",
      "Cell \u001B[1;32mIn[10], line 20\u001B[0m\n\u001B[0;32m     18\u001B[0m         time\u001B[38;5;241m.\u001B[39msleep(\u001B[38;5;241m0.5\u001B[39m)\n\u001B[0;32m     19\u001B[0m     \u001B[38;5;28;01mreturn\u001B[39;00m all_posts\n\u001B[1;32m---> 20\u001B[0m all_posts \u001B[38;5;241m=\u001B[39m \u001B[43mtake_all_posts\u001B[49m\u001B[43m(\u001B[49m\u001B[43m)\u001B[49m\n",
      "Cell \u001B[1;32mIn[10], line 15\u001B[0m, in \u001B[0;36mtake_all_posts\u001B[1;34m()\u001B[0m\n\u001B[0;32m      5\u001B[0m \u001B[38;5;28;01mwhile\u001B[39;00m offset \u001B[38;5;241m<\u001B[39m \u001B[38;5;241m1000\u001B[39m:\n\u001B[0;32m      6\u001B[0m     response \u001B[38;5;241m=\u001B[39m requests\u001B[38;5;241m.\u001B[39mget(\u001B[38;5;124m'\u001B[39m\u001B[38;5;124mhttps://api.vk.com/method/wall.get\u001B[39m\u001B[38;5;124m'\u001B[39m,\n\u001B[0;32m      7\u001B[0m                             params\u001B[38;5;241m=\u001B[39m{\n\u001B[0;32m      8\u001B[0m                                 \u001B[38;5;124m'\u001B[39m\u001B[38;5;124maccess_token\u001B[39m\u001B[38;5;124m'\u001B[39m: token,\n\u001B[1;32m   (...)\u001B[0m\n\u001B[0;32m     13\u001B[0m                                 }\n\u001B[0;32m     14\u001B[0m                             )\n\u001B[1;32m---> 15\u001B[0m     data \u001B[38;5;241m=\u001B[39m \u001B[43mresponse\u001B[49m\u001B[38;5;241;43m.\u001B[39;49m\u001B[43mjson\u001B[49m\u001B[43m(\u001B[49m\u001B[43m)\u001B[49m\u001B[43m[\u001B[49m\u001B[38;5;124;43m'\u001B[39;49m\u001B[38;5;124;43mresponse\u001B[39;49m\u001B[38;5;124;43m'\u001B[39;49m\u001B[43m]\u001B[49m[\u001B[38;5;124m'\u001B[39m\u001B[38;5;124mitems\u001B[39m\u001B[38;5;124m'\u001B[39m]\n\u001B[0;32m     16\u001B[0m     offset \u001B[38;5;241m+\u001B[39m\u001B[38;5;241m=\u001B[39m \u001B[38;5;241m100\u001B[39m\n\u001B[0;32m     17\u001B[0m     all_posts\u001B[38;5;241m.\u001B[39mextend(data)\n",
      "\u001B[1;31mKeyError\u001B[0m: 'response'"
     ]
    }
   ],
   "source": [
    "def take_all_posts():\n",
    "    domain = '1tsprint'\n",
    "    all_posts = []\n",
    "    offset = 0\n",
    "    while offset < 1000:\n",
    "        response = requests.get('https://api.vk.com/method/wall.get',\n",
    "                                params={\n",
    "                                    'access_token': token,\n",
    "                                    'v': version,\n",
    "                                    'domain': domain,\n",
    "                                    'count': count,\n",
    "                                    'offset': offset\n",
    "                                    }\n",
    "                                )\n",
    "        data = response.json()['response']['items']\n",
    "        offset += 100\n",
    "        all_posts.extend(data)\n",
    "        time.sleep(0.5)\n",
    "    return all_posts\n",
    "all_posts = take_all_posts()"
   ],
   "metadata": {
    "collapsed": false
   }
  },
  {
   "cell_type": "markdown",
   "source": [
    "Объединим данные 'posts' и 'reposts' в общую таблицу и сохраним в файл *.csv"
   ],
   "metadata": {
    "collapsed": false
   }
  },
  {
   "cell_type": "code",
   "execution_count": null,
   "outputs": [],
   "source": [
    "list_posts, list_reposts = [], []\n",
    "for post in all_posts:\n",
    "    list_posts.append(post['text'])\n",
    "    list_reposts.append(post['reposts']['count'])\n",
    "count_posts_reposts = pd.concat([pd.Series(list_posts), pd.Series(list_reposts)], axis=1)\n",
    "count_posts_reposts.index += 1\n",
    "count_posts_reposts.columns = ['text_post', 'count_reposts']\n",
    "count_posts_reposts.to_csv('count_posts_reposts.csv')\n",
    "count_posts_reposts.head()"
   ],
   "metadata": {
    "collapsed": false,
    "pycharm": {
     "is_executing": true
    }
   }
  },
  {
   "cell_type": "markdown",
   "source": [
    "Напишем функцию нахождения количества подписчиков в группе"
   ],
   "metadata": {
    "collapsed": false
   }
  },
  {
   "cell_type": "code",
   "execution_count": 5,
   "outputs": [
    {
     "data": {
      "text/plain": "0    2502\ndtype: int64"
     },
     "execution_count": 5,
     "metadata": {},
     "output_type": "execute_result"
    }
   ],
   "source": [
    "def count_followers():\n",
    "    group_id = 215426617\n",
    "    response = requests.get('https://api.vk.com/method/groups.getMembers',\n",
    "                                params={\n",
    "                                    'access_token': token,\n",
    "                                    'v': version,\n",
    "                                    'group_id': group_id\n",
    "                                    }\n",
    "                                )\n",
    "    data = response.json()['response']['count']\n",
    "    time.sleep(0.5)\n",
    "    return data\n",
    "count_followers = count_followers()\n",
    "count_followers = pd.Series(count_followers)\n",
    "count_followers"
   ],
   "metadata": {
    "collapsed": false
   }
  },
  {
   "cell_type": "markdown",
   "source": [
    "Посчитаем общее количество постов в группе"
   ],
   "metadata": {
    "collapsed": false
   }
  },
  {
   "cell_type": "code",
   "execution_count": 6,
   "outputs": [
    {
     "data": {
      "text/plain": "0    322\ndtype: int64"
     },
     "execution_count": 6,
     "metadata": {},
     "output_type": "execute_result"
    }
   ],
   "source": [
    "count_posts = pd.Series(count_posts_reposts['text_post'].count())\n",
    "count_posts"
   ],
   "metadata": {
    "collapsed": false
   }
  },
  {
   "cell_type": "markdown",
   "source": [
    "Посчитаем общее количество репостов к постам в группе"
   ],
   "metadata": {
    "collapsed": false
   }
  },
  {
   "cell_type": "code",
   "execution_count": 7,
   "outputs": [
    {
     "data": {
      "text/plain": "0    205\ndtype: int64"
     },
     "execution_count": 7,
     "metadata": {},
     "output_type": "execute_result"
    }
   ],
   "source": [
    "count_reposts = pd.Series(count_posts_reposts['count_reposts'].sum())\n",
    "count_reposts"
   ],
   "metadata": {
    "collapsed": false
   }
  },
  {
   "cell_type": "markdown",
   "source": [
    "Сведем все полученные данные в общую таблицу и сохраним в .csv файл"
   ],
   "metadata": {
    "collapsed": false
   }
  },
  {
   "cell_type": "code",
   "execution_count": 8,
   "outputs": [
    {
     "data": {
      "text/plain": "   count_posts  count_reposts  count_followers\n0          322            205             2502",
      "text/html": "<div>\n<style scoped>\n    .dataframe tbody tr th:only-of-type {\n        vertical-align: middle;\n    }\n\n    .dataframe tbody tr th {\n        vertical-align: top;\n    }\n\n    .dataframe thead th {\n        text-align: right;\n    }\n</style>\n<table border=\"1\" class=\"dataframe\">\n  <thead>\n    <tr style=\"text-align: right;\">\n      <th></th>\n      <th>count_posts</th>\n      <th>count_reposts</th>\n      <th>count_followers</th>\n    </tr>\n  </thead>\n  <tbody>\n    <tr>\n      <th>0</th>\n      <td>322</td>\n      <td>205</td>\n      <td>2502</td>\n    </tr>\n  </tbody>\n</table>\n</div>"
     },
     "execution_count": 8,
     "metadata": {},
     "output_type": "execute_result"
    }
   ],
   "source": [
    "total_counts = pd.concat([count_posts, count_reposts, count_followers], axis=1)\n",
    "total_counts.columns = ['count_posts', 'count_reposts', 'count_followers']\n",
    "total_counts.to_csv('total_counts.csv')\n",
    "total_counts"
   ],
   "metadata": {
    "collapsed": false
   }
  },
  {
   "cell_type": "code",
   "execution_count": 8,
   "outputs": [],
   "source": [],
   "metadata": {
    "collapsed": false
   }
  }
 ],
 "metadata": {
  "kernelspec": {
   "display_name": "Python 3",
   "language": "python",
   "name": "python3"
  },
  "language_info": {
   "codemirror_mode": {
    "name": "ipython",
    "version": 2
   },
   "file_extension": ".py",
   "mimetype": "text/x-python",
   "name": "python",
   "nbconvert_exporter": "python",
   "pygments_lexer": "ipython2",
   "version": "2.7.6"
  }
 },
 "nbformat": 4,
 "nbformat_minor": 0
}
